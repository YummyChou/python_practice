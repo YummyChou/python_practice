{
 "cells": [
  {
   "cell_type": "code",
   "execution_count": 3,
   "id": "250c45f8",
   "metadata": {},
   "outputs": [],
   "source": [
    "import pandas as pd\n",
    "import numpy as np\n",
    "import random\n",
    "from datetime import datetime, timedelta\n",
    "\n",
    "np.random.seed(42)\n",
    "random.seed(42)"
   ]
  },
  {
   "cell_type": "code",
   "execution_count": 12,
   "id": "2a350619",
   "metadata": {},
   "outputs": [],
   "source": [
    "# 1. 生成随机时间\n",
    "start_time = pd.to_datetime('2025031000000',format = '%Y%m%d%H%M%S')\n",
    "end_time = pd.to_datetime('20250312000000',format = '%Y%m%d%H%M%S')"
   ]
  },
  {
   "cell_type": "code",
   "execution_count": 20,
   "id": "d22569cb",
   "metadata": {},
   "outputs": [
    {
     "data": {
      "text/plain": [
       "172800.0"
      ]
     },
     "execution_count": 20,
     "metadata": {},
     "output_type": "execute_result"
    }
   ],
   "source": [
    "(end_time-start_time).total_seconds()"
   ]
  },
  {
   "cell_type": "code",
   "execution_count": 22,
   "id": "98fd7034",
   "metadata": {},
   "outputs": [],
   "source": [
    "def random_datetime(start, end, n):\n",
    "    return [start + pd.Timedelta(seconds=np.random.randint(0, int((end - start).total_seconds()))) for _ in range(n)]\n",
    "\n",
    "time_col = random_datetime(start_time, end_time, 60)"
   ]
  },
  {
   "cell_type": "code",
   "execution_count": 23,
   "id": "c2c4adce",
   "metadata": {},
   "outputs": [
    {
     "data": {
      "text/plain": [
       "DatetimeIndex(['2025-03-11 09:52:38', '2025-03-11 16:47:47',\n",
       "               '2025-03-11 12:38:52', '2025-03-11 04:48:14',\n",
       "               '2025-03-11 09:17:59', '2025-03-11 06:37:48',\n",
       "               '2025-03-10 15:14:46', '2025-03-11 14:08:57',\n",
       "               '2025-03-11 22:44:26', '2025-03-11 00:18:18',\n",
       "               '2025-03-11 07:18:47', '2025-03-11 11:05:24',\n",
       "               '2025-03-10 04:27:03', '2025-03-10 11:24:50',\n",
       "               '2025-03-10 18:40:21', '2025-03-10 18:00:20',\n",
       "               '2025-03-10 00:12:49', '2025-03-10 16:35:35',\n",
       "               '2025-03-10 18:02:05', '2025-03-10 01:28:31',\n",
       "               '2025-03-11 04:42:35', '2025-03-10 23:41:45',\n",
       "               '2025-03-11 20:22:45', '2025-03-11 12:16:48',\n",
       "               '2025-03-11 19:32:10', '2025-03-10 23:27:58',\n",
       "               '2025-03-11 10:02:17', '2025-03-11 17:31:43',\n",
       "               '2025-03-11 12:15:23', '2025-03-10 00:45:47',\n",
       "               '2025-03-11 10:24:15', '2025-03-10 18:15:25',\n",
       "               '2025-03-11 12:06:21', '2025-03-10 23:30:54',\n",
       "               '2025-03-11 22:20:45', '2025-03-11 09:09:06',\n",
       "               '2025-03-10 18:43:55', '2025-03-10 15:48:06',\n",
       "               '2025-03-10 18:33:23', '2025-03-10 08:45:51',\n",
       "               '2025-03-11 08:16:56', '2025-03-10 03:09:54',\n",
       "               '2025-03-10 19:11:32', '2025-03-10 01:04:50',\n",
       "               '2025-03-10 11:33:26', '2025-03-11 00:15:13',\n",
       "               '2025-03-11 15:21:39', '2025-03-10 02:26:32',\n",
       "               '2025-03-11 19:02:49', '2025-03-10 18:55:48',\n",
       "               '2025-03-11 10:30:43', '2025-03-11 09:22:54',\n",
       "               '2025-03-11 18:55:55', '2025-03-11 10:32:38',\n",
       "               '2025-03-10 13:29:15', '2025-03-10 04:45:59',\n",
       "               '2025-03-11 06:41:50', '2025-03-11 05:35:30',\n",
       "               '2025-03-10 22:14:37', '2025-03-10 09:58:40'],\n",
       "              dtype='datetime64[ns]', freq=None)"
      ]
     },
     "execution_count": 23,
     "metadata": {},
     "output_type": "execute_result"
    }
   ],
   "source": [
    "pd.to_datetime(time_col)"
   ]
  },
  {
   "cell_type": "code",
   "execution_count": null,
   "id": "0002d444",
   "metadata": {},
   "outputs": [],
   "source": []
  }
 ],
 "metadata": {
  "kernelspec": {
   "display_name": "Python 3 (ipykernel)",
   "language": "python",
   "name": "python3"
  },
  "language_info": {
   "codemirror_mode": {
    "name": "ipython",
    "version": 3
   },
   "file_extension": ".py",
   "mimetype": "text/x-python",
   "name": "python",
   "nbconvert_exporter": "python",
   "pygments_lexer": "ipython3",
   "version": "3.11.4"
  }
 },
 "nbformat": 4,
 "nbformat_minor": 5
}
