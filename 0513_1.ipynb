{
 "cells": [
  {
   "cell_type": "code",
   "execution_count": 1,
   "id": "2208ac89",
   "metadata": {},
   "outputs": [],
   "source": [
    "import pandas as pd"
   ]
  },
  {
   "cell_type": "code",
   "execution_count": 2,
   "id": "3a2c3c14",
   "metadata": {},
   "outputs": [],
   "source": [
    "# 模拟字符串数据\n",
    "data = {\n",
    "    'date_str': ['2024-05-14', '2024-05-15'],\n",
    "    'datetime_str': ['2024-05-14 12:34:56', '2024-05-15 00:00:01']\n",
    "}"
   ]
  },
  {
   "cell_type": "code",
   "execution_count": 3,
   "id": "d5ebe1b9",
   "metadata": {},
   "outputs": [
    {
     "name": "stdout",
     "output_type": "stream",
     "text": [
      "     date_str         datetime_str       date            datetime\n",
      "0  2024-05-14  2024-05-14 12:34:56 2024-05-14 2024-05-14 12:34:56\n",
      "1  2024-05-15  2024-05-15 00:00:01 2024-05-15 2024-05-15 00:00:01\n",
      "\n",
      "数据类型：\n",
      "date_str                object\n",
      "datetime_str            object\n",
      "date            datetime64[ns]\n",
      "datetime        datetime64[ns]\n",
      "dtype: object\n"
     ]
    }
   ],
   "source": [
    "df = pd.DataFrame(data)\n",
    "\n",
    "# 将字符串转换为 datetime64 类型\n",
    "df['date'] = pd.to_datetime(df['date_str'], format='%Y-%m-%d')  # 精确到日\n",
    "df['datetime'] = pd.to_datetime(df['datetime_str'], format='%Y-%m-%d %H:%M:%S')  # 精确到秒\n",
    "\n",
    "# 打印数据和数据类型\n",
    "print(df)\n",
    "print(\"\\n数据类型：\")\n",
    "print(df.dtypes)"
   ]
  },
  {
   "cell_type": "code",
   "execution_count": 6,
   "id": "ebd7a1fb",
   "metadata": {},
   "outputs": [
    {
     "name": "stdout",
     "output_type": "stream",
     "text": [
      "0   2024-05-14\n",
      "1   2024-05-15\n",
      "Name: date_str, dtype: datetime64[ns]\n"
     ]
    }
   ],
   "source": [
    "print(pd.to_datetime(df['date_str']))"
   ]
  },
  {
   "cell_type": "code",
   "execution_count": 10,
   "id": "2ae2b166",
   "metadata": {},
   "outputs": [
    {
     "data": {
      "text/plain": [
       "str"
      ]
     },
     "execution_count": 10,
     "metadata": {},
     "output_type": "execute_result"
    }
   ],
   "source": [
    "type(df['date_str'][0])"
   ]
  },
  {
   "cell_type": "code",
   "execution_count": 11,
   "id": "ec261ea4",
   "metadata": {},
   "outputs": [
    {
     "data": {
      "text/plain": [
       "pandas._libs.tslibs.timestamps.Timestamp"
      ]
     },
     "execution_count": 11,
     "metadata": {},
     "output_type": "execute_result"
    }
   ],
   "source": [
    "type(df['date'][0])"
   ]
  },
  {
   "cell_type": "code",
   "execution_count": 21,
   "id": "792b176a",
   "metadata": {},
   "outputs": [
    {
     "name": "stdout",
     "output_type": "stream",
     "text": [
      "True\n",
      "False\n"
     ]
    }
   ],
   "source": [
    "print(df['datetime'][0] > pd.to_datetime('2024-05-14 1:00:00'))\n",
    "print(df['datetime'][0] > pd.to_datetime('2024-05-14 22:00:00'))"
   ]
  },
  {
   "cell_type": "code",
   "execution_count": 22,
   "id": "3591f4f7",
   "metadata": {},
   "outputs": [
    {
     "name": "stdout",
     "output_type": "stream",
     "text": [
      "2024-05-14 01:00:00\n"
     ]
    }
   ],
   "source": [
    "print(pd.to_datetime('2024-05-14 1:00:00'))"
   ]
  },
  {
   "cell_type": "code",
   "execution_count": 23,
   "id": "9c62f11b",
   "metadata": {},
   "outputs": [
    {
     "name": "stdout",
     "output_type": "stream",
     "text": [
      "2024-05-14 00:00:00\n"
     ]
    }
   ],
   "source": [
    "print(pd.to_datetime('2024-05-14'))"
   ]
  },
  {
   "cell_type": "code",
   "execution_count": 28,
   "id": "4d14c43e",
   "metadata": {},
   "outputs": [
    {
     "name": "stdout",
     "output_type": "stream",
     "text": [
      "2024-05-14 00:00:00\n"
     ]
    }
   ],
   "source": [
    "print(pd.to_datetime('2024-05-14',format='%Y-%m-%d'))"
   ]
  },
  {
   "cell_type": "code",
   "execution_count": 31,
   "id": "270c9736",
   "metadata": {},
   "outputs": [
    {
     "name": "stdout",
     "output_type": "stream",
     "text": [
      "2024-05-14\n"
     ]
    }
   ],
   "source": [
    "print(df['date_str'][0])"
   ]
  },
  {
   "cell_type": "code",
   "execution_count": 44,
   "id": "d71c25ca",
   "metadata": {},
   "outputs": [
    {
     "name": "stdout",
     "output_type": "stream",
     "text": [
      "2024-05-15 00:00:00\n"
     ]
    }
   ],
   "source": [
    "print(pd.to_datetime(df['date_str'][1], format='%Y-%m-%d'))"
   ]
  },
  {
   "cell_type": "code",
   "execution_count": 45,
   "id": "e0678141",
   "metadata": {},
   "outputs": [
    {
     "name": "stdout",
     "output_type": "stream",
     "text": [
      "0   2024-05-14\n",
      "1   2024-05-15\n",
      "Name: date_str, dtype: datetime64[ns]\n"
     ]
    }
   ],
   "source": [
    "print(pd.to_datetime(df['date_str'][[0,1]], format='%Y-%m-%d'))"
   ]
  },
  {
   "cell_type": "code",
   "execution_count": 35,
   "id": "b4e8fea0",
   "metadata": {},
   "outputs": [
    {
     "data": {
      "text/plain": [
       "0   2024-05-14\n",
       "1   2024-05-15\n",
       "Name: date, dtype: datetime64[ns]"
      ]
     },
     "execution_count": 35,
     "metadata": {},
     "output_type": "execute_result"
    }
   ],
   "source": [
    "df['date']"
   ]
  },
  {
   "cell_type": "code",
   "execution_count": 46,
   "id": "3a8cf671",
   "metadata": {},
   "outputs": [
    {
     "name": "stdout",
     "output_type": "stream",
     "text": [
      "0   2024-05-14 12:34:56\n",
      "1   2024-05-15 00:00:01\n",
      "Name: datetime, dtype: datetime64[ns]\n",
      "0    2024-05-14\n",
      "1    2024-05-15\n",
      "Name: date_str_1, dtype: object\n",
      "0    2024-05-14 12:34:56\n",
      "1    2024-05-15 00:00:01\n",
      "Name: datetime_str_1, dtype: object\n"
     ]
    }
   ],
   "source": [
    "print(df['datetime'])\n",
    "df['date_str_1'] = df['datetime'].dt.strftime('%Y-%m-%d')\n",
    "print(df['date_str_1'])\n",
    "df['datetime_str_1'] = df['datetime'].dt.strftime('%Y-%m-%d %H:%M:%S')\n",
    "print(df['datetime_str_1'])"
   ]
  },
  {
   "cell_type": "code",
   "execution_count": 50,
   "id": "1e9c6fd9",
   "metadata": {},
   "outputs": [
    {
     "name": "stdout",
     "output_type": "stream",
     "text": [
      "0   2024-05-14 12:34:56\n",
      "1   2024-05-15 00:00:01\n",
      "Name: datetime, dtype: datetime64[ns]\n",
      "0    2024\n",
      "1    2024\n",
      "Name: datetime, dtype: int32\n",
      "0    5\n",
      "1    5\n",
      "Name: datetime, dtype: int32\n",
      "0    14\n",
      "1    15\n",
      "Name: datetime, dtype: int32\n",
      "0    12\n",
      "1     0\n",
      "Name: datetime, dtype: int32\n",
      "0    34\n",
      "1     0\n",
      "Name: datetime, dtype: int32\n",
      "0    56\n",
      "1     1\n",
      "Name: datetime, dtype: int32\n"
     ]
    }
   ],
   "source": [
    "print(df['datetime'])\n",
    "print(df['datetime'].dt.year)\n",
    "print(df['datetime'].dt.month)\n",
    "print(df['datetime'].dt.day)\n",
    "print(df['datetime'].dt.hour)\n",
    "print(df['datetime'].dt.minute)\n",
    "print(df['datetime'].dt.second)"
   ]
  },
  {
   "cell_type": "code",
   "execution_count": 55,
   "id": "24ca5921",
   "metadata": {},
   "outputs": [
    {
     "data": {
      "text/plain": [
       "Timestamp('2024-05-15 12:34:56')"
      ]
     },
     "execution_count": 55,
     "metadata": {},
     "output_type": "execute_result"
    }
   ],
   "source": [
    "df['datetime'][0] + pd.Timedelta(days = 1)"
   ]
  },
  {
   "cell_type": "code",
   "execution_count": 60,
   "id": "57e6ef43",
   "metadata": {},
   "outputs": [
    {
     "data": {
      "text/plain": [
       "Timestamp('2024-10-14 12:34:56')"
      ]
     },
     "execution_count": 60,
     "metadata": {},
     "output_type": "execute_result"
    }
   ],
   "source": [
    "df['datetime'][0] + pd.DateOffset(months = 5)"
   ]
  },
  {
   "cell_type": "code",
   "execution_count": 58,
   "id": "8058bf43",
   "metadata": {},
   "outputs": [
    {
     "data": {
      "text/plain": [
       "Timestamp('2024-05-14 13:34:56')"
      ]
     },
     "execution_count": 58,
     "metadata": {},
     "output_type": "execute_result"
    }
   ],
   "source": [
    "df['datetime'][0] + pd.Timedelta(hours = 1)"
   ]
  },
  {
   "cell_type": "code",
   "execution_count": 66,
   "id": "91c19751",
   "metadata": {},
   "outputs": [
    {
     "data": {
      "text/plain": [
       "Timestamp('2024-06-18 12:34:56')"
      ]
     },
     "execution_count": 66,
     "metadata": {},
     "output_type": "execute_result"
    }
   ],
   "source": [
    "df['datetime'][0] + pd.Timedelta(weeks = 5)"
   ]
  },
  {
   "cell_type": "code",
   "execution_count": 67,
   "id": "64a573df",
   "metadata": {},
   "outputs": [
    {
     "data": {
      "text/plain": [
       "Timestamp('2029-05-14 12:34:56')"
      ]
     },
     "execution_count": 67,
     "metadata": {},
     "output_type": "execute_result"
    }
   ],
   "source": [
    "df['datetime'][0] + pd.DateOffset(years = 5)"
   ]
  },
  {
   "cell_type": "code",
   "execution_count": 2,
   "id": "83d7bca0",
   "metadata": {},
   "outputs": [],
   "source": [
    "import requests"
   ]
  },
  {
   "cell_type": "code",
   "execution_count": 9,
   "id": "4373b35e",
   "metadata": {},
   "outputs": [],
   "source": [
    "response = requests.get('https://www.henkel.cn/brands-businesses/consumer-brands')"
   ]
  },
  {
   "cell_type": "code",
   "execution_count": 10,
   "id": "694573ce",
   "metadata": {
    "scrolled": true
   },
   "outputs": [
    {
     "data": {
      "text/plain": [
       "'\\r\\n\\r\\n\\r\\n\\r\\n\\r\\n\\r\\n\\r\\n\\r\\n<!DOCTYPE html>\\r\\n<html class=\"\" lang=\"zh\" dir=\"ltr\">\\r\\n    <head>\\r\\n<title>\\n汉高消费品牌 Henkel Consumer Brands\\n</title>\\n<meta name=\"title\" content=\"汉高消费品牌 Henkel Consumer Brands\"/>\\n<meta name=\"description\" content=\"汉高消费品牌 Henkel Consumer Brands 业务部是一个包含众多知名品牌的多品类增长平台。我们多样化的产品组合集中在两大核心品类：洗涤剂及家用护理，以及美发。\"/>\\n<meta http-equiv=\"content-Type\" content=\"text/html; charset=utf-8\"/>\\n<meta name=\"viewport\" content=\"width=device-width, initial-scale=1\"/>\\n<meta http-equiv=\"X-UA-Compatible\" content=\"IE=edge\"/>\\n<link rel=\"canonical\" href=\"https://www.henkel.cn/brands-businesses/consumer-brands\"/>\\n<meta property=\"og:type\" content=\"website\"/>\\n<meta property=\"og:title\" content=\"汉高消费品牌 Henkel Consumer Brands\"/>\\n<meta property=\"og:url\" content=\"https://www.henkel.cn/brands-businesses/consumer-brands\"/>\\n<meta property=\"og:image\" content=\"https://www.henkel.cn/resource/image/833780/16x9/1280/720/229b9851b6acd65135ffee099a3bec4d/42F17561210C4B1349939AC073DEC0E2/henkel-logo.png\"/>\\n<meta name=\"author\" content=\"Henkel\"/>\\n<meta name=\"google-site-verification\" content=\"OGV_pp9THB_N6JZhnSNulyxr6WQLbmscFM2K9Mrz2gU\" />\\n<meta name=\"msvalidate.01\" content=\"\" />\\n<meta name=\"baidu-site-verification\" content=\"e3JRwsIfHp\" />\\n<meta name=\"robots\" content=\"index,follow\"/>\\n<link rel=\"shortcut icon\" href=\"/resource/blob/496226/466da468bdb616488703ce9751da175f/favicon/cn.ico\"/>\\n<link rel=\"apple-touch-icon\" sizes=\"57x57\" href=\"/resource/crblob/944520/7309e0cab95ecb484300cb657670a810/apple-57x57px-data.png\">\\n<link rel=\"apple-touch-icon\" sizes=\"72x72\" href=\"/resource/crblob/944522/63ce5fc60cc219cf04adfb1b8c9e4429/apple-72x72px-data.png\">\\n<link rel=\"apple-touch-icon\" sizes=\"76x76\" href=\"/resource/crblob/944568/5217be3caee2a378b182eb7abc721ccc/apple-76x76px-data.png\">\\n<link rel=\"apple-touch-icon\" sizes=\"114x114\" href=\"/resource/crblob/944510/08cba94488ce3d259fef48235895ddee/apple-114x114px-data.png\">\\n<link rel=\"apple-touch-icon\" sizes=\"120x120\" href=\"/resource/crblob/944512/42b1b6507d55c514875bccaf83942384/apple-120x120px-data.png\">\\n<link rel=\"apple-touch-icon\" sizes=\"144x144\" href=\"/resource/crblob/944514/4d8d59f416104b296edb9403e54faad4/apple-144x144px-data.png\">\\n<link rel=\"apple-touch-icon\" sizes=\"152x152\" href=\"/resource/crblob/944516/cc3ba51d821ec1cb9b8d69c15250f4a2/apple-152x152px-data.png\">\\n<link rel=\"apple-touch-icon\" sizes=\"180x180\" href=\"/resource/crblob/944518/87ca66b5ece2765973989637c7f5fefb/apple-180x180px-data.png\">\\n<link rel=\"icon\" sizes=\"36x36\" type=image/png href=\"/resource/crblob/944506/30950231c8d9a94a668514ed7e8a7c43/android-36x36px-data.png\">\\n<link rel=\"icon\" sizes=\"48x48\" type=image/png href=\"/resource/crblob/944524/9ebfff76368cb87c6d041e5a6405762c/android-48x48px-data.png\">\\n<link rel=\"icon\" sizes=\"72x72\" type=image/png href=\"/resource/crblob/944526/42fbc50425bec145db63dab37f536492/android-72x72px-data.png\">\\n<link rel=\"icon\" sizes=\"96x96\" type=image/png href=\"/resource/crblob/944508/37d6b03bcfc688207332063cb0a73664/android-96x96px-data.png\">\\n<link rel=\"icon\" sizes=\"144x144\" type=image/png href=\"/resource/crblob/944502/4d8d59f416104b296edb9403e54faad4/android-144x144px-data.png\">\\n<link rel=\"icon\" sizes=\"192x192\" type=image/png href=\"/resource/crblob/944504/2ed1823ea8748364f9dca7dd355b6a65/android-192x192px-data.png\">\\n<meta http-equiv=\"Content-Security-Policy\" content=\"worker-src &#39;self&#39; blob:;\\ndefault-src &#39;self&#39; data:\\n&#39;unsafe-inline&#39; &#39;unsafe-eval&#39; www.glassdoor.com henkel01.wt-eu02.net *.edge-cdn.net *.video-cdn.net www.realvision.com www.youtube.com *.twimg.com *.fbcdn.net *.wcfbc.net *.cdninstagram.com *.sprinklr.com *.henkel-life-global.com *.henkel.stage.babiel.com *.henkel.com cdnjs.cloudflare.com netdna.bootstrapcdn.com *.henkel-life-deutschland.de *.henkel.de www.henkel.ru www.henkel.cn www.henkel.at www.henkel.ar www.henkel.cl www.henkel.co.jp www.henkel.co.kr www.henkel.co.th www.henkel.co.uk www.henkel.com henkel-henkel-coremedia-development.kube-dev.rz.babiel.com.ar www.henkel.com.au www.henkel.com.br www.henkel.com.co www.henkel.com.tr www.henkel.cz www.henkel.dk www.henkel.es www.henkel.fi www.henkel.fr www.henkel.gr www.henkel.in www.henkel.hr www.henkel.hu www.henkel.it www.henkel.mx www.henkel.no www.henkel.pl www.henkel.pt www.henkel.ro www.henkel.rs www.henkel.se www.henkel.si www.henkel.sk www.henkel.ua www.henkel.tw www.henkel-forscherwelt.de www.henkel-forscherwelt.com www.henkel-ricercamondo.it www.henkel-kesifdunyasi.com www.henkel-education.ru www.henkel-swiatmlodychbadaczy.pl www.mundodepesquisadores.com.br www.henkel-life-global.com www.henkel.co.id www.henkel.be www.henkel.nl www.henkel-life-iberica.es www.henkel-life-iberica.pt www.henkel-gcc.com www.henkel-renntag.de www.henkelna.com www.henkel-ventures.com www.phenion.de www.phenion.com www.phenion-us.com www.kongresroznorodnosci.pl www.henkel-demo.com.babiel.com www.henkel-ap.com henkel.ru henkel.cn henkel.at henkel.ar henkel.cl henkel.co.jp henkel.co.kr henkel.co.th henkel.co.uk henkel.com.ar henkel.com.au henkel.com.br henkel.com.co henkel.com.tr henkel.cz henkel.dk henkel.es henkel.fi henkel.fr henkel.gr henkel.in henkel.hr henkel.hu henkel.it henkel.mx henkel.no henkel.pl henkel.pt henkel.ro henkel.rs henkel.se henkel.si henkel.sk henkel.ua henkel.tw henkel-forscherwelt.de henkel-forscherwelt.com henkel-ricercamondo.it henkel-kesifdunyasi.com henkel-education.ru henkel-swiatmlodychbadaczy.pl mundodepesquisadores.com.br henkel-life-global.com henkel.co.id henkel.be henkel.nl henkel-life-iberica.es henkel-life-iberica.pt henkel-gcc.com henkel-renntag.de henkelna.com www.henkel-northamerica.com henkel-northamerica.com henkel-ventures.com phenion.de phenion.com phenion-us.com kongresroznorodnosci.pl henkel-demo.com.babiel.com henkel-ap.com henkel-na.com www.henkel-na.com henkel.lu www.henkel.lu henkel.ch charts3.equitystory.com media.licdn.com media-exp1.licdn.com cm.cms.henkel-henkel-coremedia-development.kube-dev.rz.babiel.com cdn.podigee.com podcast5fc086.podigee.io images.podigee.com www.youtube-nocookie.com cdn.cookielaw.org privacyportal-eu.onetrust.com player.podigee-cdn.net *.gigya.com *.sapcdm.cn code.highcharts.com v.qq.com media-exp1.licdn.com media-exp3.licdn.com snap.licdn.com px.ads.linkedin.com linkedin.com images.podigee-cdn.net fonts.gstatic.com www.tiktok.com www.facebook.com connect.facebook.net cdn.linkedin.oribi.io www.linkedin.com snap.licdn.com dm.henkel-dam.com *.babiel.com eu-api.friendlycaptcha.eu api.friendlycaptcha.com fritz-henkel.com v.youku.com player.youku.com\\nblob:\\n;\"/><link rel=\"alternate\" hreflang=\"x-default\" href=\"https://www.henkel.cn/brands-businesses/consumer-brands\"/>\\n<link rel=\"alternate\" hreflang=\"zh-CN\" href=\"https://www.henkel.cn/brands-businesses/consumer-brands\"/>\\n<script>\\nif(navigator.userAgent.indexOf(\"Mac\") > 0) {\\nvar root = document.getElementsByTagName(\"html\")[0];\\nroot.setAttribute(\"ismac\", \"true\");\\n}\\n</script>\\n<link href=\"/resource/crblob/1759280/c431683dab4d1cccd9d2c64b0f402770/noto-sans-sc-regular-woff2-data.woff2\" as=\"font\" type=\"font/woff2\" crossorigin>\\n<style>\\n@font-face {\\nfont-family: \"Noto Sans SC\";\\nsrc: url(\"/resource/crblob/1759280/c431683dab4d1cccd9d2c64b0f402770/noto-sans-sc-regular-woff2-data.woff2\") format(\"woff2\");\\nfont-weight: 400;\\nfont-style: normal;\\n}\\n</style><link href=\"/resource/crblob/1759276/7cae0ac1f9a37bbf238022ee1831d97d/noto-sans-sc-500-woff2-data.woff2\" as=\"font\" type=\"font/woff2\" crossorigin>\\n<style>\\n@font-face {\\nfont-family: \"Noto Sans SC\";\\nsrc: url(\"/resource/crblob/1759276/7cae0ac1f9a37bbf238022ee1831d97d/noto-sans-sc-500-woff2-data.woff2\") format(\"woff2\");\\nfont-weight: 600;\\nfont-style: normal;\\n}\\n</style><link href=\"/resource/crblob/1759278/bb648fe67ac1046fc50710309c9028b4/noto-sans-sc-700-woff2-data.woff2\" as=\"font\" type=\"font/woff2\" crossorigin>\\n<style>\\n@font-face {\\nfont-family: \"Noto Sans SC\";\\nsrc: url(\"/resource/crblob/1759278/bb648fe67ac1046fc50710309c9028b4/noto-sans-sc-700-woff2-data.woff2\") format(\"woff2\");\\nfont-weight: 800;\\nfont-style: normal;\\n}\\n</style>\\n<link rel=preload href=\"/resource/crblob/1974526/0a4802460fc871449fa093b33ebdbe2a/henkel-gt-flexa-vf-woff2-data.woff2\" as=\"font\" type=\"font/woff2\" crossorigin>\\n<style>\\n@font-face {\\nfont-family: \"Henkel GT Flexa VF\";\\nsrc: url(\"/resource/crblob/1974526/0a4802460fc871449fa093b33ebdbe2a/henkel-gt-flexa-vf-woff2-data.woff2\") format(\"woff2\");\\n}\\n</style>\\n<link href=\"/resource/crblob/1588726/6fa7fe1a1285c6b83d48d335327cbdb6/henkel-iconfont-20170112-woff-data.woff\" as=\"font\" type=\"font/woff2\" crossorigin>\\n<style>\\n@font-face {\\nfont-family: \"henkel-icon\";\\nsrc: url(\"/resource/crblob/1588726/6fa7fe1a1285c6b83d48d335327cbdb6/henkel-iconfont-20170112-woff-data.woff\") format(\"woff2\");\\nfont-weight: normal;\\nfont-style: normal;\\n}\\n</style>\\n<script type=\"text/javascript\">\\nfunction OptanonWrapper() {\\nwindow.dataLayer.push({event:\\'OneTrustGroupsUpdated\\'});\\n$(document).trigger(\\'updateCookies\\');\\n}\\n</script>\\n<script src=\"https://cdn.cookielaw.org/scripttemplates/otSDKStub.js\" defer fetchpriority=\"high\" type=\"text/javascript\" charset=\"UTF-8\"\\ndata-domain-script=\"d555c390-4ff4-4a37-b56a-2623f1859ac5\" data-document-language=true>\\n</script>\\n<script data-dynamic-lib-src=\"/resource/themes/corporate-rebrush/js/dynamic-libs/bowser.min-1749594-2.js\" ></script><script data-dynamic-lib-src=\"/resource/themes/corporate-rebrush/js/dynamic-libs/easyResponsiveTabs.min-1875608-2.js\" ></script><script data-dynamic-lib-src=\"/resource/themes/corporate-rebrush/js/dynamic-libs/friendly-challenge.min-1972688-1.js\" ></script><script data-dynamic-lib-src=\"/resource/themes/corporate-rebrush/js/dynamic-libs/gsap.min-1749596-3.js\" ></script><script data-dynamic-lib-src=\"/resource/themes/corporate-rebrush/js/dynamic-libs/highcharts.min-1749598-3.js\" ></script><script data-dynamic-lib-src=\"/resource/themes/corporate-rebrush/js/dynamic-libs/intersection-observer.min-1749606-3.js\" ></script><script data-dynamic-lib-src=\"/resource/themes/corporate-rebrush/js/dynamic-libs/isotope.pkgd.min-1749608-3.js\" ></script><script data-dynamic-lib-src=\"/resource/themes/corporate-rebrush/js/dynamic-libs/jquery.flippy.min-1749610-3.js\" ></script><script data-dynamic-lib-src=\"/resource/themes/corporate-rebrush/js/dynamic-libs/jquery.jscrollpane.min-1749612-3.js\" ></script><script data-dynamic-lib-src=\"/resource/themes/corporate-rebrush/js/dynamic-libs/jquery.mark.min-1749614-3.js\" ></script><script data-dynamic-lib-src=\"/resource/themes/corporate-rebrush/js/dynamic-libs/jquery.mousewheel.min-1749616-3.js\" ></script><script data-dynamic-lib-src=\"/resource/themes/corporate-rebrush/js/dynamic-libs/jquery.prettyPhoto.extensions.min-1749618-2.js\" ></script><script data-dynamic-lib-src=\"/resource/themes/corporate-rebrush/js/dynamic-libs/jquery.prettyPhoto.min-1749620-3.js\" ></script><script data-dynamic-lib-src=\"/resource/themes/corporate-rebrush/js/dynamic-libs/jquery.reveal.min-1749622-2.js\" ></script><script data-dynamic-lib-src=\"/resource/themes/corporate-rebrush/js/dynamic-libs/modernizr.min-1749624-69.js\" ></script><script data-dynamic-lib-src=\"/resource/themes/corporate-rebrush/js/dynamic-libs/mustache.min-1749626-2.js\" ></script><script data-dynamic-lib-src=\"/resource/themes/corporate-rebrush/js/dynamic-libs/mwheelIntent.min-1749628-2.js\" ></script><script data-dynamic-lib-src=\"/resource/themes/corporate-rebrush/js/dynamic-libs/panzoom.min-1749630-3.js\" ></script><script data-dynamic-lib-src=\"/resource/themes/corporate-rebrush/js/dynamic-libs/ScrollTrigger.min-1749590-3.js\" ></script><script data-dynamic-lib-src=\"/resource/themes/corporate-rebrush/js/dynamic-libs/swiperjs.min-1875610-2.js\" ></script>\\n<meta name=\"pbe\" content=\"css\"/>\\n<link rel=\"stylesheet\" href=\"/resource/themes/corporate-rebrush/css/corporate-rebrush-1588740-70.css\" ><link rel=\"stylesheet\" href=\"/resource/themes/corporate-rebrush/css/Hotfix-2804-2053952-2.css\" >\\n<script src=\"/resource/themes/corporate-rebrush/js/body-rebrush-2050836-4.js\" defer defer=\"true\" ></script><script src=\"/resource/themes/corporate-rebrush/js/bundle-2050838-1.js\" defer defer=\"true\" ></script><meta name=\"pbe\" content=\"js\"/>\\n<script type=\"text/plain\" class=\"optanon-category-C0004\">\\nif(location.pathname === \"/oportunidades-laborales/empleo-y-solicitud\") {\\n!function(f,b,e,v,n,t,s)\\n{if(f.fbq)return;n=f.fbq=function()\\n{n.callMethod? n.callMethod.apply(n,arguments):n.queue.push(arguments)}\\n;\\nif(!f._fbq)f._fbq=n;n.push=n;n.loaded=!0;n.version=\\'2.0\\';\\nn.queue=[];t=b.createElement(e);t.async=!0;\\nt.src=v;s=b.getElementsByTagName(e)[0];\\ns.parentNode.insertBefore(t,s)}(window, document,\\'script\\',\\n\\'https://connect.facebook.net/en_US/fbevents.js\\');\\nfbq(\\'init\\', \\'6124259060987746\\');\\nfbq(\\'track\\', \\'PageView\\');\\n}\\n</script>\\n<link rel=\"alternate\" href=\"https://www.henkel.cn/service/cn/494732/asFeed/index.xml\" type=\"application/rss+xml\" title=\"新闻稿\" />\\n<script type=\"text/plain\" class=\"do-load\">\\nvar wtJsContentGroups = [];\\nvar wtJsCustomParameters = [];\\nwtJsCustomParameters[1] = \"\";\\nwtJsCustomParameters[2] = \"1831726\";\\n// Creates the Webtrekk tracking pixel\\nwebtrekk = {};\\nwebtrekk.trackDomain = \"henkel01.wt-eu02.net\";\\nwebtrekk.trackId = \"957772004011134\";\\nwebtrekk.domain =\"\";\\nwebtrekk.cookieDomain = window.location.hostname;\\nwebtrekk.forceHTTPS = true;\\nwebtrekk.contentId = \"henkel-cn.cn.brands-and-businesses.consumer-brands-1831726\";\\nvar webtrekkGroups = \"henkel-cn.cn.brands-and-businesses.consumer-brands\";\\nvar tmpGroup = webtrekkGroups.split(\".\");\\nwtJsContentGroups = tmpGroup;\\nwtJsContentGroups.unshift(null);\\nwebtrekk.contentGroup = wtJsContentGroups;\\nwebtrekk.customParameter = wtJsCustomParameters;\\nwebtrekk.linkTrackPattern = new RegExp(\"(^/(image|blob)/(.+/)(data/)?(.+)$)\",\"g\");\\nwebtrekk.linkTrackReplace = \"/download/$5\";\\nwebtrekk.internalSearch = \"\";\\n</script>\\n<script data-webtrekksrc=\"/resource/themes/musterseiten/js/webtrekk-16428-12.js\"></script>\\n<script type=\"text/plain\" class=\"do-load\"><!--\\nif(typeof registerAlxEventHandler === \\'function\\') {\\nregisterAlxEventHandler(\\nfunction webtrekkTrackEvent(eventCategory, eventAction, eventName, eventValue) {\\nif(typeof(wt_sendinfo) != \"undefined\") {\\nvar encodedEventName = eventCategory + \":\" + eventAction + \":\" + eventName;\\nwt_sendinfo(encodedEventName, \"click\" /* we treat events like clicks on internal links */);\\n}\\n}\\n)\\n} else {\\nif (window.console && window.console.log) {\\nwindow.console.log(\\'[WARN] Cannot enable event tracking for Webtrekk: ALX tracking API not loaded.\\');\\n}\\n}//-->\\n</script>    </head>\\r\\n    <body class=\"\" >\\r\\n\\r\\n            <span id=\"ieMobileCSS\" hidden>/resource/themes/musterseiten/css/wp_landscape-213102-64.css</span>\\r\\n\\r\\n\\r\\n\\r\\n        <div id=\"wrapAll\" class=\"container-fluid\"   >\\r\\n<div id=\"contentWrap\" class=\"container\">\\n<header class=\"bab-header \" >\\n<div class=\"container\">\\n<div class=\"topNaviMobile mobileOnly\">\\n<a href=\"/\" class=\"a-logo \" aria-label=\"Henkel main page\">\\n<img class=\"a-logo__image\" alt=\"\" src=\"/resource/blob/737324/1129f40d0df611e51758a0d35e6cab78/data/henkel-logo-standalone-svg.svg\" />\\n</a>\\n<div class=\"topNaviMobile__tools\">\\n<button type=\"button\" class=\"topNaviMobile__tools--right\">\\n<svg width=\"24\" height=\"24\" viewBox=\"0 0 20 20\" fill=\"currentColor\">\\n<path d=\"M17.3546 18.3264L18.3334 17.3476L15.5637 14.5779V13.6616C16.4314 12.426 16.9381 10.9197 16.9381 9.30234C16.9381 5.08881 13.5159 1.66663 9.3024 1.66663C5.08887 1.66663 1.66669 5.08881 1.66669 9.30234C1.66669 13.5159 5.08887 16.938 9.3024 16.938C10.9128 16.938 12.4122 16.4313 13.6409 15.5775H14.5919L17.3546 18.3264ZM3.06194 9.30234C3.06194 5.85932 5.86632 3.05494 9.30933 3.05494C12.7523 3.05494 15.5567 5.85932 15.5567 9.30234C15.5567 12.7453 12.7523 15.5497 9.30933 15.5497C5.86632 15.5497 3.06194 12.7523 3.06194 9.30234Z\"/>\\n</svg>\\n<span class=\"sr-only\">\\n搜索 </span>\\n</button>\\n<button type=\"button\" class=\"topNaviMobile__tools--left mobile-menu\">\\n<svg width=\"24\" height=\"24\" viewBox=\"0 0 24 24\" fill=\"currentColor\" class=\"svg--burger\">\\n<path d=\"M19.9992 4.80005H20.2898H20.3994H18.7987H17.5982H2.3999V6.40005H16.7979H17.4558H17.7426H18.7987H19.1989H20.3994H21.5999V4.80005H19.9992Z\"/>\\n<path d=\"M19.9992 11.202H20.2898H20.3994H18.7987H17.5982H2.3999V12.802H16.7979H17.4558H17.7426H18.7987H19.1989H20.3994H21.5999V11.202H19.9992Z\"/>\\n<path d=\"M19.9992 17.604H20.2898H20.3994H18.7987H17.5982H2.3999V19.204H16.7979H17.4558H17.7426H18.7987H19.1989H20.3994H21.5999V17.604H19.9992Z\"/>\\n</svg>\\n<svg width=\"24\" height=\"24\" viewBox=\"0 0 40 40\" fill=\"currentColor\" xmlns=\"http://www.w3.org/2000/svg\" class=\"svg--close\">\\n<path d=\"M35.0388 2.5L37.0441 4.5053L24 17.9787V21.9205L37.5 35.0388L35.4946 37.0441L22.0594 24H18.0415L4.96121 37.4999L2.95587 35.4946L16 22.0321V18.0066L2.5 4.96113L4.50534 2.95584L18.0195 16H21.9689L35.0388 2.5Z\"/>\\n</svg>\\n<span class=\"sr-only\">\\n菜单 </span>\\n</button>\\n</div>\\n<div class=\"topNaviMobile__searchWrapper\">\\r\\n<div class=\"topNaviMobile__search\">\\r\\n<form action=\"/service/search/cn/492950\" class=\"topNaviMobile__search-form\">\\r\\n<label class=\"sr-only\" for=\"mobile-quicksearch-search\"></label>\\r\\n<input\\r\\nid=\"mobile-quicksearch-search\"\\r\\ntype=\"text\"\\r\\nclass=\"input\"\\r\\nname=\"query\"\\r\\ndata-js-autocomplete-base-url=\"/service/search/cn/492950\"\\r\\ndata-js-root-navigation-id=\"496226\"\\r\\ndata-js-section-tag-id=\"\"\\r\\n/>\\r\\n<button type=\"submit\" aria-label=\"Submit\" class=\"submit\">\\r\\n<svg width=\"24\" height=\"24\" viewBox=\"0 0 20 20\" fill=\"currentColor\">\\r\\n<path d=\"M17.3546 18.3264L18.3334 17.3476L15.5637 14.5779V13.6616C16.4314 12.426 16.9381 10.9197 16.9381 9.30234C16.9381 5.08881 13.5159 1.66663 9.3024 1.66663C5.08887 1.66663 1.66669 5.08881 1.66669 9.30234C1.66669 13.5159 5.08887 16.938 9.3024 16.938C10.9128 16.938 12.4122 16.4313 13.6409 15.5775H14.5919L17.3546 18.3264ZM3.06194 9.30234C3.06194 5.85932 5.86632 3.05494 9.30933 3.05494C12.7523 3.05494 15.5567 5.85932 15.5567 9.30234C15.5567 12.7453 12.7523 15.5497 9.30933 15.5497C5.86632 15.5497 3.06194 12.7523 3.06194 9.30234Z\"/>\\r\\n</svg>\\r\\n</button>\\r\\n</form>\\r\\n</div>\\r\\n</div> </div>\\n<div class=\"topNavi\">\\n<a href=\"/\" class=\"a-logo visible-lg-block\" aria-label=\"Henkel main page\">\\n<img class=\"a-logo__image\" alt=\"\" src=\"/resource/blob/737324/1129f40d0df611e51758a0d35e6cab78/data/henkel-logo-standalone-svg.svg\" />\\n</a> <div class=\"topNavi__tools visible-lg-block\">\\n<div class=\"service\">\\n<ul>\\n<li class=\"iconButton\">\\n<a href=\"/contact-us\" class=\"bab-button bab-button--icon-only\" aria-label=\"contact\" >\\n<svg width=\"20\" height=\"20\" viewBox=\"0 0 20 20\" fill=\"currentColor\">\\n<path d=\"M1 3.5V16.3571H19V3.5H1ZM11.0221 10.5714H8.98429L3.19858 4.78571H16.8079L11.0221 10.5714ZM6.03356 9.43999V10.4107L2.28571 14.1586V5.69214L6.03356 9.43999ZM7.42857 10.835L8.45071 11.8571H11.5557L12.5779 10.835L16.8143 15.0714H3.205L7.42857 10.835ZM13.9664 10.4171V9.43999L17.7143 5.69214V14.1586L13.9664 10.4171Z\"/>\\n</svg>\\n<span class=\"mobileOnly\">\\n联系\\n</span>\\n</a>\\n</li>\\n<li class=\"iconButton\">\\n<a href=\"#tooltipMyContent-desktop\" class=\"tooltip-handler bab-button bab-button--icon-only\" aria-label=\"Add to my collection\">\\n<svg width=\"20\" height=\"20\" viewBox=\"0 0 20 20\" fill=\"currentColor\">\\n<path d=\"M19 16.3571H1V3.5H5.76355L7.69213 5.42857H19V16.3571ZM2.28571 15.0714H17.7143V6.71429H7.16502L5.23645 4.78571H2.28571V15.0714Z\"/>\\n</svg>\\n<span class=\"mobileOnly\">\\n添加到我的收藏夹\\n</span>\\n</a>\\n</li>\\n<li class=\"iconButton\">\\n<a href=\"https://www.henkel.com/global-websites-henkel\" class=\"tooltip-handler bab-button bab-button--icon-only\" aria-label=\"Website selector\">\\n<svg width=\"20\" height=\"20\" viewBox=\"0 0 20 20\" fill=\"currentColor\">\\n<path d=\"M10 1C5.03714 1 1 5.03714 1 10C1 14.9629 5.03714 19 10 19C14.9629 19 19 14.9629 19 10C19 5.03714 14.9629 1 10 1ZM17.7143 10C17.7143 10.9 17.5536 11.7679 17.2643 12.5714H14.32C14.4357 11.7614 14.5 10.9 14.5 10C14.5 9.1 14.4357 8.23857 14.32 7.42857H17.2643C17.5536 8.23214 17.7143 9.1 17.7143 10ZM10 17.7143C9.06143 17.7143 8.05857 16.4993 7.42214 14.5064L8.07143 13.8571H11.9286L12.5779 14.5064C11.9414 16.4993 10.9386 17.7143 10 17.7143ZM6.9786 12.5714C6.85646 11.7807 6.78571 10.9193 6.78571 10C6.78571 9.08071 6.85646 8.21929 6.9786 7.42857H13.015C13.1371 8.21929 13.2079 9.08071 13.2079 10C13.2079 10.9193 13.1371 11.7807 13.015 12.5714H6.9786ZM2.73568 12.5714C2.4464 11.7679 2.28571 10.9 2.28571 10C2.28571 9.1 2.4464 8.23214 2.73568 7.42857H5.68002C5.5643 8.23857 5.5 9.1 5.5 10C5.5 10.9 5.5643 11.7614 5.68002 12.5714H2.73568ZM10 2.28571C10.9386 2.28571 11.9414 3.50071 12.5779 5.49357L11.9286 6.14286H8.07143L7.42214 5.49357C8.05857 3.50071 9.06143 2.28571 10 2.28571ZM16.3257 5.60286L15.7857 6.14286H14.0757C13.7671 4.80571 13.2978 3.66143 12.7128 2.78714C14.185 3.34643 15.445 4.33 16.3257 5.60286ZM7.28716 2.78714C6.70216 3.655 6.23931 4.80571 5.92431 6.14286H4.21429L3.67431 5.60286C4.55502 4.33 5.81502 3.34643 7.28716 2.78714ZM3.67431 14.3971L4.21429 13.8571H5.92431C6.23288 15.1943 6.70216 16.3386 7.28716 17.2129C5.81502 16.6536 4.55502 15.67 3.67431 14.3971ZM12.7128 17.2129C13.2978 16.345 13.7607 15.1943 14.0757 13.8571H15.7857L16.3257 14.3971C15.445 15.67 14.185 16.6536 12.7128 17.2129Z\"/>\\n</svg>\\n<span class=\"mobileOnly\">\\nGlobal | Change Website </span>\\n</a>\\n</li><li>\\r\\n<form action=\"/service/search/cn/492950\" class=\"search\" id=\"quick-search\">\\r\\n<label class=\"sr-only\" for=\"search\"></label>\\r\\n<input\\r\\ntype=\"text\"\\r\\nname=\"query\"\\r\\nplaceholder=\"搜索关键词\"\\r\\nclass=\"input ui-autocomplete-input\"\\r\\nid=\"search\"\\r\\ndata-js-autocomplete-base-url=\"/service/search/cn/492950\"\\r\\ndata-js-root-navigation-id=\"496226\"\\r\\ndata-js-section-tag-id=\"\"\\r\\n/>\\r\\n<button type=\"submit\" aria-label=\"Submit\" class=\"submit\">\\r\\n<svg width=\"20\" height=\"20\" viewBox=\"0 0 20 20\" fill=\"currentColor\">\\r\\n<path d=\"M17.3546 18.3264L18.3334 17.3476L15.5637 14.5779V13.6616C16.4314 12.426 16.9381 10.9197 16.9381 9.30234C16.9381 5.08881 13.5159 1.66663 9.3024 1.66663C5.08887 1.66663 1.66669 5.08881 1.66669 9.30234C1.66669 13.5159 5.08887 16.938 9.3024 16.938C10.9128 16.938 12.4122 16.4313 13.6409 15.5775H14.5919L17.3546 18.3264ZM3.06194 9.30234C3.06194 5.85932 5.86632 3.05494 9.30933 3.05494C12.7523 3.05494 15.5567 5.85932 15.5567 9.30234C15.5567 12.7453 12.7523 15.5497 9.30933 15.5497C5.86632 15.5497 3.06194 12.7523 3.06194 9.30234Z\"/>\\r\\n</svg>\\r\\n</button>\\r\\n</form>\\r\\n</li> </ul>\\n</div>\\n<div id=\"tooltipContact-desktop\" class=\"tooltipBox tooltip\" style=\"top: 5em; right: 0px;\">\\n<ul class=\"link-list\">\\n<li>\\n<a href=\"/contact-us\" data-webtrekkactionname=\"page-mail\" class=\"related\">\\n<i class=\"icon-arrow_link2\"> </i>\\n联系我们公司 </a>\\n</li> <li>\\n<a href=\"mailto:?subject=汉高消费品牌 Henkel Consumer Brands&body=\">\\n<i class=\"icon-arrow_link2\"></i>\\n通过电子邮件发送本页 </a>\\n</li>\\n</ul>\\n<a href=\"javascript:void(0);\" class=\"close\">\\n<span class=\"sr-only\">关闭</span>\\n</a>\\n</div>\\n<div id=\"tooltipMyContent-desktop\" class=\"tooltipBox tooltip\">\\n<ul class=\"link-list\">\\n<li>\\n<div class=\"\">\\n<a href=\"#\" class=\"add-to-content\">\\n<i class=\"icon-addcontent\"> </i>添加到我的收藏夹\\n<span class=\"contentId\" style=\"display: none;\">1831726</span>\\n<span class=\"contentType\" style=\"display: none;\">HKChannel</span>\\n<span class=\"contentView\" style=\"display: none;\">myContentLinks</span>\\n</a>\\n</div> </li>\\n<li>\\n<a href=\"/my-collection\">\\n<i class=\"icon-arrow_link2\"></i>\\n显示我的收藏夹 <span class=\"mycontent-count\">(0)</span>\\n</a>\\n</li>\\n</ul>\\n<a href=\"javascript:void(0);\" class=\"close\">\\n<span class=\"sr-only\">关闭</span>\\n</a>\\n</div>\\n<div id=\"tooltipSocial-desktop\" class=\"shareBox share tooltip\">\\n<h3>社交媒体</h3>\\n<p>分享本页！</p>\\n<div class=\"shariff\" data-lang=\"\" data-backend-url=\"null\" data-url=\"https://www.henkel.cn/brands-businesses/consumer-brands\"\\ndata-services=\"[linkedin,qzone,tencent-weibo,weibo]\" data-orientation=\"vertical\">\\n</div> <a href=\"javascript:void(0);\" class=\"close\">\\n<span class=\"sr-only\">关闭</span>\\n</a>\\n</div> </div>\\n<div class=\"topNavi__navWrapper\">\\r\\n<div class=\"topNavi__nav\">\\r\\n<div class=\"topNavi__nav--left-column\">\\r\\n<nav class=\"main-navigation \">\\r\\n<a href=\"/company\" class=\"main-navigation__first-level \" tabindex=\"0\">\\r\\n关于汉高 </a>\\r\\n<div class=\"main-navigation__fly-out\">\\r\\n<nav class=\"main-links-nav\">\\r\\n<a href=\"/company\" class=\"main-links-nav__main-link visible-lg-block\">\\n<span class=\"main-links-nav__headline\">关于汉高</span>\\n<p>谁是汉高，又是什么驱动着我们?\\n在汉高，凝聚我们的是共同的企业宗旨&quot;Pioneers at heart for the good of generations&quot;和战略框架。</p>\\n<span class=\"bab-button bab-button--primary\" role=\"button\">\\n点击详情\\n</span>\\n</a>\\n<nav class=\"main-links-nav__link-list\">\\n<a href=\"/company/downloads\" target=\"_self\"\\nclass=\"bab-button bab-button--icon\">下载</a>\\n<a href=\"/contact-us\" target=\"_self\"\\nclass=\"bab-button bab-button--icon\">联系</a>\\n</nav> </nav>\\r\\n<nav class=\"second-level-nav\">\\r\\n<span class=\"menu-back\">Main Menu</span>\\n<a class=\"subtitle-small\" href=/company>关于汉高</a>\\n<a class=\"nav-link\" href=\"/company/corporate-culture\" >\\n企业文化 </a><a class=\"nav-link\" href=\"/company/strategy\" >\\n战略框架 </a><a class=\"nav-link\" href=\"/company/henkel-brand\" >\\n汉高品牌 </a><a class=\"nav-link\" href=\"/company/management-board\" >\\n管理 </a><a class=\"nav-link nav-link--third-level\" href=\"/company/governance-and-compliance\" aria-haspopup=true data-third-level-index=4 >\\n治理及合规 </a><a class=\"nav-link\" href=\"/company/diversity-equity-inclusion\" >\\n多元、平等及包容 </a><a class=\"nav-link nav-link--third-level\" href=\"/company/milestones-and-achievements\" aria-haspopup=true data-third-level-index=6 >\\n里程碑及成果 </a><a class=\"nav-link\" href=\"/company/partners-and-suppliers\" >\\n合作伙伴及供应商 </a> </nav>\\r\\n<div class=\"third-level-nav third-level-nav--hidden\">\\r\\n<nav class=\"third-level-nav-wrap\" data-third-level-index=\"4\">\\r\\n<span class=\"menu-back\">关于汉高</span>\\n<a class=\"subtitle-small\" href=/company/governance-and-compliance>治理及合规</a>\\n<a class=\"nav-link\" href=\"/company/governance-and-compliance/compliance-hotline\" tabindex=-1>\\n合规检举流程及合规热线 </a> </nav>\\r\\n<nav class=\"third-level-nav-wrap\" data-third-level-index=\"6\">\\r\\n<span class=\"menu-back\">关于汉高</span>\\n<a class=\"subtitle-small\" href=/company/milestones-and-achievements>里程碑及成果</a>\\n<a class=\"nav-link\" href=\"/company/milestones-and-achievements/company-history\" tabindex=-1>\\n历史 </a><a class=\"nav-link\" href=\"/company/milestones-and-achievements/ranking-and-awards\" tabindex=-1>\\n排名及奖项 </a> </nav>\\r\\n</div>\\r\\n<nav class=\"teaser-nav active\">\\r\\n<a data-wt-view=\"teaser\" data-wt-contenttype=\"HKTeaser\" aria-label=\"重塑想象，激发美好生活\"\\nclass=\"link-element teaser colorful--white colorful-element \"\\nhref=\"/company/henkel-brand\"\\ntarget=\"\">\\n<div class=\"img-wrap\">\\r\\n<div class=\"img-wrap__crop img-wrap__crop--tn-4x3 img-wrap__crop--sm-4x3 img-wrap__crop--md-3x2 img-wrap__crop--lg-3x2\">\\r\\n<picture class=\"image-rwd bab-image-hoverzoom \"\\r\\ndata-transformationName=\"Image3:2\">\\r\\n<source\\r\\ndata-srcset=\"/resource/image/1756858/3x2/1000/667/3d5308421ebf64840cc8399788acec9b/8C0F57A0A0733F172B7EB0F246C065D5/henkel-brand-campaign-recyclability-1-3-2.webp 1x, /resource/image/1756858/3x2/2000/1334/526d8f44a5f8db768e72a7e7eb3b8303/FC2B174C0338984053359D127D537DD5/henkel-brand-campaign-recyclability-1-3-2.webp 2x\" media=\"(min-width: 1250px)\" sizes=\"100vw\">\\r\\n<source\\r\\ndata-srcset=\"/resource/image/1756858/3x2/750/500/34fa3c874751aa785f9cc661b59a26d9/B43EB78BB8654051A77063F9836BE2A4/henkel-brand-campaign-recyclability-1-3-2.webp 1x, /resource/image/1756858/3x2/1500/1000/c7159bd3fbe0fcdd85c17b688b082210/54D24E3DDD2F5743AD14760BBF2B690A/henkel-brand-campaign-recyclability-1-3-2.webp 2x\" media=\"(min-width: 980px)\" sizes=\"100vw\">\\r\\n<source\\r\\ndata-srcset=\"/resource/image/1756858/4x3/500/375/c1de71c6c0628fd115767f566d253c3b/73FAD20CF65B105AADA86ADEB3484710/henkel-brand-campaign-recyclability-1-3-2.webp 1x, /resource/image/1756858/4x3/1000/750/bb2560a2ac58d6f39fe19ee5b017933e/B6473ED6B6782400356A2FBD2D1CA648/henkel-brand-campaign-recyclability-1-3-2.webp 2x\" media=\"(min-width: 730px)\" sizes=\"100vw\">\\r\\n<source\\r\\ndata-srcset=\"/resource/image/1756858/4x3/335/251/3adb0f4ac515e5eae10c86528ef92c9c/8F72FC1A5B341DCDB2BB8C1DFDC9C638/henkel-brand-campaign-recyclability-1-3-2.webp 1x, /resource/image/1756858/4x3/670/502/852f1cddbf732d5682304be034549fa4/B629AAE624A66547212E7BF50D29EC8C/henkel-brand-campaign-recyclability-1-3-2.webp 2x\" media=\"(min-width: 0px)\" sizes=\"100vw\">\\r\\n<img class=\"img-responsive lazyload\" alt=\"henkel-brand-campaign-recyclability-1-3-2\" data-src=/resource/image/1756858/3x2/1000/667/3d5308421ebf64840cc8399788acec9b/8C0F57A0A0733F172B7EB0F246C065D5/henkel-brand-campaign-recyclability-1-3-2.webp />\\r\\n</picture>\\r\\n</div>\\r\\n</div>\\n<section>\\n<h3 class=\"link-title colorful__white-headline--black\">\\n重塑想象，激发美好生活 </h3>\\n<span class=\"link-text line-clamp colorful__white-text\">\\n<!-- this div is needed, so that line-clamp works the same way on firefox, as in chrome -->\\n<div class=\"line-clamp-browser-fixes\">\\n<div><p>全新的汉高品牌将我们的传统与愿景结合在一起：凭借我们的核心优势，号召大家携手塑造有意义的未来，推动社会进步。</p></div>\\n</div>\\n</span>\\n<button data-webtrekkactionname=\"content-links\" class=\"bab-button--link bab-button bab-button--link\" aria-label=\"重塑想象，激发美好生活\" href=\"/company/henkel-brand\" type=\"button\">\\n点击详情\\n</button> </section>\\n</a> </nav>\\r\\n</div>\\r\\n</nav><nav class=\"main-navigation current-page\">\\r\\n<a href=\"/brands-businesses\" class=\"main-navigation__first-level \" tabindex=\"0\">\\r\\n业务 </a>\\r\\n<div class=\"main-navigation__fly-out\">\\r\\n<nav class=\"main-links-nav\">\\r\\n<a href=\"/brands-businesses\" class=\"main-links-nav__main-link visible-lg-block\">\\n<span class=\"main-links-nav__headline\">业务</span>\\n<p>了解更多来自汉高粘合剂技术（Henkel Adhesive Technologies）和汉高消费品牌（Henkel Consumer Brands）旗下的技术与品牌。</p>\\n<span class=\"bab-button bab-button--primary\" role=\"button\">\\n点击详情\\n</span>\\n</a>\\n<nav class=\"main-links-nav__link-list\">\\n<a href=\"/contact-us\" target=\"_self\"\\nclass=\"bab-button bab-button--icon\">联系</a>\\n<a href=\"https://mysds.henkel.com/index.html#/appSelection\" target=\"_blank\"\\nclass=\"bab-button bab-button--icon\">数据资料</a>\\n</nav> </nav>\\r\\n<nav class=\"second-level-nav\">\\r\\n<span class=\"menu-back\">Main Menu</span>\\n<a class=\"subtitle-small\" href=/brands-businesses>业务</a>\\n<a class=\"nav-link nav-link--third-level\" href=\"/brands-businesses/adhesive-technologies\" aria-haspopup=true data-third-level-index=0 >\\n汉高粘合剂技术 Henkel&#xa0;Adhesive Technologies </a><a class=\"nav-link nav-link--third-level current-page\" href=\"/brands-businesses/consumer-brands\" aria-haspopup=true data-third-level-index=1 >\\n汉高消费品牌&#xa0;Henkel&#xa0;Consumer Brands </a> </nav>\\r\\n<div class=\"third-level-nav third-level-nav--hidden\">\\r\\n<nav class=\"third-level-nav-wrap\" data-third-level-index=\"0\">\\r\\n<span class=\"menu-back\">业务</span>\\n<a class=\"subtitle-small\" href=/brands-businesses/adhesive-technologies>汉高粘合剂技术 Henkel&#xa0;Adhesive Technologies</a>\\n<a class=\"nav-link\" href=\"/brands-businesses/adhesive-technologies/about-us\" tabindex=-1>\\n关于我们 </a><a class=\"nav-link\" href=\"/brands-businesses/adhesive-technologies/driving-sustainability\" tabindex=-1>\\n推动可持续发展&#xa0; </a><a class=\"nav-link\" href=\"/brands-businesses/adhesive-technologies/research-and-development\" tabindex=-1>\\n研发 </a><a class=\"nav-link\" href=\"/brands-businesses/adhesive-technologies/open-innovation-and-venturing\" tabindex=-1>\\n开放式创新与投资 </a> </nav>\\r\\n<nav class=\"third-level-nav-wrap\" data-third-level-index=\"1\">\\r\\n<span class=\"menu-back\">业务</span>\\n<a class=\"subtitle-small current-page\" href=/brands-businesses/consumer-brands>汉高消费品牌&#xa0;Henkel&#xa0;Consumer Brands</a>\\n<a class=\"nav-link\" href=\"/brands-businesses/consumer-brands/about-us\" tabindex=-1>\\n关于我们 </a><a class=\"nav-link\" href=\"/brands-businesses/consumer-brands/driving-sustainability\" tabindex=-1>\\n推动可持续发展 </a><a class=\"nav-link\" href=\"/brands-businesses/consumer-brands/research-and-development\" tabindex=-1>\\n研发 </a><a class=\"nav-link\" href=\"/brands-businesses/consumer-brands/open-innovation-and-venturing\" tabindex=-1>\\n开放式创新与投资 </a> </nav>\\r\\n</div>\\r\\n<nav class=\"teaser-nav active\">\\r\\n</nav>\\r\\n</div>\\r\\n</nav><nav class=\"main-navigation \">\\r\\n<a href=\"/sustainability\" class=\"main-navigation__first-level \" tabindex=\"0\">\\r\\n可持续发展 </a>\\r\\n<div class=\"main-navigation__fly-out\">\\r\\n<nav class=\"main-links-nav\">\\r\\n<a href=\"/sustainability\" class=\"main-links-nav__main-link visible-lg-block\">\\n<span class=\"main-links-nav__headline\">可持续发展</span>\\n<p>作为可持续发展领域的领导者，我们希望在负责任地塑造企业未来和创造经济效益的同时，为可持续发展开拓全新的解决方案。</p>\\n<span class=\"bab-button bab-button--primary\" role=\"button\">\\n点击详情\\n</span>\\n</a> </nav>\\r\\n<nav class=\"second-level-nav\">\\r\\n<span class=\"menu-back\">Main Menu</span>\\n<a class=\"subtitle-small\" href=/sustainability>可持续发展</a>\\n<a class=\"nav-link\" href=\"/sustainability/strategy\" >\\n战略 </a><a class=\"nav-link\" href=\"/sustainability/transformational-impact\" >\\n变革影响 </a><a class=\"nav-link nav-link--third-level\" href=\"/sustainability/regenerative-planet\" aria-haspopup=true data-third-level-index=2 >\\n再生星球 </a><a class=\"nav-link\" href=\"/sustainability/thriving-communities\" >\\n繁荣社区 </a><a class=\"nav-link\" href=\"/sustainability/trusted-partner\" >\\n信赖的合作伙伴 </a><a class=\"nav-link nav-link--third-level\" href=\"/sustainability/levers-for-change\" aria-haspopup=true data-third-level-index=5 >\\n实现变革的要素 </a><a class=\"nav-link\" href=\"/sustainability/sustainability-report\" >\\n可持续发展报告 </a><a class=\"nav-link\" href=\"/sustainability/corporate-citizenship\" >\\n企业公民 </a> </nav>\\r\\n<div class=\"third-level-nav third-level-nav--hidden\">\\r\\n<nav class=\"third-level-nav-wrap\" data-third-level-index=\"2\">\\r\\n<span class=\"menu-back\">可持续发展</span>\\n<a class=\"subtitle-small\" href=/sustainability/regenerative-planet>再生星球</a>\\n<a class=\"nav-link\" href=\"/sustainability/regenerative-planet/clima\" tabindex=-1>\\n气候 </a><a class=\"nav-link\" href=\"/sustainability/regenerative-planet/circular-economy\" tabindex=-1>\\n循环经济 </a><a class=\"nav-link\" href=\"/sustainability/regenerative-planet/natural-resources\" tabindex=-1>\\n自然资源 </a> </nav>\\r\\n<nav class=\"third-level-nav-wrap\" data-third-level-index=\"5\">\\r\\n<span class=\"menu-back\">可持续发展</span>\\n<a class=\"subtitle-small\" href=/sustainability/levers-for-change>实现变革的要素</a>\\n<a class=\"nav-link\" href=\"/sustainability/levers-for-change/products-technologies\" tabindex=-1>\\n我们的产品和技术 </a><a class=\"nav-link\" href=\"/sustainability/levers-for-change/our-people\" tabindex=-1>\\n我们的员工 </a><a class=\"nav-link\" href=\"/sustainability/levers-for-change/initiatives-and-partnerships\" tabindex=-1>\\n倡议和伙伴关系 </a> </nav>\\r\\n</div>\\r\\n<nav class=\"teaser-nav active\">\\r\\n<div class=\"download teaser light-gray no-picture\">\\n<div class=\"pdfDownloadBackground\">\\n<div class=\"img-wrap\">\\r\\n<div class=\"img-wrap__crop img-wrap__crop--3x2\">\\r\\n<picture class=\"image-rwd \"\\r\\ndata-transformationName=\"Image230_3:2\">\\r\\n<source\\r\\ndata-srcset=\"/resource/image/2044102/3x2/1000/666/5ee12c174ae460e9369f04e15180318a/E21DD20A16C5A3D853E9697E2283F137/2024-sustainabilityreport-teaser-with-background-en.webp 1x, /resource/image/2044102/3x2/1000/666/5ee12c174ae460e9369f04e15180318a/E21DD20A16C5A3D853E9697E2283F137/2024-sustainabilityreport-teaser-with-background-en.webp 2x\" media=\"(min-width: 1250px)\" sizes=\"100vw\">\\r\\n<source\\r\\ndata-srcset=\"/resource/image/2044102/3x2/500/333/9853ab44eee84dc3447648e46421d783/7D5A34396B54305A945B8155AA239C57/2024-sustainabilityreport-teaser-with-background-en.webp 1x, /resource/image/2044102/3x2/1000/666/5ee12c174ae460e9369f04e15180318a/E21DD20A16C5A3D853E9697E2283F137/2024-sustainabilityreport-teaser-with-background-en.webp 2x\" media=\"(min-width: 980px)\" sizes=\"100vw\">\\r\\n<source\\r\\ndata-srcset=\"/resource/image/2044102/3x2/500/333/9853ab44eee84dc3447648e46421d783/7D5A34396B54305A945B8155AA239C57/2024-sustainabilityreport-teaser-with-background-en.webp 1x, /resource/image/2044102/3x2/1000/666/5ee12c174ae460e9369f04e15180318a/E21DD20A16C5A3D853E9697E2283F137/2024-sustainabilityreport-teaser-with-background-en.webp 2x\" media=\"(min-width: 730px)\" sizes=\"100vw\">\\r\\n<source\\r\\ndata-srcset=\"/resource/image/2044102/3x2/335/223/600e25a60ee4266521e6ce85ead616a7/A9012B783E5291BBF345E70130BCB3F4/2024-sustainabilityreport-teaser-with-background-en.webp 1x, /resource/image/2044102/3x2/670/446/db6dc20dcbb3f64fa106c837218c574a/7C517EFE6770EED4B9CCE9576A7B12D1/2024-sustainabilityreport-teaser-with-background-en.webp 2x\" media=\"(min-width: 0px)\" sizes=\"100vw\">\\r\\n<img class=\"img-responsive lazyload\" alt=\"Teaser Sustainability Report\" data-src=/resource/image/2044102/3x2/1000/666/5ee12c174ae460e9369f04e15180318a/E21DD20A16C5A3D853E9697E2283F137/2024-sustainabilityreport-teaser-with-background-en.webp />\\r\\n</picture>\\r\\n</div>\\r\\n</div></div>\\n<section>\\n<div class=\"text\">\\n<h3 class=\"headline\" >2024年度可持续发展报告（英文）</h3>\\n</div>\\n<ul id=\"\" class=\"link-list \" style=\"\">\\n<li>\\n<span class=\"hidden mimetype\">pdf</span>\\n<a href=\"https://www.henkel.com/resource/blob/2043310/8e58944556950ebb78141bf6a86b58a9/data/2024-sustainability-report.pdf\" class=\"download-file pdf\" rel=&#39;nofollow&#39;\\ntarget=\"_blank\">\\n2024年度可持续发展报告（英文） <span class=\\'rtlEntity\\'>&rlm;</span> (4.51 MB)\\n</a> </li>\\n<li>\\n<a href=\"javascript:void(0);\" data-webtrekkactionname=\"add-to-collection\" class=\"add-to-content\">\\n<svg class=\"a-icon a-icon--addcontent\" width=\"16\" height=\"16\" focusable=\"false\">\\n<use href=\"/resource/crblob/1759152/464be25d581b011e6a40695f52ed5a82/icons-sprite-svg-data.svg#addcontent\"></use>\\n</svg>添加到我的收藏夹 <span class=\"contentId\" style=\"display: none;\">638716</span>\\n<span class=\"contentView\" style=\"display: none;\">standard</span>\\n<span class=\"contentType\" style=\"display: none;\">HKDownload</span>\\n</a> </li>\\n<li>\\n</li>\\n</ul></section></div> </nav>\\r\\n</div>\\r\\n</nav><nav class=\"main-navigation \">\\r\\n<a href=\"/digitalization\" class=\"main-navigation__first-level \" tabindex=\"0\">\\r\\n数字化 </a>\\r\\n<div class=\"main-navigation__fly-out\">\\r\\n<nav class=\"main-links-nav\">\\r\\n<a href=\"/digitalization\" class=\"main-links-nav__main-link visible-lg-block\">\\n<span class=\"main-links-nav__headline\">数字化</span>\\n<p>我们正在通过数字化塑造未来市场，包括新的业务与合作模式、创造独特的客户体验、以及对数据和技术的运用。</p>\\n<span class=\"bab-button bab-button--primary\" role=\"button\">\\n点击详情\\n</span>\\n</a> </nav>\\r\\n<nav class=\"second-level-nav\">\\r\\n<span class=\"menu-back\">Main Menu</span>\\n<a class=\"subtitle-small\" href=/digitalization>数字化</a>\\n<a class=\"nav-link\" href=\"/digitalization/tech-driven-business-models\" >\\n技术驱动型业务模式 </a><a class=\"nav-link\" href=\"/digitalization/innovation-through-cooperation\" >\\n以合作促创新 </a><a class=\"nav-link\" href=\"/digitalization/digital-transformation\" >\\n数字化转型 </a> </nav>\\r\\n<div class=\"third-level-nav third-level-nav--hidden\">\\r\\n</div>\\r\\n<nav class=\"teaser-nav active\">\\r\\n</nav>\\r\\n</div>\\r\\n</nav> </div>\\r\\n<div class=\"topNavi__nav--right-column\">\\r\\n<nav class=\"main-navigation \">\\r\\n<a href=\"/careers\" class=\"main-navigation__first-level main-navigation__first-level--weight\" tabindex=\"0\">\\r\\n职业 </a>\\r\\n<div class=\"main-navigation__fly-out\">\\r\\n<nav class=\"main-links-nav\">\\r\\n<a href=\"/careers\" class=\"main-links-nav__main-link visible-lg-block\">\\n<span class=\"main-links-nav__headline\">职业</span>\\n<p>Dare to make an impact (敢想，敢做，敢不凡)? 加入汉高，与我们一起塑造未来。</p>\\n<span class=\"bab-button bab-button--primary\" role=\"button\">\\n点击详情\\n</span>\\n</a> </nav>\\r\\n<nav class=\"second-level-nav\">\\r\\n<span class=\"menu-back\">Main Menu</span>\\n<a class=\"subtitle-small\" href=/careers>职业</a>\\n<a class=\"nav-link\" href=\"/careers/why-henkel\" >\\n为什么选择汉高 </a><a class=\"nav-link\" href=\"/careers/teams-and-locations\" >\\n团队与地点 </a><a class=\"nav-link\" href=\"/careers/students-graduates\" >\\n在校生及毕业生 </a><a class=\"nav-link nav-link--third-level\" href=\"/careers/jobs-and-application\" aria-haspopup=true data-third-level-index=3 >\\n职位申请&#xa0; </a><a class=\"nav-link\" href=\"/careers/faq\" >\\n常见问题 </a> </nav>\\r\\n<div class=\"third-level-nav third-level-nav--hidden\">\\r\\n<nav class=\"third-level-nav-wrap\" data-third-level-index=\"3\">\\r\\n<span class=\"menu-back\">职业</span>\\n<a class=\"subtitle-small\" href=/careers/jobs-and-application>职位申请&#xa0;</a>\\n<a class=\"nav-link\" href=\"/careers/jobs-and-application/application-and-selection\" tabindex=-1>\\n汉高招聘&amp;筛选 </a> </nav>\\r\\n</div>\\r\\n<nav class=\"teaser-nav active\">\\r\\n<a data-wt-view=\"teaser\" data-wt-contenttype=\"HKTeaser\" aria-label=\"现在就开始申请\"\\nclass=\"link-element teaser colorful--white colorful-element \"\\nhref=\"/careers/jobs-and-application\"\\ntarget=\"_self\">\\n<div class=\"img-wrap\">\\r\\n<div class=\"img-wrap__crop img-wrap__crop--tn-4x3 img-wrap__crop--sm-4x3 img-wrap__crop--md-3x2 img-wrap__crop--lg-3x2\">\\r\\n<picture class=\"image-rwd \"\\r\\ndata-transformationName=\"Image3:2\">\\r\\n<source\\r\\ndata-srcset=\"/resource/image/1324768/3x2/1000/667/af43484c75da893509edd23566d84404/29D0D1797E7A1546F2279C7FA215E54E/13092021-henkel-website-preview.webp 1x, /resource/image/1324768/3x2/2000/1334/62c9b7b8f37c1a92fd3a43d39509c966/AC11EF04FA8116F1220C8D68119386EA/13092021-henkel-website-preview.webp 2x\" media=\"(min-width: 1250px)\" sizes=\"100vw\">\\r\\n<source\\r\\ndata-srcset=\"/resource/image/1324768/3x2/750/500/e31eb952fbe2634ef3330e9103eb6a65/B79240538CAD0C4DF5489DC6C325FB4F/13092021-henkel-website-preview.webp 1x, /resource/image/1324768/3x2/1500/1000/6fc8c439a5f5befac50f4e24dc4a3cfa/8A6F47E50D229F0F2C50F65A3A452CF6/13092021-henkel-website-preview.webp 2x\" media=\"(min-width: 980px)\" sizes=\"100vw\">\\r\\n<source\\r\\ndata-srcset=\"/resource/image/1324768/4x3/500/375/b2e61d3090be3cfe96f70e2d937d4061/61A8F42FA95411D3790792534C379846/13092021-henkel-website-preview.webp 1x, /resource/image/1324768/4x3/1000/750/c20f5c92971d2528fc3e6e789b23f24c/D5320C38D9DA303A1C50E5782FC13B0A/13092021-henkel-website-preview.webp 2x\" media=\"(min-width: 730px)\" sizes=\"100vw\">\\r\\n<source\\r\\ndata-srcset=\"/resource/image/1324768/4x3/335/251/300cda274559eaeefd8194c2b577bdd9/9DF5DB408A88D27ACD91C5E2FAB93793/13092021-henkel-website-preview.webp 1x, /resource/image/1324768/4x3/670/502/5838bb263ef2d123698993c94240b54b/3BFB5967DB50845B848D15748AB984FD/13092021-henkel-website-preview.webp 2x\" media=\"(min-width: 0px)\" sizes=\"100vw\">\\r\\n<img class=\"img-responsive lazyload\" alt=\"13092021-henkel-website-preview\" data-src=/resource/image/1324768/3x2/1000/667/af43484c75da893509edd23566d84404/29D0D1797E7A1546F2279C7FA215E54E/13092021-henkel-website-preview.webp />\\r\\n</picture>\\r\\n</div>\\r\\n</div>\\n<section>\\n<h3 class=\"link-title colorful__white-headline--black\">\\n现在就开始申请 </h3>\\n<button data-webtrekkactionname=\"content-links\" class=\"bab-button--link bab-button bab-button--link\" aria-label=\"现在就开始申请\" href=\"/careers/jobs-and-application\" type=\"button\">\\n点击详情\\n</button> </section>\\n</a> </nav>\\r\\n</div>\\r\\n</nav><nav class=\"main-navigation \">\\r\\n<a href=\"/press-newsroom\" class=\"main-navigation__first-level main-navigation__first-level--weight\" tabindex=\"0\">\\r\\n新闻及媒体室 </a>\\r\\n<div class=\"main-navigation__fly-out\">\\r\\n<nav class=\"main-links-nav\">\\r\\n<a href=\"/press-newsroom\" class=\"main-links-nav__main-link visible-lg-block\">\\n<span class=\"main-links-nav__headline\">新闻及媒体室</span>\\n<p>我们的新闻及媒体关系团队为广大媒体朋友提供了各类主题的最新新闻稿、背景资料，以及照片和视频资料，可供下载。</p>\\n<span class=\"bab-button bab-button--primary\" role=\"button\">\\n点击详情\\n</span>\\n</a>\\n<nav class=\"main-links-nav__link-list\">\\n<a href=\"/press-newsroom\" target=\"_self\"\\nclass=\"bab-button bab-button--icon\">新闻及媒体室</a>\\n</nav> </nav>\\r\\n<nav class=\"second-level-nav\">\\r\\n<span class=\"menu-back\">Main Menu</span>\\n<a class=\"subtitle-small\" href=/press-newsroom>新闻及媒体室</a>\\n<a class=\"nav-link\" href=\"/press-newsroom/press-releases-and-kits\" >\\n新闻稿及资料库 </a><a class=\"nav-link nav-link--third-level\" href=\"/press-newsroom/facts-and-figures\" aria-haspopup=true data-third-level-index=1 >\\n事实与数据 </a><a class=\"nav-link\" href=\"/press-newsroom/download-center\" >\\n下载中心 </a><a class=\"nav-link\" href=\"/press-newsroom/social-media\" >\\n社交媒体 </a> </nav>\\r\\n<div class=\"third-level-nav third-level-nav--hidden\">\\r\\n<nav class=\"third-level-nav-wrap\" data-third-level-index=\"1\">\\r\\n<span class=\"menu-back\">新闻及媒体室</span>\\n<a class=\"subtitle-small\" href=/press-newsroom/facts-and-figures>事实与数据</a>\\n<a class=\"nav-link\" href=\"/press-newsroom/facts-and-figures/company-profile\" tabindex=-1>\\n公司简介 </a><a class=\"nav-link\" href=\"/press-newsroom/facts-and-figures/sustainability\" tabindex=-1>\\n可持续发展 </a><a class=\"nav-link\" href=\"/press-newsroom/facts-and-figures/diversity-equity-and-inclusion\" tabindex=-1>\\n多元、平等及包容 </a><a class=\"nav-link\" href=\"/press-newsroom/facts-and-figures/reserachers-world\" tabindex=-1>\\n探索者的世界 </a> </nav>\\r\\n</div>\\r\\n<nav class=\"teaser-nav active\">\\r\\n</nav>\\r\\n</div>\\r\\n</nav>\\r\\n<ul class=\"service mobileOnly\">\\r\\n<li class=\"iconButton\">\\n<a href=\"/contact-us\" class=\"bab-button bab-button--icon-only\" aria-label=\"contact\" >\\n<svg width=\"20\" height=\"20\" viewBox=\"0 0 20 20\" fill=\"currentColor\">\\n<path d=\"M1 3.5V16.3571H19V3.5H1ZM11.0221 10.5714H8.98429L3.19858 4.78571H16.8079L11.0221 10.5714ZM6.03356 9.43999V10.4107L2.28571 14.1586V5.69214L6.03356 9.43999ZM7.42857 10.835L8.45071 11.8571H11.5557L12.5779 10.835L16.8143 15.0714H3.205L7.42857 10.835ZM13.9664 10.4171V9.43999L17.7143 5.69214V14.1586L13.9664 10.4171Z\"/>\\n</svg>\\n<span class=\"mobileOnly\">\\n联系\\n</span>\\n</a>\\n</li>\\n<li class=\"iconButton\">\\n<a href=\"#tooltipMyContent-desktop\" class=\"tooltip-handler bab-button bab-button--icon-only\" aria-label=\"Add to my collection\">\\n<svg width=\"20\" height=\"20\" viewBox=\"0 0 20 20\" fill=\"currentColor\">\\n<path d=\"M19 16.3571H1V3.5H5.76355L7.69213 5.42857H19V16.3571ZM2.28571 15.0714H17.7143V6.71429H7.16502L5.23645 4.78571H2.28571V15.0714Z\"/>\\n</svg>\\n<span class=\"mobileOnly\">\\n添加到我的收藏夹\\n</span>\\n</a>\\n</li>\\n<li class=\"iconButton\">\\n<a href=\"https://www.henkel.com/global-websites-henkel\" class=\"tooltip-handler bab-button bab-button--icon-only\" aria-label=\"Website selector\">\\n<svg width=\"20\" height=\"20\" viewBox=\"0 0 20 20\" fill=\"currentColor\">\\n<path d=\"M10 1C5.03714 1 1 5.03714 1 10C1 14.9629 5.03714 19 10 19C14.9629 19 19 14.9629 19 10C19 5.03714 14.9629 1 10 1ZM17.7143 10C17.7143 10.9 17.5536 11.7679 17.2643 12.5714H14.32C14.4357 11.7614 14.5 10.9 14.5 10C14.5 9.1 14.4357 8.23857 14.32 7.42857H17.2643C17.5536 8.23214 17.7143 9.1 17.7143 10ZM10 17.7143C9.06143 17.7143 8.05857 16.4993 7.42214 14.5064L8.07143 13.8571H11.9286L12.5779 14.5064C11.9414 16.4993 10.9386 17.7143 10 17.7143ZM6.9786 12.5714C6.85646 11.7807 6.78571 10.9193 6.78571 10C6.78571 9.08071 6.85646 8.21929 6.9786 7.42857H13.015C13.1371 8.21929 13.2079 9.08071 13.2079 10C13.2079 10.9193 13.1371 11.7807 13.015 12.5714H6.9786ZM2.73568 12.5714C2.4464 11.7679 2.28571 10.9 2.28571 10C2.28571 9.1 2.4464 8.23214 2.73568 7.42857H5.68002C5.5643 8.23857 5.5 9.1 5.5 10C5.5 10.9 5.5643 11.7614 5.68002 12.5714H2.73568ZM10 2.28571C10.9386 2.28571 11.9414 3.50071 12.5779 5.49357L11.9286 6.14286H8.07143L7.42214 5.49357C8.05857 3.50071 9.06143 2.28571 10 2.28571ZM16.3257 5.60286L15.7857 6.14286H14.0757C13.7671 4.80571 13.2978 3.66143 12.7128 2.78714C14.185 3.34643 15.445 4.33 16.3257 5.60286ZM7.28716 2.78714C6.70216 3.655 6.23931 4.80571 5.92431 6.14286H4.21429L3.67431 5.60286C4.55502 4.33 5.81502 3.34643 7.28716 2.78714ZM3.67431 14.3971L4.21429 13.8571H5.92431C6.23288 15.1943 6.70216 16.3386 7.28716 17.2129C5.81502 16.6536 4.55502 15.67 3.67431 14.3971ZM12.7128 17.2129C13.2978 16.345 13.7607 15.1943 14.0757 13.8571H15.7857L16.3257 14.3971C15.445 15.67 14.185 16.6536 12.7128 17.2129Z\"/>\\n</svg>\\n<span class=\"mobileOnly\">\\nGlobal | Change Website </span>\\n</a>\\n</li> </ul>\\r\\n</div>\\r\\n</div>\\r\\n</div>\\n<script type=\"text/plain\" class=\"do-load\">\\nSystem.createOnLoad([\\n{\\n\"object\": \"com.babiel.henkel.js.myContent.AddToMyContent\",\\n\"id\": \"AddToMyContent\",\\n\"configuration\": {\\n\"myContent\": {\\n\"linkSelector\": \".add-to-content\",\\n\"properties\": {\\n\"contentId\": \".contentId\"\\n}\\n},\\n\"crudService\": {\\n\"service\": false,\\n\"command\": \"create\",\\n\"url\": \"/ajax/myContent/cn/brands-businesses/consumer-brands\"\\n},\\n\"mainMenuUpdater\": false,\\n\"debug\": \"AddToMyContent\" // Es muss vorher eine Logger-Konfiguration mit diesem Namen hinzugefügt werden\\n},\\n\"debug\": \"AddToMyContent\"\\n}\\n]);\\ncom.babiel.henkel.js.myContent.CRUDUtils.options.handler.myContentMainMenuText = \".mycontent-count\"\\n</script> </div>\\n</div></header> <main>\\n<div class=\"container-box colorful--expressive-fresh-blue\">\\n<div class=\"container-box__inner\">\\n<div class=\"m-stage-highlight m-stage-highlight--media\" data-wt-contenttype=\"Stage\" data-wt-view=\"highlightStage\">\\n<nav class=\"m-breadcrumb \" data-wt-contenttype=\"CMLinkable\" data-wt-view=\"asBreadcrumb\">\\n<span class=\"m-breadcrumb--fading-before\"></span>\\n<ul class=\"m-breadcrumb__list\">\\n<li class=\"m-breadcrumb__list-item colorful__expressive-text\">\\n<a href=\"/?view=\" aria-label=\"Henkel home page\">\\n<span class=\"breadcrumb-icon\">\\n<svg class=\"a-icon a-icon--home\" width=\"20\" height=\"20\" focusable=\"false\">\\n<use href=\"/resource/crblob/1759152/464be25d581b011e6a40695f52ed5a82/icons-sprite-svg-data.svg#home\"></use>\\n</svg> </span>\\n<span class=\"breadcrumb-text\">\\n汉高官网首页 </span>\\n</a>\\n</li>\\n<li class=\"m-breadcrumb__list-item colorful__expressive-text\">\\n<a href=\"/brands-businesses?view=\"> 业务 </a>\\n</li>\\n<li class=\"m-breadcrumb__list-item colorful__expressive-text\">\\n<span>汉高消费品牌&#xa0;Henkel&#xa0;Consumer Brands</span>\\n</li>\\n</ul>\\n<span class=\"m-breadcrumb--fading-after\"></span>\\n</nav> <div class=\"m-stage-highlight__headline\">\\n<h1 class=\"colorful__expressive-headline\">\\n<span class=\"h1-like-headline--bold align--center\">汉高消费品牌&#xa0;</span><span class=\"h1-like-headline--regular align--center\">Henkel&#xa0;Consumer Brands</span> </h1>\\n</div>\\n<div class=\"m-stage-highlight__media\">\\n<div class=\"img-wrap\">\\r\\n<div class=\"img-wrap__crop img-wrap__crop--tn-3x2 img-wrap__crop--sm-73x23 img-wrap__crop--md-73x23 img-wrap__crop--lg-73x23\">\\r\\n<picture class=\"image-rwd \"\\r\\ndata-transformationName=\"stage_landing_page\">\\r\\n<source\\r\\nsrcset=\"/resource/image/1808196/73x23/2190/690/5e72e4367553e68f29022b922a9c0050/726384A5102D6AD2389015B0D4DA0917/hcb-about-us-image.webp 1x, /resource/image/1808196/73x23/4380/1380/8f296a781f206996a34407baf243671e/9895624A1E178F4B663A21BC06F7F993/hcb-about-us-image.webp 2x\" media=\"(min-width: 1250px)\" sizes=\"100vw\">\\r\\n<source\\r\\nsrcset=\"/resource/image/1808196/73x23/1460/460/e7b7c5b7db2d44cd825e612a6d776836/D95FC64F18223DC8FDF06CC5A43F740E/hcb-about-us-image.webp 1x, /resource/image/1808196/73x23/2920/920/8cd45e7d631855814c6b2630df8dbb41/DC9F885917152208463B2B85699ABA5E/hcb-about-us-image.webp 2x\" media=\"(min-width: 980px)\" sizes=\"100vw\">\\r\\n<source\\r\\nsrcset=\"/resource/image/1808196/73x23/730/230/5d02f88dec230a81d1034feec8b0e45c/B3BAEE679E3329B288B704845B90105F/hcb-about-us-image.webp 1x, /resource/image/1808196/73x23/1460/460/e7b7c5b7db2d44cd825e612a6d776836/D95FC64F18223DC8FDF06CC5A43F740E/hcb-about-us-image.webp 2x\" media=\"(min-width: 730px)\" sizes=\"100vw\">\\r\\n<source\\r\\nsrcset=\"/resource/image/1808196/3x2/360/240/6aad8a39fa8fcd243787bdff03e80dbf/ED9C60EE10A6C5E2EB0CF821DD886D24/hcb-about-us-image.webp 1x, /resource/image/1808196/3x2/720/480/a4483d69881f1c2ab170e6ad564e53ef/59B8073C7B743F7A74FF01E163261961/hcb-about-us-image.webp 2x\" media=\"(min-width: 0px)\" sizes=\"100vw\">\\r\\n<img class=\"img-responsive\" alt=\"一位女士站在桌旁，桌上放有一个篮子，里面摆满了宝莹（Persil）、施华蔻、妙力（Bref）等汉高产品。\" src=/resource/image/1808196/73x23/2190/690/5e72e4367553e68f29022b922a9c0050/726384A5102D6AD2389015B0D4DA0917/hcb-about-us-image.webp loading=eager/>\\r\\n</picture>\\r\\n</div>\\r\\n</div> </div>\\n</div>\\n</div>\\n</div><div class=\"container-box container-box--no-border container-box__reduced-spacing-bottom--none \">\\n<div class=\"container-box__inner \">\\n<div class=\"col-tn-12 col-xs-12 col-sm-10 col-md-9 col-lg-9 col-xl-8 row-description \">\\n<p>\\n<div><div class=\"text\"><p class=\"align--center\"><span style=\"font-size:2.0rem\">我们正在推动建立一个多品类消费品牌平台，包含众多产品和知名品牌。我们多样化的产品组合专注于多个消费品类，其中两大核心品类是：洗涤剂及家用护理，以及美发。</span></p></div><div class=\"text\"><h2 class=\"align--center \"><strong><span class=\"black\">致力于推动标志性品牌和技术创新，以满足消费者需求</span></strong></h2></div></div> </p>\\n</div>\\n<div class=\"row \">\\n</div>\\n</div>\\n</div><div class=\"container-box container-box--no-border container-box--separator-line \">\\n<div class=\"container-box__inner \">\\n<h2 class=\"row-headline row-headline--with-border\\n\" data-js-reveal>\\n<span >\\n我们的品牌 </span>\\n</h2>\\n<div class=\"row \">\\n<div class=\"col-tn-12 col-xs-12 col-sm-12 col-md-12 col-lg-12 bab-stripe \">\\n<div data-js-reveal>\\n<div class=\"filter-collection-wrap\">\\n<div class=\"filter-collection-content \">\\n<form class=\"form-for-filter \" action=\"#\" data-ajax-url=\"/ajax/collection/cn/brancy-1831732\">\\n<div class=\"filter-collection\"\\ndata-has-editors-pick=\"true\" data-load-more-config=\\'{\"mobile\": 8, \"tabletPortrait\": 8, \"tabletLandscape\": 8, \"desktop\": 8, \"xl\": 10}\\'\\n>\\n<span class=\"filter-headline\">\\nFilter\\n<span class=\"facet-hits-all-combined\"></span>\\n</span>\\n<div class=\"filter-menu\">\\n<div class=\"filter-menu__small-menu\">\\n<span class=\"filter-local\">Filter</span>\\n<span class=\"filter-menu__close\">\\n<svg width=\"24\" height=\"24\" viewBox=\"0 0 40 40\" fill=\"currentColor\"\\nxmlns=\"http://www.w3.org/2000/svg\"\\nclass=\"svg--close\">\\n<path d=\"M35.0388 2.5L37.0441 4.5053L24 17.9787V21.9205L37.5 35.0388L35.4946 37.0441L22.0594 24H18.0415L4.96121 37.4999L2.95587 35.4946L16 22.0321V18.0066L2.5 4.96113L4.50534 2.95584L18.0195 16H21.9689L35.0388 2.5Z\"/>\\n</svg>\\n</span>\\n</div>\\n<div class=\"filter-menu-wrap\" tabindex=\"0\" data-filter-inputs>\\n<input type=\"hidden\" name=\"filterRegion\" class=\"filter-value\" value=\"\"/>\\n<input type=\"hidden\" name=\"filterCountry\" class=\"filter-value\" value=\"\"/>\\n<span class=\"filter-headline\">\\n区域\\n<span class=\"facet-hits-combined\"></span>\\n</span>\\n<div class=\"filter-menu-content\">\\n<div class=\"filter-menu-content__small-menu\">\\n<div class=\"filter-menu__corner-left\">\\n<span class=\"filter-menu__back\">区域</span>\\n<span class=\"filter-local\">Filter</span>\\n</div>\\n<div class=\"filter-menu__corner-right\">\\n<span class=\"filter-menu__reset\" tabindex=\"0\">Reset</span>\\n<span class=\"filter-menu__close\" tabindex=\"0\">\\n<svg width=\"24\" height=\"24\" viewBox=\"0 0 40 40\" fill=\"currentColor\"\\nxmlns=\"http://www.w3.org/2000/svg\" class=\"svg--close\">\\n<path\\nd=\"M35.0388 2.5L37.0441 4.5053L24 17.9787V21.9205L37.5 35.0388L35.4946 37.0441L22.0594 24H18.0415L4.96121 37.4999L2.95587 35.4946L16 22.0321V18.0066L2.5 4.96113L4.50534 2.95584L18.0195 16H21.9689L35.0388 2.5Z\"/>\\n</svg>\\n</span>\\n</div>\\n</div>\\n<div class=\"filter-search\" data-filter-live-search>\\n<input type=\"text\" name=\"live_search\" class=\"search\" placeholder=\"Search Location\">\\n<button type=\"button\" aria-label=\"Submit\" class=\"submit\">\\n<svg class=\"a-icon a-icon--search\" width=\"20\" height=\"20\" focusable=\"false\">\\n<use href=\"/resource/crblob/1759152/464be25d581b011e6a40695f52ed5a82/icons-sprite-svg-data.svg#search\"></use>\\n</svg><svg class=\"a-icon a-icon--reset\" width=\"20\" height=\"20\" focusable=\"false\">\\n<use href=\"/resource/crblob/1759152/464be25d581b011e6a40695f52ed5a82/icons-sprite-svg-data.svg#reset\"></use>\\n</svg> </button>\\n</div>\\n<div class=\"no-results\">No results found, please check the spelling or try another term.</div>\\n<div class=\"filter-checkbox-wrap\" data-accordion-wrapper data-accordion-without-url-params=\"true\" >\\n<div data-accordion-wrapper-parent>\\n<div class=\"filter-checkbox-wrap__headline\"\\ndata-accordion-headline data-accordion-id=\"Tab-1831732_1\" tabindex=0 role=tab aria-expanded=false aria-controls=tabpanel_1831732_1\\n>\\n<div class=\"filter-checkbox-wrap__checkbox Locations_9126\">\\n<input type=\"checkbox\" name=\"filterRegion\" id=\"Locations_9126\" tabindex=\"0\">\\n<label for=\"Locations_9126\">\\n所有区域\\n<span class=\"facet-hits\"></span>\\n</label>\\n<svg class=\"a-icon a-icon--arrow_down\" width=\"16\" height=\"16\" focusable=\"false\">\\n<use href=\"/resource/crblob/1759152/464be25d581b011e6a40695f52ed5a82/icons-sprite-svg-data.svg#arrow_down\"></use>\\n</svg> </div>\\n</div>\\n<div\\ndata-accordion-content role=\"tabpanel\" id=\"tabpanel_1831732_1\" data-inner-padding=\"false\" inert\\n>\\n<div data-accordion-wrapper data-accordion-without-url-params=\"true\" >\\n<div class=\"filter-checkbox-wrap__headline\"\\ndata-accordion-headline data-accordion-id=\"Tab-1831732_2\" tabindex=0 role=tab aria-expanded=false aria-controls=tabpanel_1831732_2\\n>\\n<div class=\"filter-checkbox-wrap__checkbox North_America_9128\">\\n<input type=\"checkbox\" name=\"filterRegion\" id=\"North_America_9128\" tabindex=\"0\">\\n<label for=\"North_America_9128\">\\n北美\\n<span class=\"facet-hits\"></span>\\n</label>\\n<svg class=\"a-icon a-icon--arrow_down\" width=\"16\" height=\"16\" focusable=\"false\">\\n<use href=\"/resource/crblob/1759152/464be25d581b011e6a40695f52ed5a82/icons-sprite-svg-data.svg#arrow_down\"></use>\\n</svg> </div>\\n</div>\\n<div\\ndata-accordion-content role=\"tabpanel\" id=\"tabpanel_1831732_2\" data-inner-padding=\"false\" inert\\n>\\n<div\\nclass=\"filter-checkbox-wrap__checkbox Puerto_Rico_20812\">\\n<input type=\"checkbox\" name=\"filterCountry\" id=\"Puerto_Rico_20812\" tabindex=\"0\">\\n<label for=\"Puerto_Rico_20812\">\\n波多黎各\\n<span class=\"facet-hits\"></span>\\n</label>\\n</div>\\n<div\\nclass=\"filter-checkbox-wrap__checkbox Canada_9140\">\\n<input type=\"checkbox\" name=\"filterCountry\" id=\"Canada_9140\" tabindex=\"0\">\\n<label for=\"Canada_9140\">\\n加拿大\\n<span class=\"facet-hits\"></span>\\n</label>\\n</div>\\n<div\\nclass=\"filter-checkbox-wrap__checkbox United_States_9130\">\\n<input type=\"checkbox\" name=\"filterCountry\" id=\"United_States_9130\" tabindex=\"0\">\\n<label for=\"United_States_9130\">\\n美国\\n<span class=\"facet-hits\"></span>\\n</label>\\n</div>\\n<div\\nclass=\"filter-checkbox-wrap__checkbox Mexico_19828\">\\n<input type=\"checkbox\" name=\"filterCountry\" id=\"Mexico_19828\" tabindex=\"0\">\\n<label for=\"Mexico_19828\">\\n墨西哥\\n<span class=\"facet-hits\"></span>\\n</label>\\n</div>\\n</div>\\n<div class=\"filter-checkbox-wrap__headline\"\\ndata-accordion-headline data-accordion-id=\"Tab-1831732_3\" tabindex=0 role=tab aria-expanded=false aria-controls=tabpanel_1831732_3\\n>\\n<div class=\"filter-checkbox-wrap__checkbox Latin_America_18574\">\\n<input type=\"checkbox\" name=\"filterRegion\" id=\"Latin_America_18574\" tabindex=\"0\">\\n<label for=\"Latin_America_18574\">\\n拉丁美洲\\n<span class=\"facet-hits\"></span>\\n</label>\\n<svg class=\"a-icon a-icon--arrow_down\" width=\"16\" height=\"16\" focusable=\"false\">\\n<use href=\"/resource/crblob/1759152/464be25d581b011e6a40695f52ed5a82/icons-sprite-svg-data.svg#arrow_down\"></use>\\n</svg> </div>\\n</div>\\n<div\\ndata-accordion-content role=\"tabpanel\" id=\"tabpanel_1831732_3\" data-inner-padding=\"false\" inert\\n>\\n<div\\nclass=\"filter-checkbox-wrap__checkbox El_Salvador_19814\">\\n<input type=\"checkbox\" name=\"filterCountry\" id=\"El_Salvador_19814\" tabindex=\"0\">\\n<label for=\"El_Salvador_19814\">\\n???filters.El Salvador.zh???\\n<span class=\"facet-hits\"></span>\\n</label>\\n</div>\\n<div\\nclass=\"filter-checkbox-wrap__checkbox Argentina_19788\">\\n<input type=\"checkbox\" name=\"filterCountry\" id=\"Argentina_19788\" tabindex=\"0\">\\n<label for=\"Argentina_19788\">\\n阿根廷\\n<span class=\"facet-hits\"></span>\\n</label>\\n</div>\\n<div\\nclass=\"filter-checkbox-wrap__checkbox Antigua_and_Barbuda_19786\">\\n<input type=\"checkbox\" name=\"filterCountry\" id=\"Antigua_and_Barbuda_19786\" tabindex=\"0\">\\n<label for=\"Antigua_and_Barbuda_19786\">\\n安提瓜和巴布达\\n<span class=\"facet-hits\"></span>\\n</label>\\n</div>\\n<div\\nclass=\"filter-checkbox-wrap__checkbox Barbados_19792\">\\n<input type=\"checkbox\" name=\"filterCountry\" id=\"Barbados_19792\" tabindex=\"0\">\\n<label for=\"Barbados_19792\">\\n巴巴多斯\\n<span class=\"facet-hits\"></span>\\n</label>\\n</div>\\n<div\\nclass=\"filter-checkbox-wrap__checkbox Bahamas_19790\">\\n<input type=\"checkbox\" name=\"filterCountry\" id=\"Bahamas_19790\" tabindex=\"0\">\\n<label for=\"Bahamas_19790\">\\n巴哈马群岛\\n<span class=\"facet-hits\"></span>\\n</label>\\n</div>\\n<div\\nclass=\"filter-checkbox-wrap__checkbox Paraguay_19842\">\\n<input type=\"checkbox\" name=\"filterCountry\" id=\"Paraguay_19842\" tabindex=\"0\">\\n<label for=\"Paraguay_19842\">\\n巴拉圭\\n<span class=\"facet-hits\"></span>\\n</label>\\n</div>\\n<div\\nclass=\"filter-checkbox-wrap__checkbox Panama_19840\">\\n<input type=\"checkbox\" name=\"filterCountry\" id=\"Panama_19840\" tabindex=\"0\">\\n<label for=\"Panama_19840\">\\n巴拿马\\n<span class=\"facet-hits\"></span>\\n</label>\\n</div>\\n<div\\nclass=\"filter-checkbox-wrap__checkbox Brazil_19800\">\\n<input type=\"checkbox\" name=\"filterCountry\" id=\"Brazil_19800\" tabindex=\"0\">\\n<label for=\"Brazil_19800\">\\n巴西\\n<span class=\"facet-hits\"></span>\\n</label>\\n</div>\\n<div\\nclass=\"filter-checkbox-wrap__checkbox Bolivia_19796\">\\n<input type=\"checkbox\" name=\"filterCountry\" id=\"Bolivia_19796\" tabindex=\"0\">\\n<label for=\"Bolivia_19796\">\\n玻利维亚\\n<span class=\"facet-hits\"></span>\\n</label>\\n</div>\\n<div\\nclass=\"filter-checkbox-wrap__checkbox Belize_19794\">\\n<input type=\"checkbox\" name=\"filterCountry\" id=\"Belize_19794\" tabindex=\"0\">\\n<label for=\"Belize_19794\">\\n伯利兹\\n<span class=\"facet-hits\"></span>\\n</label>\\n</div>\\n<div\\nclass=\"filter-checkbox-wrap__checkbox Dominica_19808\">\\n<input type=\"checkbox\" name=\"filterCountry\" id=\"Dominica_19808\" tabindex=\"0\">\\n<label for=\"Dominica_19808\">\\n多米尼加\\n<span class=\"facet-hits\"></span>\\n</label>\\n</div>\\n<div\\nclass=\"filter-checkbox-wrap__checkbox Dominican_Republic_19810\">\\n<input type=\"checkbox\" name=\"filterCountry\" id=\"Dominican_Republic_19810\" tabindex=\"0\">\\n<label for=\"Dominican_Republic_19810\">\\n多米尼加共和国\\n<span class=\"facet-hits\"></span>\\n</label>\\n</div>\\n<div\\nclass=\"filter-checkbox-wrap__checkbox Ecuador_19812\">\\n<input type=\"checkbox\" name=\"filterCountry\" id=\"Ecuador_19812\" tabindex=\"0\">\\n<label for=\"Ecuador_19812\">\\n厄瓜多尔\\n<span class=\"facet-hits\"></span>\\n</label>\\n</div>\\n<div\\nclass=\"filter-checkbox-wrap__checkbox Colombia_19802\">\\n<input type=\"checkbox\" name=\"filterCountry\" id=\"Colombia_19802\" tabindex=\"0\">\\n<label for=\"Colombia_19802\">\\n哥伦比亚\\n<span class=\"facet-hits\"></span>\\n</label>\\n</div>\\n<div\\nclass=\"filter-checkbox-wrap__checkbox Costa_Rica_19804\">\\n<input type=\"checkbox\" name=\"filterCountry\" id=\"Costa_Rica_19804\" tabindex=\"0\">\\n<label for=\"Costa_Rica_19804\">\\n哥斯达黎加\\n<span class=\"facet-hits\"></span>\\n</label>\\n</div>\\n<div\\nclass=\"filter-checkbox-wrap__checkbox Grenada_19816\">\\n<input type=\"checkbox\" name=\"filterCountry\" id=\"Grenada_19816\" tabindex=\"0\">\\n<label for=\"Grenada_19816\">\\n格林纳达\\n<span class=\"facet-hits\"></span>\\n</label>\\n</div>\\n<div\\nclass=\"filter-checkbox-wrap__checkbox Cuba_19806\">\\n<input type=\"checkbox\" name=\"filterCountry\" id=\"Cuba_19806\" tabindex=\"0\">\\n<label for=\"Cuba_19806\">\\n古巴\\n<span class=\"facet-hits\"></span>\\n</label>\\n</div>\\n<div\\nclass=\"filter-checkbox-wrap__checkbox Guyana_19820\">\\n<input type=\"checkbox\" name=\"filterCountry\" id=\"Guyana_19820\" tabindex=\"0\">\\n<label for=\"Guyana_19820\">\\n圭亚那\\n<span class=\"facet-hits\"></span>\\n</label>\\n</div>\\n<div\\nclass=\"filter-checkbox-wrap__checkbox Haiti_19822\">\\n<input type=\"checkbox\" name=\"filterCountry\" id=\"Haiti_19822\" tabindex=\"0\">\\n<label for=\"Haiti_19822\">\\n海地\\n<span class=\"facet-hits\"></span>\\n</label>\\n</div>\\n<div\\nclass=\"filter-checkbox-wrap__checkbox Honduras_19824\">\\n<input type=\"checkbox\" name=\"filterCountry\" id=\"Honduras_19824\" tabindex=\"0\">\\n<label for=\"Honduras_19824\">\\n洪都拉斯\\n<span class=\"facet-hits\"></span>\\n</label>\\n</div>\\n<div\\nclass=\"filter-checkbox-wrap__checkbox Peru_19844\">\\n<input type=\"checkbox\" name=\"filterCountry\" id=\"Peru_19844\" tabindex=\"0\">\\n<label for=\"Peru_19844\">\\n秘鲁\\n<span class=\"facet-hits\"></span>\\n</label>\\n</div>\\n<div\\nclass=\"filter-checkbox-wrap__checkbox Nicaragua_19838\">\\n<input type=\"checkbox\" name=\"filterCountry\" id=\"Nicaragua_19838\" tabindex=\"0\">\\n<label for=\"Nicaragua_19838\">\\n尼加拉瓜\\n<span class=\"facet-hits\"></span>\\n</label>\\n</div>\\n<div\\nclass=\"filter-checkbox-wrap__checkbox Saint_Kitts_and_Nevis_19846\">\\n<input type=\"checkbox\" name=\"filterCountry\" id=\"Saint_Kitts_and_Nevis_19846\" tabindex=\"0\">\\n<label for=\"Saint_Kitts_and_Nevis_19846\">\\n圣基茨和尼维斯\\n<span class=\"facet-hits\"></span>\\n</label>\\n</div>\\n<div\\nclass=\"filter-checkbox-wrap__checkbox Saint_Lucia_19848\">\\n<input type=\"checkbox\" name=\"filterCountry\" id=\"Saint_Lucia_19848\" tabindex=\"0\">\\n<label for=\"Saint_Lucia_19848\">\\n圣卢西亚岛\\n<span class=\"facet-hits\"></span>\\n</label>\\n</div>\\n<div\\nclass=\"filter-checkbox-wrap__checkbox Saint_Vincent_and_the_Grenadines_19850\">\\n<input type=\"checkbox\" name=\"filterCountry\" id=\"Saint_Vincent_and_the_Grenadines_19850\" tabindex=\"0\">\\n<label for=\"Saint_Vincent_and_the_Grenadines_19850\">\\n圣文森特和格林纳丁斯\\n<span class=\"facet-hits\"></span>\\n</label>\\n</div>\\n<div\\nclass=\"filter-checkbox-wrap__checkbox Suriname_19852\">\\n<input type=\"checkbox\" name=\"filterCountry\" id=\"Suriname_19852\" tabindex=\"0\">\\n<label for=\"Suriname_19852\">\\n苏里南\\n<span class=\"facet-hits\"></span>\\n</label>\\n</div>\\n<div\\nclass=\"filter-checkbox-wrap__checkbox Trinidad_and_Tobago_19854\">\\n<input type=\"checkbox\" name=\"filterCountry\" id=\"Trinidad_and_Tobago_19854\" tabindex=\"0\">\\n<label for=\"Trinidad_and_Tobago_19854\">\\n特立尼达和多巴哥\\n<span class=\"facet-hits\"></span>\\n</label>\\n</div>\\n<div\\nclass=\"filter-checkbox-wrap__checkbox Guatemala_19818\">\\n<input type=\"checkbox\" name=\"filterCountry\" id=\"Guatemala_19818\" tabindex=\"0\">\\n<label for=\"Guatemala_19818\">\\n危地马拉\\n<span class=\"facet-hits\"></span>\\n</label>\\n</div>\\n<div\\nclass=\"filter-checkbox-wrap__checkbox Venezuela_19858\">\\n<input type=\"checkbox\" name=\"filterCountry\" id=\"Venezuela_19858\" tabindex=\"0\">\\n<label for=\"Venezuela_19858\">\\n委内瑞拉\\n<span class=\"facet-hits\"></span>\\n</label>\\n</div>\\n<div\\nclass=\"filter-checkbox-wrap__checkbox Uruguay_19856\">\\n<input type=\"checkbox\" name=\"filterCountry\" id=\"Uruguay_19856\" tabindex=\"0\">\\n<label for=\"Uruguay_19856\">\\n乌拉圭\\n<span class=\"facet-hits\"></span>\\n</label>\\n</div>\\n<div\\nclass=\"filter-checkbox-wrap__checkbox Jamaica_19826\">\\n<input type=\"checkbox\" name=\"filterCountry\" id=\"Jamaica_19826\" tabindex=\"0\">\\n<label for=\"Jamaica_19826\">\\n牙买加\\n<span class=\"facet-hits\"></span>\\n</label>\\n</div>\\n<div\\nclass=\"filter-checkbox-wrap__checkbox Chile_19798\">\\n<input type=\"checkbox\" name=\"filterCountry\" id=\"Chile_19798\" tabindex=\"0\">\\n<label for=\"Chile_19798\">\\n智利\\n<span class=\"facet-hits\"></span>\\n</label>\\n</div>\\n</div>\\n<div class=\"filter-checkbox-wrap__headline\"\\ndata-accordion-headline data-accordion-id=\"Tab-1831732_4\" tabindex=0 role=tab aria-expanded=false aria-controls=tabpanel_1831732_4\\n>\\n<div class=\"filter-checkbox-wrap__checkbox Europe_18576\">\\n<input type=\"checkbox\" name=\"filterRegion\" id=\"Europe_18576\" tabindex=\"0\">\\n<label for=\"Europe_18576\">\\n欧洲\\n<span class=\"facet-hits\"></span>\\n</label>\\n<svg class=\"a-icon a-icon--arrow_down\" width=\"16\" height=\"16\" focusable=\"false\">\\n<use href=\"/resource/crblob/1759152/464be25d581b011e6a40695f52ed5a82/icons-sprite-svg-data.svg#arrow_down\"></use>\\n</svg> </div>\\n</div>\\n<div\\ndata-accordion-content role=\"tabpanel\" id=\"tabpanel_1831732_4\" data-inner-padding=\"false\" inert\\n>\\n<div\\nclass=\"filter-checkbox-wrap__checkbox Albania_19690\">\\n<input type=\"checkbox\" name=\"filterCountry\" id=\"Albania_19690\" tabindex=\"0\">\\n<label for=\"Albania_19690\">\\n阿尔巴尼亚\\n<span class=\"facet-hits\"></span>\\n</label>\\n</div>\\n<div\\nclass=\"filter-checkbox-wrap__checkbox Azerbaijan_2042064\">\\n<input type=\"checkbox\" name=\"filterCountry\" id=\"Azerbaijan_2042064\" tabindex=\"0\">\\n<label for=\"Azerbaijan_2042064\">\\n阿塞拜疆\\n<span class=\"facet-hits\"></span>\\n</label>\\n</div>\\n<div\\nclass=\"filter-checkbox-wrap__checkbox Ireland_19730\">\\n<input type=\"checkbox\" name=\"filterCountry\" id=\"Ireland_19730\" tabindex=\"0\">\\n<label for=\"Ireland_19730\">\\n爱尔兰\\n<span class=\"facet-hits\"></span>\\n</label>\\n</div>\\n<div\\nclass=\"filter-checkbox-wrap__checkbox Estonia_19714\">\\n<input type=\"checkbox\" name=\"filterCountry\" id=\"Estonia_19714\" tabindex=\"0\">\\n<label for=\"Estonia_19714\">\\n爱沙尼亚\\n<span class=\"facet-hits\"></span>\\n</label>\\n</div>\\n<div\\nclass=\"filter-checkbox-wrap__checkbox Andorra_19692\">\\n<input type=\"checkbox\" name=\"filterCountry\" id=\"Andorra_19692\" tabindex=\"0\">\\n<label for=\"Andorra_19692\">\\n安道尔\\n<span class=\"facet-hits\"></span>\\n</label>\\n</div>\\n<div\\nclass=\"filter-checkbox-wrap__checkbox Austria_19694\">\\n<input type=\"checkbox\" name=\"filterCountry\" id=\"Austria_19694\" tabindex=\"0\">\\n<label for=\"Austria_19694\">\\n奥地利\\n<span class=\"facet-hits\"></span>\\n</label>\\n</div>\\n<div\\nclass=\"filter-checkbox-wrap__checkbox Bulgaria_19704\">\\n<input type=\"checkbox\" name=\"filterCountry\" id=\"Bulgaria_19704\" tabindex=\"0\">\\n<label for=\"Bulgaria_19704\">\\n保加利亚\\n<span class=\"facet-hits\"></span>\\n</label>\\n</div>\\n<div\\nclass=\"filter-checkbox-wrap__checkbox Belgium_19698\">\\n<input type=\"checkbox\" name=\"filterCountry\" id=\"Belgium_19698\" tabindex=\"0\">\\n<label for=\"Belgium_19698\">\\n比利时\\n<span class=\"facet-hits\"></span>\\n</label>\\n</div>\\n<div\\nclass=\"filter-checkbox-wrap__checkbox Iceland_19728\">\\n<input type=\"checkbox\" name=\"filterCountry\" id=\"Iceland_19728\" tabindex=\"0\">\\n<label for=\"Iceland_19728\">\\n冰岛\\n<span class=\"facet-hits\"></span>\\n</label>\\n</div>\\n<div\\nclass=\"filter-checkbox-wrap__checkbox Poland_19758\">\\n<input type=\"checkbox\" name=\"filterCountry\" id=\"Poland_19758\" tabindex=\"0\">\\n<label for=\"Poland_19758\">\\n波兰\\n<span class=\"facet-hits\"></span>\\n</label>\\n</div>\\n<div\\nclass=\"filter-checkbox-wrap__checkbox Bosnia_and_Herzegovina_19700\">\\n<input type=\"checkbox\" name=\"filterCountry\" id=\"Bosnia_and_Herzegovina_19700\" tabindex=\"0\">\\n<label for=\"Bosnia_and_Herzegovina_19700\">\\n波斯尼亚和黑塞哥维那\\n<span class=\"facet-hits\"></span>\\n</label>\\n</div>\\n<div\\nclass=\"filter-checkbox-wrap__checkbox Denmark_19712\">\\n<input type=\"checkbox\" name=\"filterCountry\" id=\"Denmark_19712\" tabindex=\"0\">\\n<label for=\"Denmark_19712\">\\n丹麦\\n<span class=\"facet-hits\"></span>\\n</label>\\n</div>\\n<div\\nclass=\"filter-checkbox-wrap__checkbox Germany_19720\">\\n<input type=\"checkbox\" name=\"filterCountry\" id=\"Germany_19720\" tabindex=\"0\">\\n<label for=\"Germany_19720\">\\n德国\\n<span class=\"facet-hits\"></span>\\n</label>\\n</div>\\n<div\\nclass=\"filter-checkbox-wrap__checkbox France_19718\">\\n<input type=\"checkbox\" name=\"filterCountry\" id=\"France_19718\" tabindex=\"0\">\\n<label for=\"France_19718\">\\n法国\\n<span class=\"facet-hits\"></span>\\n</label>\\n</div>\\n<div\\nclass=\"filter-checkbox-wrap__checkbox Finland_19716\">\\n<input type=\"checkbox\" name=\"filterCountry\" id=\"Finland_19716\" tabindex=\"0\">\\n<label for=\"Finland_19716\">\\n芬兰\\n<span class=\"facet-hits\"></span>\\n</label>\\n</div>\\n<div\\nclass=\"filter-checkbox-wrap__checkbox Georgia_2042056\">\\n<input type=\"checkbox\" name=\"filterCountry\" id=\"Georgia_2042056\" tabindex=\"0\">\\n<label for=\"Georgia_2042056\">\\n格鲁吉亚\\n<span class=\"facet-hits\"></span>\\n</label>\\n</div>\\n<div\\nclass=\"filter-checkbox-wrap__checkbox Netherlands_19754\">\\n<input type=\"checkbox\" name=\"filterCountry\" id=\"Netherlands_19754\" tabindex=\"0\">\\n<label for=\"Netherlands_19754\">\\n荷兰\\n<span class=\"facet-hits\"></span>\\n</label>\\n</div>\\n<div\\nclass=\"filter-checkbox-wrap__checkbox Montenegro_19752\">\\n<input type=\"checkbox\" name=\"filterCountry\" id=\"Montenegro_19752\" tabindex=\"0\">\\n<label for=\"Montenegro_19752\">\\n黑山共和国\\n<span class=\"facet-hits\"></span>\\n</label>\\n</div>\\n<div\\nclass=\"filter-checkbox-wrap__checkbox Czech_Republic_19710\">\\n<input type=\"checkbox\" name=\"filterCountry\" id=\"Czech_Republic_19710\" tabindex=\"0\">\\n<label for=\"Czech_Republic_19710\">\\n捷克共和国\\n<span class=\"facet-hits\"></span>\\n</label>\\n</div>\\n<div\\nclass=\"filter-checkbox-wrap__checkbox Croatia_19706\">\\n<input type=\"checkbox\" name=\"filterCountry\" id=\"Croatia_19706\" tabindex=\"0\">\\n<label for=\"Croatia_19706\">\\n克罗地亚\\n<span class=\"facet-hits\"></span>\\n</label>\\n</div>\\n<div\\nclass=\"filter-checkbox-wrap__checkbox Latvia_19736\">\\n<input type=\"checkbox\" name=\"filterCountry\" id=\"Latvia_19736\" tabindex=\"0\">\\n<label for=\"Latvia_19736\">\\n拉脱维亚\\n<span class=\"facet-hits\"></span>\\n</label>\\n</div>\\n<div\\nclass=\"filter-checkbox-wrap__checkbox Lithuania_19740\">\\n<input type=\"checkbox\" name=\"filterCountry\" id=\"Lithuania_19740\" tabindex=\"0\">\\n<label for=\"Lithuania_19740\">\\n立陶宛\\n<span class=\"facet-hits\"></span>\\n</label>\\n</div>\\n<div\\nclass=\"filter-checkbox-wrap__checkbox Liechtenstein_19738\">\\n<input type=\"checkbox\" name=\"filterCountry\" id=\"Liechtenstein_19738\" tabindex=\"0\">\\n<label for=\"Liechtenstein_19738\">\\n列支敦斯顿\\n<span class=\"facet-hits\"></span>\\n</label>\\n</div>\\n<div\\nclass=\"filter-checkbox-wrap__checkbox Luxembourg_19742\">\\n<input type=\"checkbox\" name=\"filterCountry\" id=\"Luxembourg_19742\" tabindex=\"0\">\\n<label for=\"Luxembourg_19742\">\\n卢森堡\\n<span class=\"facet-hits\"></span>\\n</label>\\n</div>\\n<div\\nclass=\"filter-checkbox-wrap__checkbox Romania_19762\">\\n<input type=\"checkbox\" name=\"filterCountry\" id=\"Romania_19762\" tabindex=\"0\">\\n<label for=\"Romania_19762\">\\n罗马尼亚\\n<span class=\"facet-hits\"></span>\\n</label>\\n</div>\\n<div\\nclass=\"filter-checkbox-wrap__checkbox Malta_19746\">\\n<input type=\"checkbox\" name=\"filterCountry\" id=\"Malta_19746\" tabindex=\"0\">\\n<label for=\"Malta_19746\">\\n马耳他\\n<span class=\"facet-hits\"></span>\\n</label>\\n</div>\\n<div\\nclass=\"filter-checkbox-wrap__checkbox Macedonia_19744\">\\n<input type=\"checkbox\" name=\"filterCountry\" id=\"Macedonia_19744\" tabindex=\"0\">\\n<label for=\"Macedonia_19744\">\\n马其顿\\n<span class=\"facet-hits\"></span>\\n</label>\\n</div>\\n<div\\nclass=\"filter-checkbox-wrap__checkbox Moldova_19748\">\\n<input type=\"checkbox\" name=\"filterCountry\" id=\"Moldova_19748\" tabindex=\"0\">\\n<label for=\"Moldova_19748\">\\n摩尔多瓦\\n<span class=\"facet-hits\"></span>\\n</label>\\n</div>\\n<div\\nclass=\"filter-checkbox-wrap__checkbox Monaco_19750\">\\n<input type=\"checkbox\" name=\"filterCountry\" id=\"Monaco_19750\" tabindex=\"0\">\\n<label for=\"Monaco_19750\">\\n摩纳哥\\n<span class=\"facet-hits\"></span>\\n</label>\\n</div>\\n<div\\nclass=\"filter-checkbox-wrap__checkbox Norway_19756\">\\n<input type=\"checkbox\" name=\"filterCountry\" id=\"Norway_19756\" tabindex=\"0\">\\n<label for=\"Norway_19756\">\\n挪威\\n<span class=\"facet-hits\"></span>\\n</label>\\n</div>\\n<div\\nclass=\"filter-checkbox-wrap__checkbox Portugal_19760\">\\n<input type=\"checkbox\" name=\"filterCountry\" id=\"Portugal_19760\" tabindex=\"0\">\\n<label for=\"Portugal_19760\">\\n葡萄牙\\n<span class=\"facet-hits\"></span>\\n</label>\\n</div>\\n<div\\nclass=\"filter-checkbox-wrap__checkbox Sweden_19776\">\\n<input type=\"checkbox\" name=\"filterCountry\" id=\"Sweden_19776\" tabindex=\"0\">\\n<label for=\"Sweden_19776\">\\n瑞典\\n<span class=\"facet-hits\"></span>\\n</label>\\n</div>\\n<div\\nclass=\"filter-checkbox-wrap__checkbox Switzerland_19778\">\\n<input type=\"checkbox\" name=\"filterCountry\" id=\"Switzerland_19778\" tabindex=\"0\">\\n<label for=\"Switzerland_19778\">\\n瑞士\\n<span class=\"facet-hits\"></span>\\n</label>\\n</div>\\n<div\\nclass=\"filter-checkbox-wrap__checkbox Serbia_19768\">\\n<input type=\"checkbox\" name=\"filterCountry\" id=\"Serbia_19768\" tabindex=\"0\">\\n<label for=\"Serbia_19768\">\\n塞尔维亚\\n<span class=\"facet-hits\"></span>\\n</label>\\n</div>\\n<div\\nclass=\"filter-checkbox-wrap__checkbox Cyprus_19708\">\\n<input type=\"checkbox\" name=\"filterCountry\" id=\"Cyprus_19708\" tabindex=\"0\">\\n<label for=\"Cyprus_19708\">\\n塞浦路斯\\n<span class=\"facet-hits\"></span>\\n</label>\\n</div>\\n<div\\nclass=\"filter-checkbox-wrap__checkbox Slovakia_19770\">\\n<input type=\"checkbox\" name=\"filterCountry\" id=\"Slovakia_19770\" tabindex=\"0\">\\n<label for=\"Slovakia_19770\">\\n斯洛伐克\\n<span class=\"facet-hits\"></span>\\n</label>\\n</div>\\n<div\\nclass=\"filter-checkbox-wrap__checkbox Slovenia_19772\">\\n<input type=\"checkbox\" name=\"filterCountry\" id=\"Slovenia_19772\" tabindex=\"0\">\\n<label for=\"Slovenia_19772\">\\n斯洛文尼亚\\n<span class=\"facet-hits\"></span>\\n</label>\\n</div>\\n<div\\nclass=\"filter-checkbox-wrap__checkbox Ukraine_19782\">\\n<input type=\"checkbox\" name=\"filterCountry\" id=\"Ukraine_19782\" tabindex=\"0\">\\n<label for=\"Ukraine_19782\">\\n乌克兰\\n<span class=\"facet-hits\"></span>\\n</label>\\n</div>\\n<div\\nclass=\"filter-checkbox-wrap__checkbox Uzbekistan_2042050\">\\n<input type=\"checkbox\" name=\"filterCountry\" id=\"Uzbekistan_2042050\" tabindex=\"0\">\\n<label for=\"Uzbekistan_2042050\">\\n乌兹别克斯坦\\n<span class=\"facet-hits\"></span>\\n</label>\\n</div>\\n<div\\nclass=\"filter-checkbox-wrap__checkbox Spain_19774\">\\n<input type=\"checkbox\" name=\"filterCountry\" id=\"Spain_19774\" tabindex=\"0\">\\n<label for=\"Spain_19774\">\\n西班牙\\n<span class=\"facet-hits\"></span>\\n</label>\\n</div>\\n<div\\nclass=\"filter-checkbox-wrap__checkbox Greece_19722\">\\n<input type=\"checkbox\" name=\"filterCountry\" id=\"Greece_19722\" tabindex=\"0\">\\n<label for=\"Greece_19722\">\\n希腊\\n<span class=\"facet-hits\"></span>\\n</label>\\n</div>\\n<div\\nclass=\"filter-checkbox-wrap__checkbox Hungary_19724\">\\n<input type=\"checkbox\" name=\"filterCountry\" id=\"Hungary_19724\" tabindex=\"0\">\\n<label for=\"Hungary_19724\">\\n匈牙利\\n<span class=\"facet-hits\"></span>\\n</label>\\n</div>\\n<div\\nclass=\"filter-checkbox-wrap__checkbox Italy_19732\">\\n<input type=\"checkbox\" name=\"filterCountry\" id=\"Italy_19732\" tabindex=\"0\">\\n<label for=\"Italy_19732\">\\n意大利\\n<span class=\"facet-hits\"></span>\\n</label>\\n</div>\\n<div\\nclass=\"filter-checkbox-wrap__checkbox United_Kingdom_19784\">\\n<input type=\"checkbox\" name=\"filterCountry\" id=\"United_Kingdom_19784\" tabindex=\"0\">\\n<label for=\"United_Kingdom_19784\">\\n英国\\n<span class=\"facet-hits\"></span>\\n</label>\\n</div>\\n</div>\\n<div class=\"filter-checkbox-wrap__headline\"\\ndata-accordion-headline data-accordion-id=\"Tab-1831732_5\" tabindex=0 role=tab aria-expanded=false aria-controls=tabpanel_1831732_5\\n>\\n<div class=\"filter-checkbox-wrap__checkbox Asia_Pacific_18578\">\\n<input type=\"checkbox\" name=\"filterRegion\" id=\"Asia_Pacific_18578\" tabindex=\"0\">\\n<label for=\"Asia_Pacific_18578\">\\n亚太\\n<span class=\"facet-hits\"></span>\\n</label>\\n<svg class=\"a-icon a-icon--arrow_down\" width=\"16\" height=\"16\" focusable=\"false\">\\n<use href=\"/resource/crblob/1759152/464be25d581b011e6a40695f52ed5a82/icons-sprite-svg-data.svg#arrow_down\"></use>\\n</svg> </div>\\n</div>\\n<div\\ndata-accordion-content role=\"tabpanel\" id=\"tabpanel_1831732_5\" data-inner-padding=\"false\" inert\\n>\\n<div\\nclass=\"filter-checkbox-wrap__checkbox East_Timor_19568\">\\n<input type=\"checkbox\" name=\"filterCountry\" id=\"East_Timor_19568\" tabindex=\"0\">\\n<label for=\"East_Timor_19568\">\\n???filters.East Timor.zh???\\n<span class=\"facet-hits\"></span>\\n</label>\\n</div>\\n<div\\nclass=\"filter-checkbox-wrap__checkbox Vanuatu_19678\">\\n<input type=\"checkbox\" name=\"filterCountry\" id=\"Vanuatu_19678\" tabindex=\"0\">\\n<label for=\"Vanuatu_19678\">\\n???filters.Vanuatu.zh???\\n<span class=\"facet-hits\"></span>\\n</label>\\n</div>\\n<div\\nclass=\"filter-checkbox-wrap__checkbox Oman_19628\">\\n<input type=\"checkbox\" name=\"filterCountry\" id=\"Oman_19628\" tabindex=\"0\">\\n<label for=\"Oman_19628\">\\n阿曼\\n<span class=\"facet-hits\"></span>\\n</label>\\n</div>\\n<div\\nclass=\"filter-checkbox-wrap__checkbox Azerbaijan_19554\">\\n<input type=\"checkbox\" name=\"filterCountry\" id=\"Azerbaijan_19554\" tabindex=\"0\">\\n<label for=\"Azerbaijan_19554\">\\n阿塞拜疆\\n<span class=\"facet-hits\"></span>\\n</label>\\n</div>\\n<div\\nclass=\"filter-checkbox-wrap__checkbox Australia_19552\">\\n<input type=\"checkbox\" name=\"filterCountry\" id=\"Australia_19552\" tabindex=\"0\">\\n<label for=\"Australia_19552\">\\n澳大利亚\\n<span class=\"facet-hits\"></span>\\n</label>\\n</div>\\n<div\\nclass=\"filter-checkbox-wrap__checkbox Papua_New_Guinea_19636\">\\n<input type=\"checkbox\" name=\"filterCountry\" id=\"Papua_New_Guinea_19636\" tabindex=\"0\">\\n<label for=\"Papua_New_Guinea_19636\">\\n巴布亚新几内亚\\n<span class=\"facet-hits\"></span>\\n</label>\\n</div>\\n<div\\nclass=\"filter-checkbox-wrap__checkbox Pakistan_19630\">\\n<input type=\"checkbox\" name=\"filterCountry\" id=\"Pakistan_19630\" tabindex=\"0\">\\n<label for=\"Pakistan_19630\">\\n巴基斯坦\\n<span class=\"facet-hits\"></span>\\n</label>\\n</div>\\n<div\\nclass=\"filter-checkbox-wrap__checkbox Palestine_19634\">\\n<input type=\"checkbox\" name=\"filterCountry\" id=\"Palestine_19634\" tabindex=\"0\">\\n<label for=\"Palestine_19634\">\\n巴勒斯坦\\n<span class=\"facet-hits\"></span>\\n</label>\\n</div>\\n<div\\nclass=\"filter-checkbox-wrap__checkbox Bahrain_19556\">\\n<input type=\"checkbox\" name=\"filterCountry\" id=\"Bahrain_19556\" tabindex=\"0\">\\n<label for=\"Bahrain_19556\">\\n巴林\\n<span class=\"facet-hits\"></span>\\n</label>\\n</div>\\n<div\\nclass=\"filter-checkbox-wrap__checkbox Bhutan_19560\">\\n<input type=\"checkbox\" name=\"filterCountry\" id=\"Bhutan_19560\" tabindex=\"0\">\\n<label for=\"Bhutan_19560\">\\n不丹\\n<span class=\"facet-hits\"></span>\\n</label>\\n</div>\\n<div\\nclass=\"filter-checkbox-wrap__checkbox Philippines_19638\">\\n<input type=\"checkbox\" name=\"filterCountry\" id=\"Philippines_19638\" tabindex=\"0\">\\n<label for=\"Philippines_19638\">\\n菲律宾\\n<span class=\"facet-hits\"></span>\\n</label>\\n</div>\\n<div\\nclass=\"filter-checkbox-wrap__checkbox Georgia_19574\">\\n<input type=\"checkbox\" name=\"filterCountry\" id=\"Georgia_19574\" tabindex=\"0\">\\n<label for=\"Georgia_19574\">\\n格鲁吉亚\\n<span class=\"facet-hits\"></span>\\n</label>\\n</div>\\n<div\\nclass=\"filter-checkbox-wrap__checkbox Kazakhstan_1906592\">\\n<input type=\"checkbox\" name=\"filterCountry\" id=\"Kazakhstan_1906592\" tabindex=\"0\">\\n<label for=\"Kazakhstan_1906592\">\\n哈萨克斯坦\\n<span class=\"facet-hits\"></span>\\n</label>\\n</div>\\n<div\\nclass=\"filter-checkbox-wrap__checkbox South_Korea_19654\">\\n<input type=\"checkbox\" name=\"filterCountry\" id=\"South_Korea_19654\" tabindex=\"0\">\\n<label for=\"South_Korea_19654\">\\n韩国\\n<span class=\"facet-hits\"></span>\\n</label>\\n</div>\\n<div\\nclass=\"filter-checkbox-wrap__checkbox Kiribati_19596\">\\n<input type=\"checkbox\" name=\"filterCountry\" id=\"Kiribati_19596\" tabindex=\"0\">\\n<label for=\"Kiribati_19596\">\\n基里巴斯\\n<span class=\"facet-hits\"></span>\\n</label>\\n</div>\\n<div\\nclass=\"filter-checkbox-wrap__checkbox Kyrgyzstan_19600\">\\n<input type=\"checkbox\" name=\"filterCountry\" id=\"Kyrgyzstan_19600\" tabindex=\"0\">\\n<label for=\"Kyrgyzstan_19600\">\\n吉尔吉斯斯坦\\n<span class=\"facet-hits\"></span>\\n</label>\\n</div>\\n<div\\nclass=\"filter-checkbox-wrap__checkbox Cambodia_19564\">\\n<input type=\"checkbox\" name=\"filterCountry\" id=\"Cambodia_19564\" tabindex=\"0\">\\n<label for=\"Cambodia_19564\">\\n柬埔寨\\n<span class=\"facet-hits\"></span>\\n</label>\\n</div>\\n<div\\nclass=\"filter-checkbox-wrap__checkbox Qatar_19642\">\\n<input type=\"checkbox\" name=\"filterCountry\" id=\"Qatar_19642\" tabindex=\"0\">\\n<label for=\"Qatar_19642\">\\n卡塔尔\\n<span class=\"facet-hits\"></span>\\n</label>\\n</div>\\n<div\\nclass=\"filter-checkbox-wrap__checkbox Kuwait_19598\">\\n<input type=\"checkbox\" name=\"filterCountry\" id=\"Kuwait_19598\" tabindex=\"0\">\\n<label for=\"Kuwait_19598\">\\n科威特\\n<span class=\"facet-hits\"></span>\\n</label>\\n</div>\\n<div\\nclass=\"filter-checkbox-wrap__checkbox Laos_19602\">\\n<input type=\"checkbox\" name=\"filterCountry\" id=\"Laos_19602\" tabindex=\"0\">\\n<label for=\"Laos_19602\">\\n老挝\\n<span class=\"facet-hits\"></span>\\n</label>\\n</div>\\n<div\\nclass=\"filter-checkbox-wrap__checkbox Maldives_19608\">\\n<input type=\"checkbox\" name=\"filterCountry\" id=\"Maldives_19608\" tabindex=\"0\">\\n<label for=\"Maldives_19608\">\\n马尔代夫\\n<span class=\"facet-hits\"></span>\\n</label>\\n</div>\\n<div\\nclass=\"filter-checkbox-wrap__checkbox Malaysia_19606\">\\n<input type=\"checkbox\" name=\"filterCountry\" id=\"Malaysia_19606\" tabindex=\"0\">\\n<label for=\"Malaysia_19606\">\\n马来西亚\\n<span class=\"facet-hits\"></span>\\n</label>\\n</div>\\n<div\\nclass=\"filter-checkbox-wrap__checkbox Marshall_Islands_19610\">\\n<input type=\"checkbox\" name=\"filterCountry\" id=\"Marshall_Islands_19610\" tabindex=\"0\">\\n<label for=\"Marshall_Islands_19610\">\\n马绍尔群岛\\n<span class=\"facet-hits\"></span>\\n</label>\\n</div>\\n<div\\nclass=\"filter-checkbox-wrap__checkbox Mongolia_19614\">\\n<input type=\"checkbox\" name=\"filterCountry\" id=\"Mongolia_19614\" tabindex=\"0\">\\n<label for=\"Mongolia_19614\">\\n蒙古\\n<span class=\"facet-hits\"></span>\\n</label>\\n</div>\\n<div\\nclass=\"filter-checkbox-wrap__checkbox Bangladesh_19558\">\\n<input type=\"checkbox\" name=\"filterCountry\" id=\"Bangladesh_19558\" tabindex=\"0\">\\n<label for=\"Bangladesh_19558\">\\n孟加拉国\\n<span class=\"facet-hits\"></span>\\n</label>\\n</div>\\n<div\\nclass=\"filter-checkbox-wrap__checkbox Micronesia_19612\">\\n<input type=\"checkbox\" name=\"filterCountry\" id=\"Micronesia_19612\" tabindex=\"0\">\\n<label for=\"Micronesia_19612\">\\n密克罗尼西亚（联邦国家）\\n<span class=\"facet-hits\"></span>\\n</label>\\n</div>\\n<div\\nclass=\"filter-checkbox-wrap__checkbox Myanmar__Burma__19616\">\\n<input type=\"checkbox\" name=\"filterCountry\" id=\"Myanmar__Burma__19616\" tabindex=\"0\">\\n<label for=\"Myanmar__Burma__19616\">\\n缅甸\\n<span class=\"facet-hits\"></span>\\n</label>\\n</div>\\n<div\\nclass=\"filter-checkbox-wrap__checkbox Nepal_19620\">\\n<input type=\"checkbox\" name=\"filterCountry\" id=\"Nepal_19620\" tabindex=\"0\">\\n<label for=\"Nepal_19620\">\\n尼泊尔\\n<span class=\"facet-hits\"></span>\\n</label>\\n</div>\\n<div\\nclass=\"filter-checkbox-wrap__checkbox Palau_19632\">\\n<input type=\"checkbox\" name=\"filterCountry\" id=\"Palau_19632\" tabindex=\"0\">\\n<label for=\"Palau_19632\">\\n帕劳\\n<span class=\"facet-hits\"></span>\\n</label>\\n</div>\\n<div\\nclass=\"filter-checkbox-wrap__checkbox Japan_19588\">\\n<input type=\"checkbox\" name=\"filterCountry\" id=\"Japan_19588\" tabindex=\"0\">\\n<label for=\"Japan_19588\">\\n日本\\n<span class=\"facet-hits\"></span>\\n</label>\\n</div>\\n<div\\nclass=\"filter-checkbox-wrap__checkbox Samoa_19644\">\\n<input type=\"checkbox\" name=\"filterCountry\" id=\"Samoa_19644\" tabindex=\"0\">\\n<label for=\"Samoa_19644\">\\n萨摩亚\\n<span class=\"facet-hits\"></span>\\n</label>\\n</div>\\n<div\\nclass=\"filter-checkbox-wrap__checkbox Sri_Lanka_19656\">\\n<input type=\"checkbox\" name=\"filterCountry\" id=\"Sri_Lanka_19656\" tabindex=\"0\">\\n<label for=\"Sri_Lanka_19656\">\\n斯里兰卡\\n<span class=\"facet-hits\"></span>\\n</label>\\n</div>\\n<div\\nclass=\"filter-checkbox-wrap__checkbox Solomon_Islands_19650\">\\n<input type=\"checkbox\" name=\"filterCountry\" id=\"Solomon_Islands_19650\" tabindex=\"0\">\\n<label for=\"Solomon_Islands_19650\">\\n所罗门群岛\\n<span class=\"facet-hits\"></span>\\n</label>\\n</div>\\n<div\\nclass=\"filter-checkbox-wrap__checkbox Tajikistan_19662\">\\n<input type=\"checkbox\" name=\"filterCountry\" id=\"Tajikistan_19662\" tabindex=\"0\">\\n<label for=\"Tajikistan_19662\">\\n塔吉克斯坦\\n<span class=\"facet-hits\"></span>\\n</label>\\n</div>\\n<div\\nclass=\"filter-checkbox-wrap__checkbox Thailand_19664\">\\n<input type=\"checkbox\" name=\"filterCountry\" id=\"Thailand_19664\" tabindex=\"0\">\\n<label for=\"Thailand_19664\">\\n泰国\\n<span class=\"facet-hits\"></span>\\n</label>\\n</div>\\n<div\\nclass=\"filter-checkbox-wrap__checkbox Tonga_19666\">\\n<input type=\"checkbox\" name=\"filterCountry\" id=\"Tonga_19666\" tabindex=\"0\">\\n<label for=\"Tonga_19666\">\\n汤加\\n<span class=\"facet-hits\"></span>\\n</label>\\n</div>\\n<div\\nclass=\"filter-checkbox-wrap__checkbox Tuvalu_19670\">\\n<input type=\"checkbox\" name=\"filterCountry\" id=\"Tuvalu_19670\" tabindex=\"0\">\\n<label for=\"Tuvalu_19670\">\\n图瓦卢\\n<span class=\"facet-hits\"></span>\\n</label>\\n</div>\\n<div\\nclass=\"filter-checkbox-wrap__checkbox Turkmenistan_19668\">\\n<input type=\"checkbox\" name=\"filterCountry\" id=\"Turkmenistan_19668\" tabindex=\"0\">\\n<label for=\"Turkmenistan_19668\">\\n土库曼斯坦\\n<span class=\"facet-hits\"></span>\\n</label>\\n</div>\\n<div\\nclass=\"filter-checkbox-wrap__checkbox Wallis_and_Futuna_19682\">\\n<input type=\"checkbox\" name=\"filterCountry\" id=\"Wallis_and_Futuna_19682\" tabindex=\"0\">\\n<label for=\"Wallis_and_Futuna_19682\">\\n瓦利斯和富图纳群岛\\n<span class=\"facet-hits\"></span>\\n</label>\\n</div>\\n<div\\nclass=\"filter-checkbox-wrap__checkbox Brunei_19562\">\\n<input type=\"checkbox\" name=\"filterCountry\" id=\"Brunei_19562\" tabindex=\"0\">\\n<label for=\"Brunei_19562\">\\n文莱\\n<span class=\"facet-hits\"></span>\\n</label>\\n</div>\\n<div\\nclass=\"filter-checkbox-wrap__checkbox Uzbekistan_19674\">\\n<input type=\"checkbox\" name=\"filterCountry\" id=\"Uzbekistan_19674\" tabindex=\"0\">\\n<label for=\"Uzbekistan_19674\">\\n乌兹别克斯坦\\n<span class=\"facet-hits\"></span>\\n</label>\\n</div>\\n<div\\nclass=\"filter-checkbox-wrap__checkbox Hong_Kong_21122\">\\n<input type=\"checkbox\" name=\"filterCountry\" id=\"Hong_Kong_21122\" tabindex=\"0\">\\n<label for=\"Hong_Kong_21122\">\\n香港特区\\n<span class=\"facet-hits\"></span>\\n</label>\\n</div>\\n<div\\nclass=\"filter-checkbox-wrap__checkbox Singapore_19648\">\\n<input type=\"checkbox\" name=\"filterCountry\" id=\"Singapore_19648\" tabindex=\"0\">\\n<label for=\"Singapore_19648\">\\n新加坡\\n<span class=\"facet-hits\"></span>\\n</label>\\n</div>\\n<div\\nclass=\"filter-checkbox-wrap__checkbox New_Zealand_19622\">\\n<input type=\"checkbox\" name=\"filterCountry\" id=\"New_Zealand_19622\" tabindex=\"0\">\\n<label for=\"New_Zealand_19622\">\\n新西兰\\n<span class=\"facet-hits\"></span>\\n</label>\\n</div>\\n<div\\nclass=\"filter-checkbox-wrap__checkbox Armenia_19550\">\\n<input type=\"checkbox\" name=\"filterCountry\" id=\"Armenia_19550\" tabindex=\"0\">\\n<label for=\"Armenia_19550\">\\n亚美尼亚\\n<span class=\"facet-hits\"></span>\\n</label>\\n</div>\\n<div\\nclass=\"filter-checkbox-wrap__checkbox Yemen_19684\">\\n<input type=\"checkbox\" name=\"filterCountry\" id=\"Yemen_19684\" tabindex=\"0\">\\n<label for=\"Yemen_19684\">\\n也门\\n<span class=\"facet-hits\"></span>\\n</label>\\n</div>\\n<div\\nclass=\"filter-checkbox-wrap__checkbox Iran_19582\">\\n<input type=\"checkbox\" name=\"filterCountry\" id=\"Iran_19582\" tabindex=\"0\">\\n<label for=\"Iran_19582\">\\n伊朗\\n<span class=\"facet-hits\"></span>\\n</label>\\n</div>\\n<div\\nclass=\"filter-checkbox-wrap__checkbox India_19576\">\\n<input type=\"checkbox\" name=\"filterCountry\" id=\"India_19576\" tabindex=\"0\">\\n<label for=\"India_19576\">\\n印度\\n<span class=\"facet-hits\"></span>\\n</label>\\n</div>\\n<div\\nclass=\"filter-checkbox-wrap__checkbox Indonesia_19578\">\\n<input type=\"checkbox\" name=\"filterCountry\" id=\"Indonesia_19578\" tabindex=\"0\">\\n<label for=\"Indonesia_19578\">\\n印度尼西亚\\n<span class=\"facet-hits\"></span>\\n</label>\\n</div>\\n<div\\nclass=\"filter-checkbox-wrap__checkbox Vietnam_19680\">\\n<input type=\"checkbox\" name=\"filterCountry\" id=\"Vietnam_19680\" tabindex=\"0\">\\n<label for=\"Vietnam_19680\">\\n越南\\n<span class=\"facet-hits\"></span>\\n</label>\\n</div>\\n<div\\nclass=\"filter-checkbox-wrap__checkbox China_19566\">\\n<input type=\"checkbox\" name=\"filterCountry\" id=\"China_19566\" tabindex=\"0\">\\n<label for=\"China_19566\">\\n中国大陆地区\\n<span class=\"facet-hits\"></span>\\n</label>\\n</div>\\n<div\\nclass=\"filter-checkbox-wrap__checkbox Taiwan_21196\">\\n<input type=\"checkbox\" name=\"filterCountry\" id=\"Taiwan_21196\" tabindex=\"0\">\\n<label for=\"Taiwan_21196\">\\n中国台湾\\n<span class=\"facet-hits\"></span>\\n</label>\\n</div>\\n<div\\nclass=\"filter-checkbox-wrap__checkbox Nauru_19618\">\\n<input type=\"checkbox\" name=\"filterCountry\" id=\"Nauru_19618\" tabindex=\"0\">\\n<label for=\"Nauru_19618\">\\n瑙鲁\\n<span class=\"facet-hits\"></span>\\n</label>\\n</div>\\n<div\\nclass=\"filter-checkbox-wrap__checkbox Fiji_19572\">\\n<input type=\"checkbox\" name=\"filterCountry\" id=\"Fiji_19572\" tabindex=\"0\">\\n<label for=\"Fiji_19572\">\\n斐济\\n<span class=\"facet-hits\"></span>\\n</label>\\n</div>\\n</div>\\n<div class=\"filter-checkbox-wrap__headline\"\\ndata-accordion-headline data-accordion-id=\"Tab-1831732_6\" tabindex=0 role=tab aria-expanded=false aria-controls=tabpanel_1831732_6\\n>\\n<div class=\"filter-checkbox-wrap__checkbox Africa___Middle_East_18580\">\\n<input type=\"checkbox\" name=\"filterRegion\" id=\"Africa___Middle_East_18580\" tabindex=\"0\">\\n<label for=\"Africa___Middle_East_18580\">\\n非洲，印度&amp;中東\\n<span class=\"facet-hits\"></span>\\n</label>\\n<svg class=\"a-icon a-icon--arrow_down\" width=\"16\" height=\"16\" focusable=\"false\">\\n<use href=\"/resource/crblob/1759152/464be25d581b011e6a40695f52ed5a82/icons-sprite-svg-data.svg#arrow_down\"></use>\\n</svg> </div>\\n</div>\\n<div\\ndata-accordion-content role=\"tabpanel\" id=\"tabpanel_1831732_6\" data-inner-padding=\"false\" inert\\n>\\n<div\\nclass=\"filter-checkbox-wrap__checkbox Algeria_19416\">\\n<input type=\"checkbox\" name=\"filterCountry\" id=\"Algeria_19416\" tabindex=\"0\">\\n<label for=\"Algeria_19416\">\\n阿尔及利亚\\n<span class=\"facet-hits\"></span>\\n</label>\\n</div>\\n<div\\nclass=\"filter-checkbox-wrap__checkbox United_Arab_Emirates_19672\">\\n<input type=\"checkbox\" name=\"filterCountry\" id=\"United_Arab_Emirates_19672\" tabindex=\"0\">\\n<label for=\"United_Arab_Emirates_19672\">\\n阿拉伯联合酋长国\\n<span class=\"facet-hits\"></span>\\n</label>\\n</div>\\n<div\\nclass=\"filter-checkbox-wrap__checkbox Egypt_19450\">\\n<input type=\"checkbox\" name=\"filterCountry\" id=\"Egypt_19450\" tabindex=\"0\">\\n<label for=\"Egypt_19450\">\\n埃及\\n<span class=\"facet-hits\"></span>\\n</label>\\n</div>\\n<div\\nclass=\"filter-checkbox-wrap__checkbox Ethiopia_19458\">\\n<input type=\"checkbox\" name=\"filterCountry\" id=\"Ethiopia_19458\" tabindex=\"0\">\\n<label for=\"Ethiopia_19458\">\\n埃塞俄比亚\\n<span class=\"facet-hits\"></span>\\n</label>\\n</div>\\n<div\\nclass=\"filter-checkbox-wrap__checkbox Angola_19420\">\\n<input type=\"checkbox\" name=\"filterCountry\" id=\"Angola_19420\" tabindex=\"0\">\\n<label for=\"Angola_19420\">\\n安哥拉\\n<span class=\"facet-hits\"></span>\\n</label>\\n</div>\\n<div\\nclass=\"filter-checkbox-wrap__checkbox Benin_19422\">\\n<input type=\"checkbox\" name=\"filterCountry\" id=\"Benin_19422\" tabindex=\"0\">\\n<label for=\"Benin_19422\">\\n贝宁\\n<span class=\"facet-hits\"></span>\\n</label>\\n</div>\\n<div\\nclass=\"filter-checkbox-wrap__checkbox Botswana_19426\">\\n<input type=\"checkbox\" name=\"filterCountry\" id=\"Botswana_19426\" tabindex=\"0\">\\n<label for=\"Botswana_19426\">\\n博茨瓦纳\\n<span class=\"facet-hits\"></span>\\n</label>\\n</div>\\n<div\\nclass=\"filter-checkbox-wrap__checkbox Burkina_Faso_19428\">\\n<input type=\"checkbox\" name=\"filterCountry\" id=\"Burkina_Faso_19428\" tabindex=\"0\">\\n<label for=\"Burkina_Faso_19428\">\\n布基纳法索\\n<span class=\"facet-hits\"></span>\\n</label>\\n</div>\\n<div\\nclass=\"filter-checkbox-wrap__checkbox Burundi_19430\">\\n<input type=\"checkbox\" name=\"filterCountry\" id=\"Burundi_19430\" tabindex=\"0\">\\n<label for=\"Burundi_19430\">\\n布隆迪\\n<span class=\"facet-hits\"></span>\\n</label>\\n</div>\\n<div\\nclass=\"filter-checkbox-wrap__checkbox Equatorial_Guinea_19454\">\\n<input type=\"checkbox\" name=\"filterCountry\" id=\"Equatorial_Guinea_19454\" tabindex=\"0\">\\n<label for=\"Equatorial_Guinea_19454\">\\n赤道几内亚\\n<span class=\"facet-hits\"></span>\\n</label>\\n</div>\\n<div\\nclass=\"filter-checkbox-wrap__checkbox Togo_19532\">\\n<input type=\"checkbox\" name=\"filterCountry\" id=\"Togo_19532\" tabindex=\"0\">\\n<label for=\"Togo_19532\">\\n多哥\\n<span class=\"facet-hits\"></span>\\n</label>\\n</div>\\n<div\\nclass=\"filter-checkbox-wrap__checkbox Eritrea_19456\">\\n<input type=\"checkbox\" name=\"filterCountry\" id=\"Eritrea_19456\" tabindex=\"0\">\\n<label for=\"Eritrea_19456\">\\n厄立特里亚\\n<span class=\"facet-hits\"></span>\\n</label>\\n</div>\\n<div\\nclass=\"filter-checkbox-wrap__checkbox Cape_Verde_19434\">\\n<input type=\"checkbox\" name=\"filterCountry\" id=\"Cape_Verde_19434\" tabindex=\"0\">\\n<label for=\"Cape_Verde_19434\">\\n佛得角\\n<span class=\"facet-hits\"></span>\\n</label>\\n</div>\\n<div\\nclass=\"filter-checkbox-wrap__checkbox Gambia_19462\">\\n<input type=\"checkbox\" name=\"filterCountry\" id=\"Gambia_19462\" tabindex=\"0\">\\n<label for=\"Gambia_19462\">\\n冈比亚\\n<span class=\"facet-hits\"></span>\\n</label>\\n</div>\\n<div\\nclass=\"filter-checkbox-wrap__checkbox Congo_Kinshasa__Democratic_Republic__19446\">\\n<input type=\"checkbox\" name=\"filterCountry\" id=\"Congo_Kinshasa__Democratic_Republic__19446\" tabindex=\"0\">\\n<label for=\"Congo_Kinshasa__Democratic_Republic__19446\">\\n刚果（民主共和国）\\n<span class=\"facet-hits\"></span>\\n</label>\\n</div>\\n<div\\nclass=\"filter-checkbox-wrap__checkbox Congo_Brazzaville_19442\">\\n<input type=\"checkbox\" name=\"filterCountry\" id=\"Congo_Brazzaville_19442\" tabindex=\"0\">\\n<label for=\"Congo_Brazzaville_19442\">\\n刚果布拉柴维尔\\n<span class=\"facet-hits\"></span>\\n</label>\\n</div>\\n<div\\nclass=\"filter-checkbox-wrap__checkbox Djibouti_19448\">\\n<input type=\"checkbox\" name=\"filterCountry\" id=\"Djibouti_19448\" tabindex=\"0\">\\n<label for=\"Djibouti_19448\">\\n吉布提\\n<span class=\"facet-hits\"></span>\\n</label>\\n</div>\\n<div\\nclass=\"filter-checkbox-wrap__checkbox Guinea_19466\">\\n<input type=\"checkbox\" name=\"filterCountry\" id=\"Guinea_19466\" tabindex=\"0\">\\n<label for=\"Guinea_19466\">\\n几内亚\\n<span class=\"facet-hits\"></span>\\n</label>\\n</div>\\n<div\\nclass=\"filter-checkbox-wrap__checkbox Guinea_Bissau_19474\">\\n<input type=\"checkbox\" name=\"filterCountry\" id=\"Guinea_Bissau_19474\" tabindex=\"0\">\\n<label for=\"Guinea_Bissau_19474\">\\n几内亚比绍\\n<span class=\"facet-hits\"></span>\\n</label>\\n</div>\\n<div\\nclass=\"filter-checkbox-wrap__checkbox Ghana_19464\">\\n<input type=\"checkbox\" name=\"filterCountry\" id=\"Ghana_19464\" tabindex=\"0\">\\n<label for=\"Ghana_19464\">\\n加纳\\n<span class=\"facet-hits\"></span>\\n</label>\\n</div>\\n<div\\nclass=\"filter-checkbox-wrap__checkbox Gabon_19460\">\\n<input type=\"checkbox\" name=\"filterCountry\" id=\"Gabon_19460\" tabindex=\"0\">\\n<label for=\"Gabon_19460\">\\n加蓬\\n<span class=\"facet-hits\"></span>\\n</label>\\n</div>\\n<div\\nclass=\"filter-checkbox-wrap__checkbox Zimbabwe_19540\">\\n<input type=\"checkbox\" name=\"filterCountry\" id=\"Zimbabwe_19540\" tabindex=\"0\">\\n<label for=\"Zimbabwe_19540\">\\n津巴布韦\\n<span class=\"facet-hits\"></span>\\n</label>\\n</div>\\n<div\\nclass=\"filter-checkbox-wrap__checkbox Cameroon_19432\">\\n<input type=\"checkbox\" name=\"filterCountry\" id=\"Cameroon_19432\" tabindex=\"0\">\\n<label for=\"Cameroon_19432\">\\n喀麦隆\\n<span class=\"facet-hits\"></span>\\n</label>\\n</div>\\n<div\\nclass=\"filter-checkbox-wrap__checkbox Comoros_19440\">\\n<input type=\"checkbox\" name=\"filterCountry\" id=\"Comoros_19440\" tabindex=\"0\">\\n<label for=\"Comoros_19440\">\\n科摩罗\\n<span class=\"facet-hits\"></span>\\n</label>\\n</div>\\n<div\\nclass=\"filter-checkbox-wrap__checkbox Ivory_Coast_19444\">\\n<input type=\"checkbox\" name=\"filterCountry\" id=\"Ivory_Coast_19444\" tabindex=\"0\">\\n<label for=\"Ivory_Coast_19444\">\\n科特迪瓦\\n<span class=\"facet-hits\"></span>\\n</label>\\n</div>\\n<div\\nclass=\"filter-checkbox-wrap__checkbox Kenya_19476\">\\n<input type=\"checkbox\" name=\"filterCountry\" id=\"Kenya_19476\" tabindex=\"0\">\\n<label for=\"Kenya_19476\">\\n肯尼亚\\n<span class=\"facet-hits\"></span>\\n</label>\\n</div>\\n<div\\nclass=\"filter-checkbox-wrap__checkbox Lesotho_19478\">\\n<input type=\"checkbox\" name=\"filterCountry\" id=\"Lesotho_19478\" tabindex=\"0\">\\n<label for=\"Lesotho_19478\">\\n莱索托\\n<span class=\"facet-hits\"></span>\\n</label>\\n</div>\\n<div\\nclass=\"filter-checkbox-wrap__checkbox Lebanon_2035246\">\\n<input type=\"checkbox\" name=\"filterCountry\" id=\"Lebanon_2035246\" tabindex=\"0\">\\n<label for=\"Lebanon_2035246\">\\n黎巴嫩\\n<span class=\"facet-hits\"></span>\\n</label>\\n</div>\\n<div\\nclass=\"filter-checkbox-wrap__checkbox Rwanda_19506\">\\n<input type=\"checkbox\" name=\"filterCountry\" id=\"Rwanda_19506\" tabindex=\"0\">\\n<label for=\"Rwanda_19506\">\\n卢旺达\\n<span class=\"facet-hits\"></span>\\n</label>\\n</div>\\n<div\\nclass=\"filter-checkbox-wrap__checkbox Madagascar_19484\">\\n<input type=\"checkbox\" name=\"filterCountry\" id=\"Madagascar_19484\" tabindex=\"0\">\\n<label for=\"Madagascar_19484\">\\n马达加斯加\\n<span class=\"facet-hits\"></span>\\n</label>\\n</div>\\n<div\\nclass=\"filter-checkbox-wrap__checkbox Malawi_19486\">\\n<input type=\"checkbox\" name=\"filterCountry\" id=\"Malawi_19486\" tabindex=\"0\">\\n<label for=\"Malawi_19486\">\\n马拉维\\n<span class=\"facet-hits\"></span>\\n</label>\\n</div>\\n<div\\nclass=\"filter-checkbox-wrap__checkbox Mali_19490\">\\n<input type=\"checkbox\" name=\"filterCountry\" id=\"Mali_19490\" tabindex=\"0\">\\n<label for=\"Mali_19490\">\\n马里\\n<span class=\"facet-hits\"></span>\\n</label>\\n</div>\\n<div\\nclass=\"filter-checkbox-wrap__checkbox Mauritius_19494\">\\n<input type=\"checkbox\" name=\"filterCountry\" id=\"Mauritius_19494\" tabindex=\"0\">\\n<label for=\"Mauritius_19494\">\\n毛里求斯\\n<span class=\"facet-hits\"></span>\\n</label>\\n</div>\\n<div\\nclass=\"filter-checkbox-wrap__checkbox Mauritania_19492\">\\n<input type=\"checkbox\" name=\"filterCountry\" id=\"Mauritania_19492\" tabindex=\"0\">\\n<label for=\"Mauritania_19492\">\\n毛里塔尼亚\\n<span class=\"facet-hits\"></span>\\n</label>\\n</div>\\n<div\\nclass=\"filter-checkbox-wrap__checkbox Morocco_19496\">\\n<input type=\"checkbox\" name=\"filterCountry\" id=\"Morocco_19496\" tabindex=\"0\">\\n<label for=\"Morocco_19496\">\\n摩洛哥\\n<span class=\"facet-hits\"></span>\\n</label>\\n</div>\\n<div\\nclass=\"filter-checkbox-wrap__checkbox Mozambique_19498\">\\n<input type=\"checkbox\" name=\"filterCountry\" id=\"Mozambique_19498\" tabindex=\"0\">\\n<label for=\"Mozambique_19498\">\\n莫桑比克\\n<span class=\"facet-hits\"></span>\\n</label>\\n</div>\\n<div\\nclass=\"filter-checkbox-wrap__checkbox Namibia_19500\">\\n<input type=\"checkbox\" name=\"filterCountry\" id=\"Namibia_19500\" tabindex=\"0\">\\n<label for=\"Namibia_19500\">\\n纳米比亚\\n<span class=\"facet-hits\"></span>\\n</label>\\n</div>\\n<div\\nclass=\"filter-checkbox-wrap__checkbox South_Africa_19520\">\\n<input type=\"checkbox\" name=\"filterCountry\" id=\"South_Africa_19520\" tabindex=\"0\">\\n<label for=\"South_Africa_19520\">\\n南非\\n<span class=\"facet-hits\"></span>\\n</label>\\n</div>\\n<div\\nclass=\"filter-checkbox-wrap__checkbox South_Sudan_19522\">\\n<input type=\"checkbox\" name=\"filterCountry\" id=\"South_Sudan_19522\" tabindex=\"0\">\\n<label for=\"South_Sudan_19522\">\\n南苏丹\\n<span class=\"facet-hits\"></span>\\n</label>\\n</div>\\n<div\\nclass=\"filter-checkbox-wrap__checkbox Niger_19502\">\\n<input type=\"checkbox\" name=\"filterCountry\" id=\"Niger_19502\" tabindex=\"0\">\\n<label for=\"Niger_19502\">\\n尼日尔\\n<span class=\"facet-hits\"></span>\\n</label>\\n</div>\\n<div\\nclass=\"filter-checkbox-wrap__checkbox Nigeria_19504\">\\n<input type=\"checkbox\" name=\"filterCountry\" id=\"Nigeria_19504\" tabindex=\"0\">\\n<label for=\"Nigeria_19504\">\\n尼日利亚\\n<span class=\"facet-hits\"></span>\\n</label>\\n</div>\\n<div\\nclass=\"filter-checkbox-wrap__checkbox Senegal_19510\">\\n<input type=\"checkbox\" name=\"filterCountry\" id=\"Senegal_19510\" tabindex=\"0\">\\n<label for=\"Senegal_19510\">\\n塞内加尔\\n<span class=\"facet-hits\"></span>\\n</label>\\n</div>\\n<div\\nclass=\"filter-checkbox-wrap__checkbox Seychelles_19514\">\\n<input type=\"checkbox\" name=\"filterCountry\" id=\"Seychelles_19514\" tabindex=\"0\">\\n<label for=\"Seychelles_19514\">\\n塞舌尔\\n<span class=\"facet-hits\"></span>\\n</label>\\n</div>\\n<div\\nclass=\"filter-checkbox-wrap__checkbox Saudi_Arabia_19646\">\\n<input type=\"checkbox\" name=\"filterCountry\" id=\"Saudi_Arabia_19646\" tabindex=\"0\">\\n<label for=\"Saudi_Arabia_19646\">\\n沙特阿拉伯\\n<span class=\"facet-hits\"></span>\\n</label>\\n</div>\\n<div\\nclass=\"filter-checkbox-wrap__checkbox S_o_Tom__and_Pr_ncipe_19508\">\\n<input type=\"checkbox\" name=\"filterCountry\" id=\"S_o_Tom__and_Pr_ncipe_19508\" tabindex=\"0\">\\n<label for=\"S_o_Tom__and_Pr_ncipe_19508\">\\n圣多美和普林西比\\n<span class=\"facet-hits\"></span>\\n</label>\\n</div>\\n<div\\nclass=\"filter-checkbox-wrap__checkbox Swaziland_19528\">\\n<input type=\"checkbox\" name=\"filterCountry\" id=\"Swaziland_19528\" tabindex=\"0\">\\n<label for=\"Swaziland_19528\">\\n斯威士兰\\n<span class=\"facet-hits\"></span>\\n</label>\\n</div>\\n<div\\nclass=\"filter-checkbox-wrap__checkbox Sudan_19524\">\\n<input type=\"checkbox\" name=\"filterCountry\" id=\"Sudan_19524\" tabindex=\"0\">\\n<label for=\"Sudan_19524\">\\n苏丹\\n<span class=\"facet-hits\"></span>\\n</label>\\n</div>\\n<div\\nclass=\"filter-checkbox-wrap__checkbox Somalia_19518\">\\n<input type=\"checkbox\" name=\"filterCountry\" id=\"Somalia_19518\" tabindex=\"0\">\\n<label for=\"Somalia_19518\">\\n索马里\\n<span class=\"facet-hits\"></span>\\n</label>\\n</div>\\n<div\\nclass=\"filter-checkbox-wrap__checkbox Tanzania_19530\">\\n<input type=\"checkbox\" name=\"filterCountry\" id=\"Tanzania_19530\" tabindex=\"0\">\\n<label for=\"Tanzania_19530\">\\n坦桑尼亚\\n<span class=\"facet-hits\"></span>\\n</label>\\n</div>\\n<div\\nclass=\"filter-checkbox-wrap__checkbox Tunisia_19534\">\\n<input type=\"checkbox\" name=\"filterCountry\" id=\"Tunisia_19534\" tabindex=\"0\">\\n<label for=\"Tunisia_19534\">\\n突尼斯\\n<span class=\"facet-hits\"></span>\\n</label>\\n</div>\\n<div\\nclass=\"filter-checkbox-wrap__checkbox Turkey_19780\">\\n<input type=\"checkbox\" name=\"filterCountry\" id=\"Turkey_19780\" tabindex=\"0\">\\n<label for=\"Turkey_19780\">\\n土耳其\\n<span class=\"facet-hits\"></span>\\n</label>\\n</div>\\n<div\\nclass=\"filter-checkbox-wrap__checkbox Uganda_19536\">\\n<input type=\"checkbox\" name=\"filterCountry\" id=\"Uganda_19536\" tabindex=\"0\">\\n<label for=\"Uganda_19536\">\\n乌干达\\n<span class=\"facet-hits\"></span>\\n</label>\\n</div>\\n<div\\nclass=\"filter-checkbox-wrap__checkbox Israel_19586\">\\n<input type=\"checkbox\" name=\"filterCountry\" id=\"Israel_19586\" tabindex=\"0\">\\n<label for=\"Israel_19586\">\\n以色列\\n<span class=\"facet-hits\"></span>\\n</label>\\n</div>\\n<div\\nclass=\"filter-checkbox-wrap__checkbox Jordan_19590\">\\n<input type=\"checkbox\" name=\"filterCountry\" id=\"Jordan_19590\" tabindex=\"0\">\\n<label for=\"Jordan_19590\">\\n约旦\\n<span class=\"facet-hits\"></span>\\n</label>\\n</div>\\n<div\\nclass=\"filter-checkbox-wrap__checkbox Zambia_19538\">\\n<input type=\"checkbox\" name=\"filterCountry\" id=\"Zambia_19538\" tabindex=\"0\">\\n<label for=\"Zambia_19538\">\\n赞比亚\\n<span class=\"facet-hits\"></span>\\n</label>\\n</div>\\n<div\\nclass=\"filter-checkbox-wrap__checkbox Chad_19438\">\\n<input type=\"checkbox\" name=\"filterCountry\" id=\"Chad_19438\" tabindex=\"0\">\\n<label for=\"Chad_19438\">\\n乍得\\n<span class=\"facet-hits\"></span>\\n</label>\\n</div>\\n<div\\nclass=\"filter-checkbox-wrap__checkbox Central_African_Republic_19436\">\\n<input type=\"checkbox\" name=\"filterCountry\" id=\"Central_African_Republic_19436\" tabindex=\"0\">\\n<label for=\"Central_African_Republic_19436\">\\n中非共和国\\n<span class=\"facet-hits\"></span>\\n</label>\\n</div>\\n</div>\\n</div>\\n</div>\\n</div>\\n</div> <button type=\"button\" class=\"filter-menu__save\">Save</button>\\n</div> </div>\\n<div class=\"filter-menu-wrap\" tabindex=\"0\" data-filter-inputs>\\n<input type=\"hidden\" name=\"select_1831732_0_Customer_Segments_10814\" class=\"filter-value\"\\nvalue=\"\"/>\\n<span class=\"filter-headline\">\\n客户部分\\n<span class=\"facet-hits-combined\"></span>\\n</span>\\n<div class=\"filter-menu-content\">\\n<div class=\"filter-menu-content__small-menu\">\\n<div class=\"filter-menu__corner-left\">\\n<span class=\"filter-menu__back\">客户部分</span>\\n<span class=\"filter-local\">Filter</span>\\n</div>\\n<div class=\"filter-menu__corner-right\">\\n<span class=\"filter-menu__reset\" tabindex=\"0\">Reset</span>\\n<span class=\"filter-menu__close\" tabindex=\"0\">\\n<svg width=\"24\" height=\"24\" viewBox=\"0 0 40 40\" fill=\"currentColor\"\\nxmlns=\"http://www.w3.org/2000/svg\" class=\"svg--close\">\\n<path\\nd=\"M35.0388 2.5L37.0441 4.5053L24 17.9787V21.9205L37.5 35.0388L35.4946 37.0441L22.0594 24H18.0415L4.96121 37.4999L2.95587 35.4946L16 22.0321V18.0066L2.5 4.96113L4.50534 2.95584L18.0195 16H21.9689L35.0388 2.5Z\"/>\\n</svg>\\n</span>\\n</div>\\n</div>\\n<div class=\"filter-checkbox-wrap\">\\n<div class=\"filter-checkbox-wrap__checkbox Consumer_10816\">\\n<input type=\"checkbox\" name=\"Consumer_10816\" data-filter-name=\"Consumer\" id=\"Consumer_10816\" tabindex=\"0\">\\n<label for=\"Consumer\">\\n消费者\\n<span class=\"facet-hits\"></span>\\n</label>\\n</div>\\n<div class=\"filter-checkbox-wrap__checkbox Professionals_18662\">\\n<input type=\"checkbox\" name=\"Professionals_18662\" data-filter-name=\"Professionals\" id=\"Professionals_18662\" tabindex=\"0\">\\n<label for=\"Professionals\">\\n专业\\n<span class=\"facet-hits\"></span>\\n</label>\\n</div>\\n</div> <button type=\"button\" class=\"filter-menu__save\">Save</button>\\n</div> </div>\\n<div class=\"filter-menu-wrap\" tabindex=\"0\" data-filter-inputs>\\n<input type=\"hidden\" name=\"select_1831732_3_Product_Category_18606\" class=\"filter-value\"\\nvalue=\"\"/>\\n<span class=\"filter-headline\">\\n产品类型\\n<span class=\"facet-hits-combined\"></span>\\n</span>\\n<div class=\"filter-menu-content\">\\n<div class=\"filter-menu-content__small-menu\">\\n<div class=\"filter-menu__corner-left\">\\n<span class=\"filter-menu__back\">产品类型</span>\\n<span class=\"filter-local\">Filter</span>\\n</div>\\n<div class=\"filter-menu__corner-right\">\\n<span class=\"filter-menu__reset\" tabindex=\"0\">Reset</span>\\n<span class=\"filter-menu__close\" tabindex=\"0\">\\n<svg width=\"24\" height=\"24\" viewBox=\"0 0 40 40\" fill=\"currentColor\"\\nxmlns=\"http://www.w3.org/2000/svg\" class=\"svg--close\">\\n<path\\nd=\"M35.0388 2.5L37.0441 4.5053L24 17.9787V21.9205L37.5 35.0388L35.4946 37.0441L22.0594 24H18.0415L4.96121 37.4999L2.95587 35.4946L16 22.0321V18.0066L2.5 4.96113L4.50534 2.95584L18.0195 16H21.9689L35.0388 2.5Z\"/>\\n</svg>\\n</span>\\n</div>\\n</div>\\n<div class=\"filter-checkbox-wrap\">\\n<div class=\"filter-checkbox-wrap__checkbox Air_Care_27678\">\\n<input type=\"checkbox\" name=\"Air_Care_27678\" data-filter-name=\"Air Care\" id=\"Air_Care_27678\" tabindex=\"0\">\\n<label for=\"Air Care\">\\n空气净化\\n<span class=\"facet-hits\"></span>\\n</label>\\n</div>\\n<div class=\"filter-checkbox-wrap__checkbox Body_Care_18652\">\\n<input type=\"checkbox\" name=\"Body_Care_18652\" data-filter-name=\"Body Care\" id=\"Body_Care_18652\" tabindex=\"0\">\\n<label for=\"Body Care\">\\n身体护理\\n<span class=\"facet-hits\"></span>\\n</label>\\n</div>\\n<div class=\"filter-checkbox-wrap__checkbox Dishwashing_26514\">\\n<input type=\"checkbox\" name=\"Dishwashing_26514\" data-filter-name=\"Dishwashing\" id=\"Dishwashing_26514\" tabindex=\"0\">\\n<label for=\"Dishwashing\">\\n餐具清洁\\n<span class=\"facet-hits\"></span>\\n</label>\\n</div>\\n<div class=\"filter-checkbox-wrap__checkbox Hair_Care_18648\">\\n<input type=\"checkbox\" name=\"Hair_Care_18648\" data-filter-name=\"Hair Care\" id=\"Hair_Care_18648\" tabindex=\"0\">\\n<label for=\"Hair Care\">\\n头发护理\\n<span class=\"facet-hits\"></span>\\n</label>\\n</div>\\n<div class=\"filter-checkbox-wrap__checkbox Hair_Color_18646\">\\n<input type=\"checkbox\" name=\"Hair_Color_18646\" data-filter-name=\"Hair Color\" id=\"Hair_Color_18646\" tabindex=\"0\">\\n<label for=\"Hair Color\">\\n发色\\n<span class=\"facet-hits\"></span>\\n</label>\\n</div>\\n<div class=\"filter-checkbox-wrap__checkbox Hair_Styling_18650\">\\n<input type=\"checkbox\" name=\"Hair_Styling_18650\" data-filter-name=\"Hair Styling\" id=\"Hair_Styling_18650\" tabindex=\"0\">\\n<label for=\"Hair Styling\">\\n发型\\n<span class=\"facet-hits\"></span>\\n</label>\\n</div>\\n<div class=\"filter-checkbox-wrap__checkbox Hard_Surface_Cleaner_27290\">\\n<input type=\"checkbox\" name=\"Hard_Surface_Cleaner_27290\" data-filter-name=\"Hard Surface Cleaner\" id=\"Hard_Surface_Cleaner_27290\" tabindex=\"0\">\\n<label for=\"Hard Surface Cleaner\">\\n硬表面清洁剂\\n<span class=\"facet-hits\"></span>\\n</label>\\n</div>\\n<div class=\"filter-checkbox-wrap__checkbox Insect_Control_27682\">\\n<input type=\"checkbox\" name=\"Insect_Control_27682\" data-filter-name=\"Insect Control\" id=\"Insect_Control_27682\" tabindex=\"0\">\\n<label for=\"Insect Control\">\\n杀虫剂\\n<span class=\"facet-hits\"></span>\\n</label>\\n</div>\\n<div class=\"filter-checkbox-wrap__checkbox Laundry_Additives_27904\">\\n<input type=\"checkbox\" name=\"Laundry_Additives_27904\" data-filter-name=\"Laundry Additives\" id=\"Laundry_Additives_27904\" tabindex=\"0\">\\n<label for=\"Laundry Additives\">\\n洗涤剂添加剂\\n<span class=\"facet-hits\"></span>\\n</label>\\n</div>\\n<div class=\"filter-checkbox-wrap__checkbox Laundry_Detergents_26656\">\\n<input type=\"checkbox\" name=\"Laundry_Detergents_26656\" data-filter-name=\"Laundry Detergents\" id=\"Laundry_Detergents_26656\" tabindex=\"0\">\\n<label for=\"Laundry Detergents\">\\n洗涤剂\\n<span class=\"facet-hits\"></span>\\n</label>\\n</div>\\n<div class=\"filter-checkbox-wrap__checkbox Toilet_Care_27606\">\\n<input type=\"checkbox\" name=\"Toilet_Care_27606\" data-filter-name=\"Toilet Care\" id=\"Toilet_Care_27606\" tabindex=\"0\">\\n<label for=\"Toilet Care\">\\n卫生间护理\\n<span class=\"facet-hits\"></span>\\n</label>\\n</div>\\n</div> <button type=\"button\" class=\"filter-menu__save\">Save</button>\\n</div> </div>\\n</div>\\n</div>\\n<div class=\"filter-search\">\\n<input type=\"text\" name=\"search_filter\" class=\"search ui-autocomplete-input\"\\nid=\"filter-search-adjusted\"\\nplaceholder=\"Search \"\\ndata-js-autocomplete-base-url=\"/service/search/cn/492950\"\\ndata-js-root-navigation-id=\"496226\"\\ndata-js-section-tag-id=\"\"\\ndata-doctype=\"HKBrand\"\\ndata-start-length=\"2\"\\n>\\n<button type=\"button\" aria-label=\"Submit\" class=\"submit\">\\n<svg class=\"a-icon a-icon--search\" width=\"20\" height=\"20\" focusable=\"false\">\\n<use href=\"/resource/crblob/1759152/464be25d581b011e6a40695f52ed5a82/icons-sprite-svg-data.svg#search\"></use>\\n</svg><svg class=\"a-icon a-icon--reset\" width=\"20\" height=\"20\" focusable=\"false\">\\n<use href=\"/resource/crblob/1759152/464be25d581b011e6a40695f52ed5a82/icons-sprite-svg-data.svg#reset\"></use>\\n</svg> </button>\\n<div class=\"no-results hidden\">No results found, please check the spelling or try another term.</div>\\n</div>\\n</form> </div>\\n</div>\\n<div class=\"load-wrap\" data-filter-collection-id=\"1831732\">\\n<div class=\"overlay fullLoadingAnimation\" style=\"display:none\"></div>\\n<div class=\"processicon fullLoadingAnimation\" style=\"display:none\"></div>\\n<div class=\"fancyResults results forced-height brand-grid\" id=\"filterResultContainer\">\\n<div data-content-id=\"501990\">\\n<div class=\"brand-logo__item \" data-wt-contenttype=\"HKBrand\">\\n<a class=\"brand-logo__anchor\" href=\"/brands-businesses/bc-bonacure-501990\">\\n<span class=\"sr-only\">\\n???internal.link.zh???\\n</span>\\n<div class=\"img-wrap\">\\r\\n<div class=\"img-wrap__crop img-wrap__crop--1x1\">\\r\\n<picture class=\"image-rwd \"\\r\\ndata-transformationName=\"BrandLogoImage\">\\r\\n<source\\r\\nsrcset=\"/resource/image/841248/1x1/750/750/f0e7184416e8a23bee537cf933e814a4/33717D0F0AEA68E9AD8874F9A9220463/uk-hu-bonacure-logo.webp 1x, /resource/image/841248/1x1/750/750/f0e7184416e8a23bee537cf933e814a4/33717D0F0AEA68E9AD8874F9A9220463/uk-hu-bonacure-logo.webp 2x\" media=\"(min-width: 1250px)\" sizes=\"100vw\">\\r\\n<source\\r\\nsrcset=\"/resource/image/841248/1x1/600/600/e684c2c3d91680dae1785200381b5bde/3AFDEC402FC1C460FEC2A692067E03A1/uk-hu-bonacure-logo.webp 1x, /resource/image/841248/1x1/600/600/e684c2c3d91680dae1785200381b5bde/3AFDEC402FC1C460FEC2A692067E03A1/uk-hu-bonacure-logo.webp 2x\" media=\"(min-width: 980px)\" sizes=\"100vw\">\\r\\n<source\\r\\nsrcset=\"/resource/image/841248/1x1/450/450/92c25a13617452f347a26edcf79549c8/1BDDB3602385DBFABC254812057DDFCE/uk-hu-bonacure-logo.webp 1x, /resource/image/841248/1x1/450/450/92c25a13617452f347a26edcf79549c8/1BDDB3602385DBFABC254812057DDFCE/uk-hu-bonacure-logo.webp 2x\" media=\"(min-width: 730px)\" sizes=\"100vw\">\\r\\n<source\\r\\nsrcset=\"/resource/image/841248/1x1/300/300/51f363114d8a0c8c61fa76607f100795/BEE6EE69043CB15D25CBD837816762CF/uk-hu-bonacure-logo.webp 1x, /resource/image/841248/1x1/300/300/51f363114d8a0c8c61fa76607f100795/BEE6EE69043CB15D25CBD837816762CF/uk-hu-bonacure-logo.webp 2x\" media=\"(min-width: 0px)\" sizes=\"100vw\">\\r\\n<img class=\"img-responsive\" alt=\"BC Bonacure logo\" src=/resource/image/841248/1x1/750/750/f0e7184416e8a23bee537cf933e814a4/33717D0F0AEA68E9AD8874F9A9220463/uk-hu-bonacure-logo.webp loading=lazy/>\\r\\n</picture>\\r\\n</div>\\r\\n</div>\\n<span class=\"sr-only\">\\n更多信息 </span>\\n</a>\\n</div> </div>\\n<div data-content-id=\"843908\">\\n<div class=\"brand-logo__item \" data-wt-contenttype=\"HKBrand\">\\n<a class=\"brand-logo__anchor\" href=\"/brands-businesses/consumer-brands/bref-843908\">\\n<span class=\"sr-only\">\\n???internal.link.en???\\n</span>\\n<div class=\"img-wrap\">\\r\\n<div class=\"img-wrap__crop img-wrap__crop--1x1\">\\r\\n<picture class=\"image-rwd \"\\r\\ndata-transformationName=\"BrandLogoImage\">\\r\\n<source\\r\\nsrcset=\"/resource/image/2052196/1x1/750/750/f22a556a43d24d9f9b0d7abd7138bad3/CB7F41939B174A81CA7DA5B1976E0AED/bref-%E5%A6%99%E5%8A%9Blogo.webp 1x, /resource/image/2052196/1x1/1500/1500/f91e687dd35306100d696c33f11b1239/245700AFED02334FE04CD71F7ACE7E75/bref-%E5%A6%99%E5%8A%9Blogo.webp 2x\" media=\"(min-width: 1250px)\" sizes=\"100vw\">\\r\\n<source\\r\\nsrcset=\"/resource/image/2052196/1x1/600/600/ab259c5d5a903e819ffd05d8f903a1d2/C2DB7BA908AD07E1FC668AF231BB68B4/bref-%E5%A6%99%E5%8A%9Blogo.webp 1x, /resource/image/2052196/1x1/1200/1200/514794f6f255009bdef7d23f65aca8dc/2F3F9CA468279E82B9847F334196B65D/bref-%E5%A6%99%E5%8A%9Blogo.webp 2x\" media=\"(min-width: 980px)\" sizes=\"100vw\">\\r\\n<source\\r\\nsrcset=\"/resource/image/2052196/1x1/450/450/5e85243524c70dd4fb0a992bc8a3a0f1/D8724E3E00354E2801F4D3FD7A6838FD/bref-%E5%A6%99%E5%8A%9Blogo.webp 1x, /resource/image/2052196/1x1/900/900/8eb52b5105567fd6d8bf207f9debbdd8/C084D1F22BD5121577A8DC01682ED68A/bref-%E5%A6%99%E5%8A%9Blogo.webp 2x\" media=\"(min-width: 730px)\" sizes=\"100vw\">\\r\\n<source\\r\\nsrcset=\"/resource/image/2052196/1x1/300/300/c0b974c22f413f25b442ce24f32b5e3/D3C9CFBF0C1287732A4D5162DE35E63F/bref-%E5%A6%99%E5%8A%9Blogo.webp 1x, /resource/image/2052196/1x1/600/600/ab259c5d5a903e819ffd05d8f903a1d2/C2DB7BA908AD07E1FC668AF231BB68B4/bref-%E5%A6%99%E5%8A%9Blogo.webp 2x\" media=\"(min-width: 0px)\" sizes=\"100vw\">\\r\\n<img class=\"img-responsive\" alt=\"Bref 妙力\" src=/resource/image/2052196/1x1/750/750/f22a556a43d24d9f9b0d7abd7138bad3/CB7F41939B174A81CA7DA5B1976E0AED/bref-%E5%A6%99%E5%8A%9Blogo.webp loading=lazy/>\\r\\n</picture>\\r\\n</div>\\r\\n</div>\\n<span class=\"sr-only\">\\n更多信息 </span>\\n</a>\\n</div> </div>\\n<div data-content-id=\"1178926\">\\n<div class=\"brand-logo__item \" data-wt-contenttype=\"HKBrand\">\\n<a class=\"brand-logo__anchor\" href=\"/brands-businesses/colour-specialist-1178926\">\\n<span class=\"sr-only\">\\n???internal.link.zh???\\n</span>\\n<div class=\"img-wrap\">\\r\\n<div class=\"img-wrap__crop img-wrap__crop--1x1\">\\r\\n<picture class=\"image-rwd \"\\r\\ndata-transformationName=\"BrandLogoImage\">\\r\\n<source\\r\\nsrcset=\"/resource/image/1178936/1x1/750/750/e5aa9c6056e98291abc6417f7ab59a49/1A6556B4AFD4835C71E7CEFD3B8E9E77/henkel-china-colour-specialist-logo.webp 1x, /resource/image/1178936/1x1/750/750/e5aa9c6056e98291abc6417f7ab59a49/1A6556B4AFD4835C71E7CEFD3B8E9E77/henkel-china-colour-specialist-logo.webp 2x\" media=\"(min-width: 1250px)\" sizes=\"100vw\">\\r\\n<source\\r\\nsrcset=\"/resource/image/1178936/1x1/600/600/2a6901300525dc4701048a4ab3f3f10/3C41471EE2AA62C694A228F59C473ABF/henkel-china-colour-specialist-logo.webp 1x, /resource/image/1178936/1x1/1200/1200/2ec4d973403120f3eeff346789ac2469/35B3FA01A978A94321E1BD5329B09B4C/henkel-china-colour-specialist-logo.webp 2x\" media=\"(min-width: 980px)\" sizes=\"100vw\">\\r\\n<source\\r\\nsrcset=\"/resource/image/1178936/1x1/450/450/575adc0edb3ef6ff21db67ee25bc0414/1B6E03D9270C2CFD2B105B3E2B0717FC/henkel-china-colour-specialist-logo.webp 1x, /resource/image/1178936/1x1/900/900/90cfc06ef24571564919b2c91ee8995c/B000AE4D513D9A3DF0FFC45AE38617B8/henkel-china-colour-specialist-logo.webp 2x\" media=\"(min-width: 730px)\" sizes=\"100vw\">\\r\\n<source\\r\\nsrcset=\"/resource/image/1178936/1x1/300/300/2a6fccc950a532c6561297ca56da2c48/9ABB57E69729B8C840C964C5A184A7BE/henkel-china-colour-specialist-logo.webp 1x, /resource/image/1178936/1x1/600/600/2a6901300525dc4701048a4ab3f3f10/3C41471EE2AA62C694A228F59C473ABF/henkel-china-colour-specialist-logo.webp 2x\" media=\"(min-width: 0px)\" sizes=\"100vw\">\\r\\n<img class=\"img-responsive\" alt=\"Colour Specialist 专彩 商标\" src=/resource/image/1178936/1x1/750/750/e5aa9c6056e98291abc6417f7ab59a49/1A6556B4AFD4835C71E7CEFD3B8E9E77/henkel-china-colour-specialist-logo.webp loading=lazy/>\\r\\n</picture>\\r\\n</div>\\r\\n</div>\\n<span class=\"sr-only\">\\n更多信息 </span>\\n</a>\\n</div> </div>\\n<div data-content-id=\"501944\">\\n<div class=\"brand-logo__item \" data-wt-contenttype=\"HKBrand\">\\n<a class=\"brand-logo__anchor\" href=\"/brands-businesses/extra-care-501944\">\\n<span class=\"sr-only\">\\n???internal.link.zh???\\n</span>\\n<div class=\"img-wrap\">\\r\\n<div class=\"img-wrap__crop img-wrap__crop--1x1\">\\r\\n<picture class=\"image-rwd \"\\r\\ndata-transformationName=\"BrandLogoImage\">\\r\\n<source\\r\\nsrcset=\"/resource/image/928458/1x1/750/750/abc8f18d027e2365efe16ee6d801719c/AFB97B8D4C7EFD2C616C4097109A41E0/schwarzkopf-logo-cn.webp 1x, /resource/image/928458/1x1/750/750/abc8f18d027e2365efe16ee6d801719c/AFB97B8D4C7EFD2C616C4097109A41E0/schwarzkopf-logo-cn.webp 2x\" media=\"(min-width: 1250px)\" sizes=\"100vw\">\\r\\n<source\\r\\nsrcset=\"/resource/image/928458/1x1/600/600/fe8288d50fd06a2714a651149f529603/1235847F711BEDEA43A5418E8E3FF563/schwarzkopf-logo-cn.webp 1x, /resource/image/928458/1x1/600/600/fe8288d50fd06a2714a651149f529603/1235847F711BEDEA43A5418E8E3FF563/schwarzkopf-logo-cn.webp 2x\" media=\"(min-width: 980px)\" sizes=\"100vw\">\\r\\n<source\\r\\nsrcset=\"/resource/image/928458/1x1/450/450/4d21c330972ce747fda6fea2ca0440f3/507402489C40829C88603F4814E65D88/schwarzkopf-logo-cn.webp 1x, /resource/image/928458/1x1/900/900/bb9d874a33a09dd148133f92b269352b/4BC435826B857819AF0538AE629D9CC8/schwarzkopf-logo-cn.webp 2x\" media=\"(min-width: 730px)\" sizes=\"100vw\">\\r\\n<source\\r\\nsrcset=\"/resource/image/928458/1x1/300/300/5e1821782d021034ed52af77f350841b/D5B65594596E8CB7F8FB72CCEE4FB692/schwarzkopf-logo-cn.webp 1x, /resource/image/928458/1x1/600/600/fe8288d50fd06a2714a651149f529603/1235847F711BEDEA43A5418E8E3FF563/schwarzkopf-logo-cn.webp 2x\" media=\"(min-width: 0px)\" sizes=\"100vw\">\\r\\n<img class=\"img-responsive\" alt=\"retail让美发生logo-黑png\" src=/resource/image/928458/1x1/750/750/abc8f18d027e2365efe16ee6d801719c/AFB97B8D4C7EFD2C616C4097109A41E0/schwarzkopf-logo-cn.webp loading=lazy/>\\r\\n</picture>\\r\\n</div>\\r\\n</div>\\n<span class=\"sr-only\">\\n更多信息 </span>\\n</a>\\n</div> </div>\\n<div data-content-id=\"866224\">\\n<div class=\"brand-logo__item \" data-wt-contenttype=\"HKBrand\">\\n<a class=\"brand-logo__anchor\" href=\"/brands-businesses/essensity-866224\">\\n<span class=\"sr-only\">\\n???internal.link.zh???\\n</span>\\n<div class=\"img-wrap\">\\r\\n<div class=\"img-wrap__crop img-wrap__crop--1x1\">\\r\\n<picture class=\"image-rwd \"\\r\\ndata-transformationName=\"BrandLogoImage\">\\r\\n<source\\r\\nsrcset=\"/resource/image/33588/1x1/750/750/6557633fae853ac46dc2b0f6f4d4db8/43D7A1C0379A8E0B1566F3FE0ED18A60/essensity-logo.webp 1x, /resource/image/33588/1x1/750/750/6557633fae853ac46dc2b0f6f4d4db8/43D7A1C0379A8E0B1566F3FE0ED18A60/essensity-logo.webp 2x\" media=\"(min-width: 1250px)\" sizes=\"100vw\">\\r\\n<source\\r\\nsrcset=\"/resource/image/33588/1x1/600/600/74dd6b21b3527bdd5de9e5f940eb320a/E792EC6C7C0A255D211571FC08F19D67/essensity-logo.webp 1x, /resource/image/33588/1x1/600/600/74dd6b21b3527bdd5de9e5f940eb320a/E792EC6C7C0A255D211571FC08F19D67/essensity-logo.webp 2x\" media=\"(min-width: 980px)\" sizes=\"100vw\">\\r\\n<source\\r\\nsrcset=\"/resource/image/33588/1x1/450/450/57acd1868c3a55b53dc1c7a8f885a70c/7604126C748C0C65C2323D4BD6042280/essensity-logo.webp 1x, /resource/image/33588/1x1/900/900/c6990160d816568db4dc15aa5b1c61d2/5D64F844D56229C9C88C94982CB43AB2/essensity-logo.webp 2x\" media=\"(min-width: 730px)\" sizes=\"100vw\">\\r\\n<source\\r\\nsrcset=\"/resource/image/33588/1x1/300/300/6bc969f2d326320faf6b9dc91fb74e94/E0C2DEB24B0E49EE4E64D12A877A7E84/essensity-logo.webp 1x, /resource/image/33588/1x1/600/600/74dd6b21b3527bdd5de9e5f940eb320a/E792EC6C7C0A255D211571FC08F19D67/essensity-logo.webp 2x\" media=\"(min-width: 0px)\" sizes=\"100vw\">\\r\\n<img class=\"img-responsive\" alt=\"Essensity logo\" src=/resource/image/33588/1x1/750/750/6557633fae853ac46dc2b0f6f4d4db8/43D7A1C0379A8E0B1566F3FE0ED18A60/essensity-logo.webp loading=lazy/>\\r\\n</picture>\\r\\n</div>\\r\\n</div>\\n<span class=\"sr-only\">\\n更多信息 </span>\\n</a>\\n</div> </div>\\n<div data-content-id=\"1963524\">\\n<div class=\"brand-logo__item \" data-wt-contenttype=\"HKBrand\">\\n<a class=\"brand-logo__anchor\" href=\"/brands-businesses/fibre-clinix-1963524\">\\n<span class=\"sr-only\">\\n???internal.link.zh???\\n</span>\\n<div class=\"img-wrap\">\\r\\n<div class=\"img-wrap__crop img-wrap__crop--1x1\">\\r\\n<picture class=\"image-rwd \"\\r\\ndata-transformationName=\"BrandLogoImage\">\\r\\n<source\\r\\nsrcset=\"/resource/image/1169866/1x1/750/750/362b59a5ab765cc2646c7b52124a5452/7D801A257612557A4B34D00D8285FABB/schwarzkopf-fibreclinix-logo.webp 1x, /resource/image/1169866/1x1/750/750/362b59a5ab765cc2646c7b52124a5452/7D801A257612557A4B34D00D8285FABB/schwarzkopf-fibreclinix-logo.webp 2x\" media=\"(min-width: 1250px)\" sizes=\"100vw\">\\r\\n<source\\r\\nsrcset=\"/resource/image/1169866/1x1/600/600/b3fff8d89d1a95c1638af35a18c104f4/D393E1DBCCD0B9071853B9C47989D6C4/schwarzkopf-fibreclinix-logo.webp 1x, /resource/image/1169866/1x1/600/600/b3fff8d89d1a95c1638af35a18c104f4/D393E1DBCCD0B9071853B9C47989D6C4/schwarzkopf-fibreclinix-logo.webp 2x\" media=\"(min-width: 980px)\" sizes=\"100vw\">\\r\\n<source\\r\\nsrcset=\"/resource/image/1169866/1x1/450/450/6297e3c5fcb899b93a2ab133937ce211/57509BB1F10CBEA5F1A3CE7997E0B963/schwarzkopf-fibreclinix-logo.webp 1x, /resource/image/1169866/1x1/450/450/6297e3c5fcb899b93a2ab133937ce211/57509BB1F10CBEA5F1A3CE7997E0B963/schwarzkopf-fibreclinix-logo.webp 2x\" media=\"(min-width: 730px)\" sizes=\"100vw\">\\r\\n<source\\r\\nsrcset=\"/resource/image/1169866/1x1/300/300/400486085d5b57cebef72ac35f377e3a/4DAA3598F480C09EAF5EC0DDA62B5C42/schwarzkopf-fibreclinix-logo.webp 1x, /resource/image/1169866/1x1/300/300/400486085d5b57cebef72ac35f377e3a/4DAA3598F480C09EAF5EC0DDA62B5C42/schwarzkopf-fibreclinix-logo.webp 2x\" media=\"(min-width: 0px)\" sizes=\"100vw\">\\r\\n<img class=\"img-responsive\" alt=\"schwarzkopf-fibreclinix-logo\" src=/resource/image/1169866/1x1/750/750/362b59a5ab765cc2646c7b52124a5452/7D801A257612557A4B34D00D8285FABB/schwarzkopf-fibreclinix-logo.webp loading=lazy/>\\r\\n</picture>\\r\\n</div>\\r\\n</div>\\n<span class=\"sr-only\">\\n更多信息 </span>\\n</a>\\n</div> </div>\\n<div data-content-id=\"501956\">\\n<div class=\"brand-logo__item \" data-wt-contenttype=\"HKBrand\">\\n<a class=\"brand-logo__anchor\" href=\"/brands-businesses/freshlight-501956\">\\n<span class=\"sr-only\">\\n???internal.link.zh???\\n</span>\\n<div class=\"img-wrap\">\\r\\n<div class=\"img-wrap__crop img-wrap__crop--1x1\">\\r\\n<picture class=\"image-rwd \"\\r\\ndata-transformationName=\"BrandLogoImage\">\\r\\n<source\\r\\nsrcset=\"/resource/image/502176/1x1/750/750/c130f1cfec57ba7ee1ab6cfe423972c7/8A2BA2816183E78DC9D27B38C238F6FF/freshlight-logo-cn-cn.webp 1x, /resource/image/502176/1x1/750/750/c130f1cfec57ba7ee1ab6cfe423972c7/8A2BA2816183E78DC9D27B38C238F6FF/freshlight-logo-cn-cn.webp 2x\" media=\"(min-width: 1250px)\" sizes=\"100vw\">\\r\\n<source\\r\\nsrcset=\"/resource/image/502176/1x1/600/600/44fe646b04738aa14c98ea8bddde83ac/AA0CCF7061FEACAAFE2B2292BEE90E29/freshlight-logo-cn-cn.webp 1x, /resource/image/502176/1x1/1200/1200/31684e40b5ed630eac66fa57b0964c6e/21A35D13FC4BD8C9D64D6AB352DA93D9/freshlight-logo-cn-cn.webp 2x\" media=\"(min-width: 980px)\" sizes=\"100vw\">\\r\\n<source\\r\\nsrcset=\"/resource/image/502176/1x1/450/450/579c285d4b95a16e5f456d41d2b09b32/05A65AAE00CEC2831B4DE0B28B06A57D/freshlight-logo-cn-cn.webp 1x, /resource/image/502176/1x1/900/900/a9efd1856c3109f27db40c99667a83/D682A709FDCC2D140E0A15A70612755C/freshlight-logo-cn-cn.webp 2x\" media=\"(min-width: 730px)\" sizes=\"100vw\">\\r\\n<source\\r\\nsrcset=\"/resource/image/502176/1x1/300/300/9fd76579545009db045f8e0275be9943/6191B570B346BCF61339943CD23D0E7C/freshlight-logo-cn-cn.webp 1x, /resource/image/502176/1x1/600/600/44fe646b04738aa14c98ea8bddde83ac/AA0CCF7061FEACAAFE2B2292BEE90E29/freshlight-logo-cn-cn.webp 2x\" media=\"(min-width: 0px)\" sizes=\"100vw\">\\r\\n<img class=\"img-responsive\" alt=\"斐丝丽\" src=/resource/image/502176/1x1/750/750/c130f1cfec57ba7ee1ab6cfe423972c7/8A2BA2816183E78DC9D27B38C238F6FF/freshlight-logo-cn-cn.webp loading=lazy/>\\r\\n</picture>\\r\\n</div>\\r\\n</div>\\n<span class=\"sr-only\">\\n更多信息 </span>\\n</a>\\n</div> </div>\\n<div data-content-id=\"502178\">\\n<div class=\"brand-logo__item \" data-wt-contenttype=\"HKBrand\">\\n<a class=\"brand-logo__anchor\" href=\"/brands-businesses/got2b-502178\">\\n<span class=\"sr-only\">\\n???internal.link.zh???\\n</span>\\n<div class=\"img-wrap\">\\r\\n<div class=\"img-wrap__crop img-wrap__crop--1x1\">\\r\\n<picture class=\"image-rwd \"\\r\\ndata-transformationName=\"BrandLogoImage\">\\r\\n<source\\r\\nsrcset=\"/resource/image/33842/1x1/750/750/5c882b1bf965f81a6c1e88cc169ae21c/78922F0800DBABEA841EF46221652AD2/got2b-us-logo.webp 1x, /resource/image/33842/1x1/750/750/5c882b1bf965f81a6c1e88cc169ae21c/78922F0800DBABEA841EF46221652AD2/got2b-us-logo.webp 2x\" media=\"(min-width: 1250px)\" sizes=\"100vw\">\\r\\n<source\\r\\nsrcset=\"/resource/image/33842/1x1/600/600/92d53525f1caf2914b1049431359f269/CAD6E263CB6F27F11FA30E0345A87DC4/got2b-us-logo.webp 1x, /resource/image/33842/1x1/600/600/92d53525f1caf2914b1049431359f269/CAD6E263CB6F27F11FA30E0345A87DC4/got2b-us-logo.webp 2x\" media=\"(min-width: 980px)\" sizes=\"100vw\">\\r\\n<source\\r\\nsrcset=\"/resource/image/33842/1x1/450/450/8cc46c3deb092de851b5ac0f4e1baf74/62D4B9D9AE0B02955470C8EE902CEC7A/got2b-us-logo.webp 1x, /resource/image/33842/1x1/450/450/8cc46c3deb092de851b5ac0f4e1baf74/62D4B9D9AE0B02955470C8EE902CEC7A/got2b-us-logo.webp 2x\" media=\"(min-width: 730px)\" sizes=\"100vw\">\\r\\n<source\\r\\nsrcset=\"/resource/image/33842/1x1/300/300/344089b679084a381c4d46e5d5dcebc0/54E5949B8026EDF6DCB314402D8DF6E5/got2b-us-logo.webp 1x, /resource/image/33842/1x1/300/300/344089b679084a381c4d46e5d5dcebc0/54E5949B8026EDF6DCB314402D8DF6E5/got2b-us-logo.webp 2x\" media=\"(min-width: 0px)\" sizes=\"100vw\">\\r\\n<img class=\"img-responsive\" alt=\"göt2b-logo\" src=/resource/image/33842/1x1/750/750/5c882b1bf965f81a6c1e88cc169ae21c/78922F0800DBABEA841EF46221652AD2/got2b-us-logo.webp loading=lazy/>\\r\\n</picture>\\r\\n</div>\\r\\n</div>\\n<span class=\"sr-only\">\\n更多信息 </span>\\n</a>\\n</div> </div>\\n<div data-content-id=\"502050\">\\n<div class=\"brand-logo__item \" data-wt-contenttype=\"HKBrand\">\\n<a class=\"brand-logo__anchor\" href=\"/brands-businesses/guangming-502050\">\\n<span class=\"sr-only\">\\n???internal.link.zh???\\n</span>\\n<div class=\"img-wrap\">\\r\\n<div class=\"img-wrap__crop img-wrap__crop--1x1\">\\r\\n<picture class=\"image-rwd \"\\r\\ndata-transformationName=\"BrandLogoImage\">\\r\\n<source\\r\\nsrcset=\"/resource/image/30718/1x1/750/750/1effa09df50e4ad1ad3941832482a066/5E9BDE997E18F4D0627F3A0454C5D5BF/guang-ming-logo.webp 1x, /resource/image/30718/1x1/750/750/1effa09df50e4ad1ad3941832482a066/5E9BDE997E18F4D0627F3A0454C5D5BF/guang-ming-logo.webp 2x\" media=\"(min-width: 1250px)\" sizes=\"100vw\">\\r\\n<source\\r\\nsrcset=\"/resource/image/30718/1x1/600/600/b85f75a4f81181124210bed529048172/3EDE13E0E1AE3F73991B2BDB273E759A/guang-ming-logo.webp 1x, /resource/image/30718/1x1/600/600/b85f75a4f81181124210bed529048172/3EDE13E0E1AE3F73991B2BDB273E759A/guang-ming-logo.webp 2x\" media=\"(min-width: 980px)\" sizes=\"100vw\">\\r\\n<source\\r\\nsrcset=\"/resource/image/30718/1x1/450/450/4ec3e9d203925bf15075d58c144f28cf/3A407DCCE2174B3ACBFF468BC10F034C/guang-ming-logo.webp 1x, /resource/image/30718/1x1/900/900/b2a5925a14eb613eac8088b67f94aa20/5BF7FDA62F409E806968AC1A705E865A/guang-ming-logo.webp 2x\" media=\"(min-width: 730px)\" sizes=\"100vw\">\\r\\n<source\\r\\nsrcset=\"/resource/image/30718/1x1/300/300/621fc42666cecc99ccce03dd1e92eb31/C7A32B8F9B4EC57E11AE42EAC037E53E/guang-ming-logo.webp 1x, /resource/image/30718/1x1/600/600/b85f75a4f81181124210bed529048172/3EDE13E0E1AE3F73991B2BDB273E759A/guang-ming-logo.webp 2x\" media=\"(min-width: 0px)\" sizes=\"100vw\">\\r\\n<img class=\"img-responsive\" alt=\"光明\" src=/resource/image/30718/1x1/750/750/1effa09df50e4ad1ad3941832482a066/5E9BDE997E18F4D0627F3A0454C5D5BF/guang-ming-logo.webp loading=lazy/>\\r\\n</picture>\\r\\n</div>\\r\\n</div>\\n<span class=\"sr-only\">\\n更多信息 </span>\\n</a>\\n</div> </div>\\n<div data-content-id=\"501994\">\\n<div class=\"brand-logo__item \" data-wt-contenttype=\"HKBrand\">\\n<a class=\"brand-logo__anchor\" href=\"/brands-businesses/igora-501994\">\\n<span class=\"sr-only\">\\n???internal.link.zh???\\n</span>\\n<div class=\"img-wrap\">\\r\\n<div class=\"img-wrap__crop img-wrap__crop--1x1\">\\r\\n<picture class=\"image-rwd \"\\r\\ndata-transformationName=\"BrandLogoImage\">\\r\\n<source\\r\\nsrcset=\"/resource/image/33844/1x1/750/750/401bdfa7ee1afccb2aea7bafafa94d56/E0148C06747687B66306B4D9D8A79C8D/igora-logo.webp 1x, /resource/image/33844/1x1/750/750/401bdfa7ee1afccb2aea7bafafa94d56/E0148C06747687B66306B4D9D8A79C8D/igora-logo.webp 2x\" media=\"(min-width: 1250px)\" sizes=\"100vw\">\\r\\n<source\\r\\nsrcset=\"/resource/image/33844/1x1/600/600/9d1a5cf1e86eeef44d5c19f8bf850819/D0F98F04F62B27F69908BCF8F8DAB903/igora-logo.webp 1x, /resource/image/33844/1x1/600/600/9d1a5cf1e86eeef44d5c19f8bf850819/D0F98F04F62B27F69908BCF8F8DAB903/igora-logo.webp 2x\" media=\"(min-width: 980px)\" sizes=\"100vw\">\\r\\n<source\\r\\nsrcset=\"/resource/image/33844/1x1/450/450/6ce2baec0f961789ed95512456db9eb3/09BC14692BB9424ACFD923D04928589A/igora-logo.webp 1x, /resource/image/33844/1x1/450/450/6ce2baec0f961789ed95512456db9eb3/09BC14692BB9424ACFD923D04928589A/igora-logo.webp 2x\" media=\"(min-width: 730px)\" sizes=\"100vw\">\\r\\n<source\\r\\nsrcset=\"/resource/image/33844/1x1/300/300/255872b72b98bf55a38283d43d94903d/DA10117AA1609426E33BA1FF45336E2B/igora-logo.webp 1x, /resource/image/33844/1x1/600/600/9d1a5cf1e86eeef44d5c19f8bf850819/D0F98F04F62B27F69908BCF8F8DAB903/igora-logo.webp 2x\" media=\"(min-width: 0px)\" sizes=\"100vw\">\\r\\n<img class=\"img-responsive\" alt=\"Igora logo\" src=/resource/image/33844/1x1/750/750/401bdfa7ee1afccb2aea7bafafa94d56/E0148C06747687B66306B4D9D8A79C8D/igora-logo.webp loading=lazy/>\\r\\n</picture>\\r\\n</div>\\r\\n</div>\\n<span class=\"sr-only\">\\n更多信息 </span>\\n</a>\\n</div> </div>\\n<div class=\" job-grouping \">\\n<a class=\"load-more bab-button--primary-no-icon\" style=\"\" href=\"javascript:void(0);\">\\n<span>\\n加载更多 </span>\\n</a>\\n</div> </div>\\n<div class=\"loading-animation\"></div>\\n</div> </div>\\n</div>\\n</div>\\n</div>\\n</div><div class=\"container-box colorful--expressive-soft-mint container-box--no-border \">\\n<div class=\"container-box__inner \">\\n<h2 class=\"row-headline row-headline--with-border\\ncolorful__expressive-headline\" data-js-reveal>\\n<span >\\n<p>联系与服务</p> </span>\\n</h2>\\n<div class=\"row forced-height \">\\n<div class=\"col-tn-12 col-xs-12 col-sm-4 col-md-6 col-lg-6 bab-stripe \">\\n<div data-js-reveal>\\n<a data-wt-view=\"teaser\" data-wt-contenttype=\"HKTeaser\" aria-label=\"联系我们\"\\nclass=\"link-element teaser colorful--white colorful-element \"\\nhref=\"/contact-us\"\\ntarget=\"\">\\n<div class=\"img-wrap\">\\r\\n<div class=\"img-wrap__crop img-wrap__crop--tn-4x3 img-wrap__crop--sm-4x3 img-wrap__crop--md-3x2 img-wrap__crop--lg-3x2\">\\r\\n<picture class=\"image-rwd bab-image-hoverzoom \"\\r\\ndata-transformationName=\"Image3:2\">\\r\\n<source\\r\\nsrcset=\"/resource/image/1809260/3x2/1000/667/e16981a3f471d6d40ca7e0ad6b5d3a98/7B0F16F7C812C8E7C13A5D1A23D8A180/contact-us-image.webp 1x, /resource/image/1809260/3x2/2000/1334/a3d552601529e6ce49ea3c90a286961e/0ACC1BF714212BE39B91C6E6B370FB06/contact-us-image.webp 2x\" media=\"(min-width: 1250px)\" sizes=\"100vw\">\\r\\n<source\\r\\nsrcset=\"/resource/image/1809260/3x2/750/500/1ac11dc8ad444c814d41e361c70a6828/E8CD603E7D3836B76D5D556CD60B9B38/contact-us-image.webp 1x, /resource/image/1809260/3x2/1500/1000/12d8adc23fac1ac0af5f02485f05f954/09FD685403F5983C46309FA9AB80DE2C/contact-us-image.webp 2x\" media=\"(min-width: 980px)\" sizes=\"100vw\">\\r\\n<source\\r\\nsrcset=\"/resource/image/1809260/4x3/500/375/5c80724163dc4b4b7b7909ea73ddcff6/8450D11E562E07CFEB5A1C2169ED7D45/contact-us-image.webp 1x, /resource/image/1809260/4x3/1000/750/c9b961ddb2470484a6b2f37d9232f44d/9D33DA40AC9582FCAAB6DF161A2521EF/contact-us-image.webp 2x\" media=\"(min-width: 730px)\" sizes=\"100vw\">\\r\\n<source\\r\\nsrcset=\"/resource/image/1809260/4x3/335/251/613ebd32b4d35f40af28b69b609ed954/9301D5BA6398617697334C1C8BD1CDA5/contact-us-image.webp 1x, /resource/image/1809260/4x3/670/502/92788dda40468359b3404fa93bdf4bf2/6C56483659D3B2A8B67E380080702552/contact-us-image.webp 2x\" media=\"(min-width: 0px)\" sizes=\"100vw\">\\r\\n<img class=\"img-responsive\" alt=\"带耳机男子坐在书桌前办公\" src=/resource/image/1809260/3x2/1000/667/e16981a3f471d6d40ca7e0ad6b5d3a98/7B0F16F7C812C8E7C13A5D1A23D8A180/contact-us-image.webp loading=lazy/>\\r\\n</picture>\\r\\n</div>\\r\\n</div>\\n<section>\\n<h3 class=\"link-title colorful__white-headline--black\">\\n联系我们 </h3>\\n<span class=\"link-text line-clamp colorful__white-text\">\\n<!-- this div is needed, so that line-clamp works the same way on firefox, as in chrome -->\\n<div class=\"line-clamp-browser-fixes\">\\n<div><p>了解我们的品牌与解决方案。</p></div>\\n</div>\\n</span>\\n<button data-webtrekkactionname=\"content-links\" class=\"bab-button--link bab-button bab-button--link\" aria-label=\"联系我们\" href=\"/contact-us\" type=\"button\">\\n了解更多\\n</button> </section>\\n</a> </div>\\n</div>\\n<div class=\"col-tn-12 col-xs-6 col-sm-4 col-md-3 col-lg-3 bab-stripe \">\\n<div data-js-reveal>\\n<section class=\"statement statement--white\" >\\n<div class=\"statement__text\">\\n<div><p class=\"size1\"><b>服务热线</b></p><p>400-855-1515</p><p>如果发生意外产品接触、误用或其他事件，可随时拨打汉高服务热线。汉高专家将为您提供适当的建议。</p></div> </div>\\n</section> </div>\\n</div>\\n<div class=\"col-tn-12 col-xs-6 col-sm-4 col-md-3 col-lg-3 bab-stripe \">\\n<div data-js-reveal>\\n<a data-wt-view=\"teaser\" data-wt-contenttype=\"HKTeaser\" aria-label=\"安全数据表\"\\nclass=\"link-element teaser colorful--white colorful-element no-picture\"\\nhref=\"https://mysds.henkel.com/index.html#/appSelection\"\\ntarget=\"_blank\">\\n<section>\\n<h3 class=\"link-title colorful__white-headline--black\">\\n安全数据表 </h3>\\n<span class=\"link-text line-clamp colorful__white-text\">\\n<!-- this div is needed, so that line-clamp works the same way on firefox, as in chrome -->\\n<div class=\"line-clamp-browser-fixes\">\\n<div><p>请在数据库搜索材料安全数据表</p></div>\\n</div>\\n</span>\\n<button data-webtrekkactionname=\"content-links\" class=\"bab-button--link bab-button bab-button--link\" aria-label=\"安全数据表\" href=\"https://mysds.henkel.com/index.html#/appSelection\" type=\"button\" target=\"_blank\" rel=\"noreferrer noopener\">\\n点击详情\\n</button> </section>\\n</a> </div>\\n</div>\\n</div>\\n</div>\\n</div><div class=\"container-box container-box--no-border \">\\n<div class=\"container-box__inner \">\\n<h2 class=\"row-headline row-headline--with-border\\n\" data-js-reveal>\\n<span >\\n<p>我们的核心品类</p> </span>\\n</h2>\\n<div class=\"row \">\\n<div class=\"col-tn-12 col-xs-12 col-sm-12 col-md-12 col-lg-12 bab-stripe \">\\n<div data-js-reveal>\\n<div class=\"col-tn-12 col-xs-12 col-sm-10 col-md-9 col-lg-9 col-xl-8 centered visual-text__wrapper\" data-accordion-wrapper data-accordion-without-url-params=\"false\" >\\n<div class=\"visual-text visual-text--image-medium visual-text--image-left\">\\n<div class=\"visual-text__image\">\\n<div class=\"img-wrap\">\\r\\n<div class=\"img-wrap__crop img-wrap__crop--3x2\">\\r\\n<picture class=\"image-rwd \"\\r\\ndata-transformationName=\"Image230_3:2\">\\r\\n<source\\r\\nsrcset=\"/resource/image/1807938/3x2/1000/666/7493a589f971d4d0982453b5baba4609/742670FF00D479D8A55F7FD24F03548F/detergent-image.webp 1x, /resource/image/1807938/3x2/2000/1332/773618b7f34b67fc3de404f1aa60b860/94A0D452802380302F4D40CF16FC1643/detergent-image.webp 2x\" media=\"(min-width: 1250px)\" sizes=\"100vw\">\\r\\n<source\\r\\nsrcset=\"/resource/image/1807938/3x2/500/333/6bb3348ea53ab24b035801e0370eefc0/BD1F688B0C6F35CC86D663CE9D4577D5/detergent-image.webp 1x, /resource/image/1807938/3x2/1000/666/7493a589f971d4d0982453b5baba4609/742670FF00D479D8A55F7FD24F03548F/detergent-image.webp 2x\" media=\"(min-width: 980px)\" sizes=\"100vw\">\\r\\n<source\\r\\nsrcset=\"/resource/image/1807938/3x2/500/333/6bb3348ea53ab24b035801e0370eefc0/BD1F688B0C6F35CC86D663CE9D4577D5/detergent-image.webp 1x, /resource/image/1807938/3x2/1000/666/7493a589f971d4d0982453b5baba4609/742670FF00D479D8A55F7FD24F03548F/detergent-image.webp 2x\" media=\"(min-width: 730px)\" sizes=\"100vw\">\\r\\n<source\\r\\nsrcset=\"/resource/image/1807938/3x2/335/223/6e913b651dd5fdd5084d6855537bed91/17D7B262F160DDD375B81DC6A7BC005E/detergent-image.webp 1x, /resource/image/1807938/3x2/670/446/942ef076a779ff7031e51e7c39eae87a/637E540D23681879EFCB5495E33C88BB/detergent-image.webp 2x\" media=\"(min-width: 0px)\" sizes=\"100vw\">\\r\\n<img class=\"img-responsive\" alt=\"象征清洗过程的蓝色抽象图形\" src=/resource/image/1807938/3x2/1000/666/7493a589f971d4d0982453b5baba4609/742670FF00D479D8A55F7FD24F03548F/detergent-image.webp loading=lazy/>\\r\\n</picture>\\r\\n</div>\\r\\n</div> </div>\\n<div class=\"visual-text__content-wrap\">\\n<h4 class=\"visual-text__headline\"\\ndata-accordion-headline data-accordion-id=\"Tab-1831774_1\" data-tabindex=0 data-role=tab data-aria-expanded=false data-aria-controls=tabpanel_1831774_1\\n>\\n洗涤剂及家用护理 </h4>\\n<div class=\"visual-text__text\"\\ndata-accordion-content role=\"tabpanel\" id=\"tabpanel_1831774_1\" data-inner-padding=\"false\" inert\\n>\\n<div><p>我们的宝莹（Persil）、妙力（Bref）等品牌在消费者的日常生活中发挥着关键作用。在当前消费者行为转变的推动下，我们鼓励子孙后代选择可持续的产品。为此，我们与消费者和客户合作，在洗衣和厕所清洁等领域开发市场领先的可持续品牌和产品。</p></div> </div>\\n</div>\\n</div><div class=\"visual-text visual-text--image-medium visual-text--image-left\">\\n<div class=\"visual-text__image\">\\n<div class=\"img-wrap\">\\r\\n<div class=\"img-wrap__crop img-wrap__crop--3x2\">\\r\\n<picture class=\"image-rwd \"\\r\\ndata-transformationName=\"Image230_3:2\">\\r\\n<source\\r\\nsrcset=\"/resource/image/1807936/3x2/1000/666/e0fc0776d27f3d915411217565f4f8fa/2E1BC64CE9CA9DFAD0BD82D6ED69070B/hair-image.webp 1x, /resource/image/1807936/3x2/2000/1332/6ff5a175b0aa8c35c7ef74f588800d4f/01AB8691DC098F9387EB75A2809529EA/hair-image.webp 2x\" media=\"(min-width: 1250px)\" sizes=\"100vw\">\\r\\n<source\\r\\nsrcset=\"/resource/image/1807936/3x2/500/333/bdfdf03b0d440ef3417298c92976a9b8/A0DD82FA7977745BD310654ACFAA0CBC/hair-image.webp 1x, /resource/image/1807936/3x2/1000/666/e0fc0776d27f3d915411217565f4f8fa/2E1BC64CE9CA9DFAD0BD82D6ED69070B/hair-image.webp 2x\" media=\"(min-width: 980px)\" sizes=\"100vw\">\\r\\n<source\\r\\nsrcset=\"/resource/image/1807936/3x2/500/333/bdfdf03b0d440ef3417298c92976a9b8/A0DD82FA7977745BD310654ACFAA0CBC/hair-image.webp 1x, /resource/image/1807936/3x2/1000/666/e0fc0776d27f3d915411217565f4f8fa/2E1BC64CE9CA9DFAD0BD82D6ED69070B/hair-image.webp 2x\" media=\"(min-width: 730px)\" sizes=\"100vw\">\\r\\n<source\\r\\nsrcset=\"/resource/image/1807936/3x2/335/223/613f108d29b600f2ac73be9338515073/E6AB97A901B4EE43B49D1037B03F7266/hair-image.webp 1x, /resource/image/1807936/3x2/670/446/ed7f965454d019798adea1f4141f36f2/F97A01973749D4B852A593DC1842E3FB/hair-image.webp 2x\" media=\"(min-width: 0px)\" sizes=\"100vw\">\\r\\n<img class=\"img-responsive\" alt=\"象征一束头发的橙色抽象图形 \" src=/resource/image/1807936/3x2/1000/666/e0fc0776d27f3d915411217565f4f8fa/2E1BC64CE9CA9DFAD0BD82D6ED69070B/hair-image.webp loading=lazy/>\\r\\n</picture>\\r\\n</div>\\r\\n</div> </div>\\n<div class=\"visual-text__content-wrap\">\\n<h4 class=\"visual-text__headline\"\\ndata-accordion-headline data-accordion-id=\"Tab-1831774_2\" data-tabindex=0 data-role=tab data-aria-expanded=false data-aria-controls=tabpanel_1831774_2\\n>\\n美发 </h4>\\n<div class=\"visual-text__text\"\\ndata-accordion-content role=\"tabpanel\" id=\"tabpanel_1831774_2\" data-inner-padding=\"false\" inert\\n>\\n<div><p>汉高美发品类活跃于消费品和专业美发业务领域。我们对美发充满热情，施华蔻（Schwarzkopf）、丝蕴（Syoss）等品牌即是对热情的诠释。无论是面向消费者零售的护发、染发或造型护理产品，还是面向专业美发沙龙专供的护发、染发、定型或造型的创新产品，我们的品牌都致力于在质量、安全、可持续和高性能方面塑造产品。</p></div> </div>\\n</div>\\n</div> </div> </div>\\n</div>\\n</div>\\n</div>\\n</div><div class=\"container-box colorful--neutral-gray container-box--no-border container-box__reduced-spacing-bottom--none \">\\n<div class=\"container-box__inner \">\\n<h2 class=\"row-headline row-headline--with-border\\ncolorful__neutral-headline--black\" data-js-reveal>\\n<span >\\n<p>了解更多有关汉高消费品牌 Henkel Consumer Brands 业务的信息</p> </span>\\n</h2>\\n<div class=\"row forced-height \">\\n<div class=\"col-tn-12 col-xs-6 col-sm-6 col-md-3 col-lg-3 bab-stripe \">\\n<div data-js-reveal>\\n<a data-wt-view=\"teaser\" data-wt-contenttype=\"HKTeaser\" aria-label=\"关于我们\"\\nclass=\"link-element teaser colorful--white colorful-element no-picture\"\\nhref=\"/brands-businesses/consumer-brands/about-us\"\\ntarget=\"\">\\n<section>\\n<h3 class=\"link-title colorful__white-headline--black\">\\n关于我们 </h3>\\n<span class=\"link-text colorful__white-text\">\\n<div><p>了解更多有关我们组织架构、业务和品牌、事实与数据以及就业机会的信息。</p></div>\\n</span>\\n<button data-webtrekkactionname=\"content-links\" class=\"bab-button--link bab-button bab-button--link\" aria-label=\"关于我们\" href=\"/brands-businesses/consumer-brands/about-us\" type=\"button\">\\n了解更多\\n</button> </section>\\n</a> </div>\\n</div>\\n<div class=\"col-tn-12 col-xs-6 col-sm-6 col-md-3 col-lg-3 bab-stripe \">\\n<div data-js-reveal>\\n<a data-wt-view=\"teaser\" data-wt-contenttype=\"HKTeaser\" aria-label=\"推动可持续发展\"\\nclass=\"link-element teaser colorful--white colorful-element no-picture\"\\nhref=\"/brands-businesses/consumer-brands/driving-sustainability\"\\ntarget=\"\">\\n<section>\\n<h3 class=\"link-title colorful__white-headline--black\">\\n推动可持续发展 </h3>\\n<span class=\"link-text colorful__white-text\">\\n<div><p>了解我们如何通过确定产品与技术、伙伴关系这两个实现系统性变革的关键方法，从而在整个价值链上产生积极影响。</p></div>\\n</span>\\n<button data-webtrekkactionname=\"content-links\" class=\"bab-button--link bab-button bab-button--link\" aria-label=\"推动可持续发展\" href=\"/brands-businesses/consumer-brands/driving-sustainability\" type=\"button\">\\n了解更多\\n</button> </section>\\n</a> </div>\\n</div>\\n<div class=\"col-tn-12 col-xs-6 col-sm-6 col-md-3 col-lg-3 bab-stripe \">\\n<div data-js-reveal>\\n<a data-wt-view=\"teaser\" data-wt-contenttype=\"HKTeaser\" aria-label=\"研发\"\\nclass=\"link-element teaser colorful--white colorful-element no-picture\"\\nhref=\"/brands-businesses/consumer-brands/research-and-development\"\\ntarget=\"\">\\n<section>\\n<h3 class=\"link-title colorful__white-headline--black\">\\n研发 </h3>\\n<span class=\"link-text colorful__white-text\">\\n<div><p>了解更多有关我们研发网络、重点领域和应用知识的信息。</p></div>\\n</span>\\n<button data-webtrekkactionname=\"content-links\" class=\"bab-button--link bab-button bab-button--link\" aria-label=\"研发\" href=\"/brands-businesses/consumer-brands/research-and-development\" type=\"button\">\\n了解更多\\n</button> </section>\\n</a> </div>\\n</div>\\n<div class=\"col-tn-12 col-xs-6 col-sm-6 col-md-3 col-lg-3 bab-stripe \">\\n<div data-js-reveal>\\n<a data-wt-view=\"teaser\" data-wt-contenttype=\"HKTeaser\" aria-label=\"开放式创新和投资\"\\nclass=\"link-element teaser colorful--white colorful-element no-picture\"\\nhref=\"/brands-businesses/consumer-brands/open-innovation-and-venturing\"\\ntarget=\"\">\\n<section>\\n<h3 class=\"link-title colorful__white-headline--black\">\\n开放式创新和投资 </h3>\\n<span class=\"link-text colorful__white-text\">\\n<div><p>了解我们如何与世界各地的外部伙伴合作，共同开发和推动创新的发展。</p></div>\\n</span>\\n<button data-webtrekkactionname=\"content-links\" class=\"bab-button--link bab-button bab-button--link\" aria-label=\"开放式创新和投资\" href=\"/brands-businesses/consumer-brands/open-innovation-and-venturing\" type=\"button\">\\n了解更多\\n</button> </section>\\n</a> </div>\\n</div>\\n</div>\\n</div>\\n</div><div class=\"container-box colorful--neutral-gray container-box--no-border container-box__reduced-spacing-top--none \">\\n<div class=\"container-box__inner \">\\n<div class=\"row forced-height \">\\n<div class=\"col-tn-12 col-xs-12 col-sm-12 col-md-12 col-lg-12 bab-stripe \">\\n<div data-js-reveal>\\n<div class=\"bab-button-wrapper bab-button-wrapper--center\" data-wt-contenttype=\"HKButton\">\\n<a tabindex=\"0\" class=\"bab-button bab-button--primary-small\" role=\"button\"\\nhref=\"https://www.henkel.com/brands-and-businesses/consumer-brands\" target=\"_blank\">了解有关我们全球产品组合的更多信息</a>\\n</div> </div>\\n</div>\\n</div>\\n</div>\\n</div><div class=\"container-box colorful--white container-box--no-border \">\\n<div class=\"container-box__inner \">\\n<h2 class=\"row-headline row-headline--with-border\\ncolorful__white-headline--black\" data-js-reveal>\\n<span >\\n<p>消费品牌相关新闻&#xa0;</p> </span>\\n</h2>\\n<div class=\"row \">\\n<div class=\"col-tn-12 col-xs-12 col-sm-12 col-md-12 col-lg-12 bab-stripe \">\\n<div data-js-reveal>\\n<div class=\"element-border element-border--no-border\">\\n<div class=\"query collection_1831752 collectionSwiper--mobile-only\" data-js-mobile-only-swiper data-js-load-more-swiper>\\n<div class=\"results forced-height\">\\n<div x-data=\"swiper\" x-ref=\"swiper\" x-on:touchmove.throttle.250ms=\"loadMoreItems()\"\\r\\nclass=\"swiper transparent\" data-js-mobile-only-swiper\\r\\ndata-swiper-number-indication=\"/\">\\r\\n<div class=\"swiper-wrapper \">\\r\\n<div class=\"js-swiper-slide col-tn-12 col-xs-6 col-sm-6 col-md-3 col-lg-3 result\">\\r\\n<div data-wt-contenttype=\"HKPressrelease\" data-wt-view=\"newsroomItem\" class=\"news\">\\n<div class=\"teaser-base\">\\n<a class=\"teaser-link\" href=\"/press-newsroom/press-releases-and-kits/2025-04-15-essential-looks-2025-ss-2052600\">\\n<span class=\"sr-only\">\\n???internal.link.zh???\\n</span>\\n<div class=\"img-wrap\">\\r\\n<div class=\"img-wrap__crop img-wrap__crop--3x2\">\\r\\n<picture class=\"image-rwd bab-image-hoverzoom \"\\r\\ndata-transformationName=\"Image230_3:2\">\\r\\n<source\\r\\nsrcset=\"/resource/image/2052602/3x2/1000/666/e33af8a8fc5294d1fbe11d4f959d57d3/220C0EE751BB9679B8542789EB3370D3/2025-04-15-el-2025-ss-jpg.webp 1x, /resource/image/2052602/3x2/1000/666/e33af8a8fc5294d1fbe11d4f959d57d3/220C0EE751BB9679B8542789EB3370D3/2025-04-15-el-2025-ss-jpg.webp 2x\" media=\"(min-width: 1250px)\" sizes=\"100vw\">\\r\\n<source\\r\\nsrcset=\"/resource/image/2052602/3x2/500/333/efc05299f00c5f8e1e92f6d9d0e24af4/AE00F90387F21E437214584ACD04E4ED/2025-04-15-el-2025-ss-jpg.webp 1x, /resource/image/2052602/3x2/1000/666/e33af8a8fc5294d1fbe11d4f959d57d3/220C0EE751BB9679B8542789EB3370D3/2025-04-15-el-2025-ss-jpg.webp 2x\" media=\"(min-width: 980px)\" sizes=\"100vw\">\\r\\n<source\\r\\nsrcset=\"/resource/image/2052602/3x2/500/333/efc05299f00c5f8e1e92f6d9d0e24af4/AE00F90387F21E437214584ACD04E4ED/2025-04-15-el-2025-ss-jpg.webp 1x, /resource/image/2052602/3x2/1000/666/e33af8a8fc5294d1fbe11d4f959d57d3/220C0EE751BB9679B8542789EB3370D3/2025-04-15-el-2025-ss-jpg.webp 2x\" media=\"(min-width: 730px)\" sizes=\"100vw\">\\r\\n<source\\r\\nsrcset=\"/resource/image/2052602/3x2/335/223/d0192b0f64d6a03ec90cea9ec0557b94/AD6CC72C909AD4195FC6F509591787BB/2025-04-15-el-2025-ss-jpg.webp 1x, /resource/image/2052602/3x2/670/446/f6b4892a4d31ea6e8988c292a0625ae7/94D1AEB3C76B040D8909CFDDDBAB9DD1/2025-04-15-el-2025-ss-jpg.webp 2x\" media=\"(min-width: 0px)\" sizes=\"100vw\">\\r\\n<img class=\"img-responsive\" alt=\"施华蔻专业2025春夏新季风发布会重磅亮相\" src=/resource/image/2052602/3x2/1000/666/e33af8a8fc5294d1fbe11d4f959d57d3/220C0EE751BB9679B8542789EB3370D3/2025-04-15-el-2025-ss-jpg.webp loading=lazy/>\\r\\n</picture>\\r\\n</div>\\r\\n</div>\\n<div class=\"teaser-link__content\" data-js-line-clamp-calc-input=\"[]\">\\n<div class=\"teaser-link-top\">\\n<div class=\"info-wrap colorful__white-text\">\\n<span class=\"date\">\\n2025年4月15日\\n</span>\\n<span> - </span>\\n<span class=\"type\">\\n新闻稿\\n</span>\\n</div><span class=\"headline \">\\n施华蔻专业2025春夏新季风发布会重磅亮相 </span>\\n<div class=\"text line-clamp\">\\n<!-- this div is needed, so that line-clamp works the same way on firefox, as in chrome -->\\n<div class=\"line-clamp-browser-fixes\">\\n<div><p>汉高消费品牌业务部携旗下品牌，用专业科技串联无限创新力，钜献施华蔻专业2025春夏新季风发布会，力邀精英造型师用专业造“美”，启迪发艺潮流，共同演绎先锋美力“新季风”。</p></div> </div>\\n</div>\\n</div>\\n<div class=\"teaser-link-bottom\" data-js-line-clamp-calc-input=\"[]\">\\n<span data-webtrekkactionname=\"content-links\" class=\"bab-button--link bab-button bab-button--link bab-button--within-link\" href=\"/press-newsroom/press-releases-and-kits/2025-04-15-essential-looks-2025-ss-2052600\">\\n点击详情\\n</span> </div>\\n</div>\\n</a>\\n</div></div> </div>\\r\\n<div class=\"js-swiper-slide col-tn-12 col-xs-6 col-sm-6 col-md-3 col-lg-3 result\">\\r\\n<div data-wt-contenttype=\"HKPressrelease\" data-wt-view=\"newsroomItem\" class=\"news\">\\n<div class=\"teaser-base\">\\n<a class=\"teaser-link\" href=\"/press-newsroom/press-releases-and-kits/2025-03-06-henkel-presents-the-next-edition-of-the-martha-schwarzkopf-award-for-outstanding-female-scientists-2043786\">\\n<span class=\"sr-only\">\\n???internal.link.zh???\\n</span>\\n<div class=\"img-wrap\">\\r\\n<div class=\"img-wrap__crop img-wrap__crop--3x2\">\\r\\n<picture class=\"image-rwd bab-image-hoverzoom \"\\r\\ndata-transformationName=\"Image230_3:2\">\\r\\n<source\\r\\nsrcset=\"/resource/image/2041164/3x2/1000/666/6e6476fb55839db2be2cee891e04d7f9/860680C2DECC4339A3DE0C2723A3D0DC/martha-schwarzkopf-award2n0a6104.webp 1x, /resource/image/2041164/3x2/2000/1332/b38352889a2a990b1d809114a72d70d7/3498F28AEE49FF7942AB5B0DC6479A2C/martha-schwarzkopf-award2n0a6104.webp 2x\" media=\"(min-width: 1250px)\" sizes=\"100vw\">\\r\\n<source\\r\\nsrcset=\"/resource/image/2041164/3x2/500/333/ceee64c9a5a2a3ef247d506908b71e31/7C86EB2073FE24A1CE92B5FBEB20CEA8/martha-schwarzkopf-award2n0a6104.webp 1x, /resource/image/2041164/3x2/1000/666/6e6476fb55839db2be2cee891e04d7f9/860680C2DECC4339A3DE0C2723A3D0DC/martha-schwarzkopf-award2n0a6104.webp 2x\" media=\"(min-width: 980px)\" sizes=\"100vw\">\\r\\n<source\\r\\nsrcset=\"/resource/image/2041164/3x2/500/333/ceee64c9a5a2a3ef247d506908b71e31/7C86EB2073FE24A1CE92B5FBEB20CEA8/martha-schwarzkopf-award2n0a6104.webp 1x, /resource/image/2041164/3x2/1000/666/6e6476fb55839db2be2cee891e04d7f9/860680C2DECC4339A3DE0C2723A3D0DC/martha-schwarzkopf-award2n0a6104.webp 2x\" media=\"(min-width: 730px)\" sizes=\"100vw\">\\r\\n<source\\r\\nsrcset=\"/resource/image/2041164/3x2/335/223/858ad1e56b69abb7a24c2fd61517ca3d/09BDFACA56FB046E1685F3FDC0182EF4/martha-schwarzkopf-award2n0a6104.webp 1x, /resource/image/2041164/3x2/670/446/3c88e2391462dbb4443a87beb980466e/5AC0013B112D49FC0743284316579917/martha-schwarzkopf-award2n0a6104.webp 2x\" media=\"(min-width: 0px)\" sizes=\"100vw\">\\r\\n<img class=\"img-responsive\" alt=\"Women in a lab\" src=/resource/image/2041164/3x2/1000/666/6e6476fb55839db2be2cee891e04d7f9/860680C2DECC4339A3DE0C2723A3D0DC/martha-schwarzkopf-award2n0a6104.webp loading=lazy/>\\r\\n</picture>\\r\\n</div>\\r\\n</div>\\n<div class=\"teaser-link__content\" data-js-line-clamp-calc-input=\"[]\">\\n<div class=\"teaser-link-top\">\\n<div class=\"info-wrap colorful__white-text\">\\n<span class=\"date\">\\n2025年3月6日\\n</span>\\n<span> - </span>\\n<span class=\"type\">\\n新闻稿\\n</span>\\n</div><span class=\"headline colorful__white-headline--black\">\\n汉高举办新一届“玛莎·施华蔻女性科学奖”以表彰杰出女性研究者 </span>\\n<div class=\"text line-clamp\">\\n<!-- this div is needed, so that line-clamp works the same way on firefox, as in chrome -->\\n<div class=\"line-clamp-browser-fixes\">\\n<div><p>汉高举办第四届“玛莎·施华蔻女性科学奖”，以鼓励并支持女性研究者。除了设立主奖项用于表彰在头发头皮科学研究领域做出长期杰出贡献的女性科学家外，本届赛事还设立了“新秀奖”，以鼓励和嘉奖年轻的女性科学家。报名通道于3月8日“国际妇女节”正式开启。通过设立该奖项，汉高再次表明了其致力于认可和支持全球女性研究人员在头发头皮及相关领域的贡献。&#xa0;</p></div> </div>\\n</div>\\n</div>\\n<div class=\"teaser-link-bottom\" data-js-line-clamp-calc-input=\"[]\">\\n<span data-webtrekkactionname=\"content-links\" class=\"bab-button--link bab-button bab-button--link bab-button--within-link\" href=\"/press-newsroom/press-releases-and-kits/2025-03-06-henkel-presents-the-next-edition-of-the-martha-schwarzkopf-award-for-outstanding-female-scientists-2043786\">\\n点击详情\\n</span> </div>\\n</div>\\n</a>\\n</div></div> </div>\\r\\n<div class=\"js-swiper-slide col-tn-12 col-xs-6 col-sm-6 col-md-3 col-lg-3 result\">\\r\\n<div data-wt-contenttype=\"HKPressrelease\" data-wt-view=\"newsroomItem\" class=\"news\">\\n<div class=\"teaser-base\">\\n<a class=\"teaser-link\" href=\"/press-newsroom/press-releases-and-kits/2025-03-04-henkel-acquires-suzhou-boke-biotechnology-company-2042678\">\\n<span class=\"sr-only\">\\n???internal.link.zh???\\n</span>\\n<span class=\"img-wrap\">\\n<span data-image-rwd=\"image-rwd\" class=\"image-rwd bab-image-hoverzoom\">\\n<img data-src=\"/resource/blob/2042682/7ff1f044e2dc6c28c3c7ec3b0c735ffd/data/2025-03-04-henkel-acquires-suzhou-boke-jpg.jpg\" alt=\"汉高成功收购苏州博克\" style=\"--aspect-ratio: 4000/2666\" class=\"lazyload img-wrap__aspect-ratio\"/>\\n</span>\\n</span>\\n<div class=\"teaser-link__content\" data-js-line-clamp-calc-input=\"[]\">\\n<div class=\"teaser-link-top\">\\n<div class=\"info-wrap colorful__white-text\">\\n<span class=\"date\">\\n2025年3月4日\\n</span>\\n<span> - </span>\\n<span class=\"type\">\\n新闻稿\\n</span>\\n</div><span class=\"headline \">\\n汉高成功收购苏州博克 </span>\\n<div class=\"text line-clamp\">\\n<!-- this div is needed, so that line-clamp works the same way on firefox, as in chrome -->\\n<div class=\"line-clamp-browser-fixes\">\\n<div><p>汉高成功完成对苏州博克生物科技股份有限公司的收购。此举将显著提升汉高消费品牌在中国的本土制造实力，为其在这一重要市场的可持续创新和长期业务增长奠定了坚实基础。</p></div> </div>\\n</div>\\n</div>\\n<div class=\"teaser-link-bottom\" data-js-line-clamp-calc-input=\"[]\">\\n<span data-webtrekkactionname=\"content-links\" class=\"bab-button--link bab-button bab-button--link bab-button--within-link\" href=\"/press-newsroom/press-releases-and-kits/2025-03-04-henkel-acquires-suzhou-boke-biotechnology-company-2042678\">\\n点击详情\\n</span> </div>\\n</div>\\n</a>\\n</div></div> </div>\\r\\n<div class=\"js-swiper-slide col-tn-12 col-xs-6 col-sm-6 col-md-3 col-lg-3 result\">\\r\\n<div data-wt-contenttype=\"HKPressrelease\" data-wt-view=\"newsroomItem\" class=\"news\">\\n<div class=\"teaser-base\">\\n<a class=\"teaser-link\" href=\"/press-newsroom/press-releases-and-kits/2024-11-04-innovation-leads-to-a-sustainable-future-henkel-continues-win-win-story-in-the-chinese-market-1996646\">\\n<span class=\"sr-only\">\\n???internal.link.zh???\\n</span>\\n<div class=\"img-wrap\">\\r\\n<div class=\"img-wrap__crop img-wrap__crop--3x2\">\\r\\n<picture class=\"image-rwd bab-image-hoverzoom \"\\r\\ndata-transformationName=\"Image230_3:2\">\\r\\n<source\\r\\nsrcset=\"/resource/image/1996650/3x2/1000/666/699852c2b8eb73ca65312fb137a3990c/F90682D8354D0A04C5695A5E31681248/2024-11-04-ciie-sustainability-jpg.webp 1x, /resource/image/1996650/3x2/2000/1332/4f86cf0189f43214e3e9c3944d97413d/30B1D884BB36F26704C9CB79A4F101F5/2024-11-04-ciie-sustainability-jpg.webp 2x\" media=\"(min-width: 1250px)\" sizes=\"100vw\">\\r\\n<source\\r\\nsrcset=\"/resource/image/1996650/3x2/500/333/bcdb0fb8afe44f89e10042f3970c03e2/8ED245D8B6A6EE67CC4DA04A2BB92F7C/2024-11-04-ciie-sustainability-jpg.webp 1x, /resource/image/1996650/3x2/1000/666/699852c2b8eb73ca65312fb137a3990c/F90682D8354D0A04C5695A5E31681248/2024-11-04-ciie-sustainability-jpg.webp 2x\" media=\"(min-width: 980px)\" sizes=\"100vw\">\\r\\n<source\\r\\nsrcset=\"/resource/image/1996650/3x2/500/333/bcdb0fb8afe44f89e10042f3970c03e2/8ED245D8B6A6EE67CC4DA04A2BB92F7C/2024-11-04-ciie-sustainability-jpg.webp 1x, /resource/image/1996650/3x2/1000/666/699852c2b8eb73ca65312fb137a3990c/F90682D8354D0A04C5695A5E31681248/2024-11-04-ciie-sustainability-jpg.webp 2x\" media=\"(min-width: 730px)\" sizes=\"100vw\">\\r\\n<source\\r\\nsrcset=\"/resource/image/1996650/3x2/335/223/7df374a5905f8fe1e5e05cca5c06fb5e/F216C3376DCDA26256F275B6294B1167/2024-11-04-ciie-sustainability-jpg.webp 1x, /resource/image/1996650/3x2/670/446/938d71d3a1fe579d15e4cd0793c35f68/71315EF6DDF2B8857AF8B5B9A005295D/2024-11-04-ciie-sustainability-jpg.webp 2x\" media=\"(min-width: 0px)\" sizes=\"100vw\">\\r\\n<img class=\"img-responsive\" alt=\"创新引领可持续未来，汉高再续中国市场共赢新篇\" src=/resource/image/1996650/3x2/1000/666/699852c2b8eb73ca65312fb137a3990c/F90682D8354D0A04C5695A5E31681248/2024-11-04-ciie-sustainability-jpg.webp loading=lazy/>\\r\\n</picture>\\r\\n</div>\\r\\n</div>\\n<div class=\"teaser-link__content\" data-js-line-clamp-calc-input=\"[]\">\\n<div class=\"teaser-link-top\">\\n<div class=\"info-wrap colorful__white-text\">\\n<span class=\"date\">\\n2024年11月4日\\n</span>\\n<span> - </span>\\n<span class=\"type\">\\n新闻稿\\n</span>\\n</div><span class=\"headline \">\\n创新引领可持续未来，汉高再续中国市场共赢新篇 </span>\\n<div class=\"text line-clamp\">\\n<!-- this div is needed, so that line-clamp works the same way on firefox, as in chrome -->\\n<div class=\"line-clamp-browser-fixes\">\\n<div><p>11月5日至10日，汉高将携旗下粘合剂技术、消费品牌两大业务部门的创新产品和解决方案，亮相第七届中国国际进口博览会（“进博会”）技术装备展区。六度赴约进博，汉高将以“创新先锋，绿动世代”为主题，携一系列新产品、新应用，展现倡导绿色低碳的核心理念，助力中国以新质生产力促进高质量发展。</p></div> </div>\\n</div>\\n</div>\\n<div class=\"teaser-link-bottom\" data-js-line-clamp-calc-input=\"[]\">\\n<span data-webtrekkactionname=\"content-links\" class=\"bab-button--link bab-button bab-button--link bab-button--within-link\" href=\"/press-newsroom/press-releases-and-kits/2024-11-04-innovation-leads-to-a-sustainable-future-henkel-continues-win-win-story-in-the-chinese-market-1996646\">\\n点击详情\\n</span> </div>\\n</div>\\n</a>\\n</div></div> </div>\\r\\n</div>\\r\\n<div x-ref=\"pagination\" class=\"pagination customPagination \">\\r\\n<button data-swiper-nav-prev class=\"customPaginationLeft\" aria-label=\"previous-slide\"></button>\\r\\n<div x-ref=\"count\" class=\"customPaginationCount\">1 / 4</div>\\r\\n<button data-swiper-nav-next class=\"customPaginationRight\" aria-label=\"next-slide\"></button>\\r\\n</div>\\r\\n</div>\\r\\n<script type=\"text/plain\" class=\"do-load\">\\n$(window).on(\"load\", () => {\\nif (typeof window.jscomponents[\"LoadmoreComponent\"] !== \"undefined\") {\\nwindow.jscomponents[\"LoadmoreComponent\"].showLoadMoreResultContainer();\\n}\\nif (typeof window.jscomponents[\"LoadmoreComponent1831752\"] !== \"undefined\") {\\nwindow.jscomponents[\"LoadmoreComponent1831752\"].showLoadMoreResultContainer();\\n}\\n})\\n</script> <div id=\"pagination_id_1831752\" class=\"pagination\"></div>\\n</div>\\n<div class=\"loading-animation\"></div>\\n<div class=\" job-grouping transparent\">\\n<a class=\"load-more bab-button bab-button--primary-no-icon\" style=\"\" href=\"javascript:void(0);\"\\ndata-webtrekkactionname=\"content-links\">\\n<span>\\n加载更多 </span>\\n</a>\\n</div>\\n<script type=\"text/plain\" class=\"do-load\">\\nSystem.createOnLoad([\\n{\\n\"object\" : \"com.babiel.henkel.js.OldFilterComponent\",\\n\"id\" : \"OldFilterComponent\",\\n\"configuration\" : {\\n\"event\" : { // Konfiguration automatisch zu verarbeiteten Ereignissen\\n\"onToggleFilterView\" : {\\n\"selector\" : \".collection_1831752 div.filter-links\"\\n},\\n\"filterClick\" : {\\n\"selector\" : \".collection_1831752 .filter-content ul\",\\n\"eventType\" : \"selectBoxChange\",\\n\"live\" : \"#contentWrap\"\\n},\\n\"onSubmitClick\" : {\\n\"selector\" : \"#select1831752 input[type=submit]\"\\n},\\n\"checkboxFilterClick\" : {\\n\"selector\" : \".collection_1831752 input[type=checkbox]\"\\n}\\n},\\n\"content\" : {\\n\"ajaxUrl\" : \"/ajax/collection/cn/1831752-1831752\",\\n\"ajaxParams\" :\"\",\\n\"selectors\" : {\\n\"filterWrap\" : \".collection_1831752 .filter-wrap\",\\n\"resultsDiv\" : \".collection_1831752 .results\",\\n\"hiddenFilters\" : \".collection_1831752 .filter-content input[id^=\\'select\\'],#form_text_1_freitext\",\\nloadAnimation: \".collection_1831752 .loading-animation\"\\n},\\n\"responsive\" : {\\n\"breakpoints\": [\\n{\\n\"query\": \"screen and (min-width: 0px) and (max-width: 479px)\",\\n\"config\": {\\n\"device\" : \"mobile\",\\n\"loadMoreCount\" : \"0\"\\n}\\n},\\n{\\n\"query\": \"screen and (min-width: 480px) and (max-width: 729px)\",\\n\"config\": {\\n\"device\" : \"tabletPortrait\",\\n\"loadMoreCount\" : \"3\"\\n}\\n},\\n{\\n\"query\": \"screen and (min-width: 730px) and (max-width: 1249px)\",\\n\"config\": {\\n\"device\" : \"tabletLandscape\",\\n\"loadMoreCount\" : \"4\"\\n}\\n},\\n{\\n\"query\": \"screen and (min-width: 1250px) and (max-width: 1919px)\",\\n\"config\": {\\n\"device\" : \"desktop\",\\n\"loadMoreCount\" : \"4\"\\n}\\n},\\n{\\n\"query\": \"screen and (min-width: 1920px)\",\\n\"config\": {\\n\"device\" : \"xl\",\\n\"loadMoreCount\" : \"4\"\\n}\\n}\\n]\\n}\\n,\\n\"filterConfig\" :\\n{}\\n,\\n\"debug\" : \"OldFilterComponent\"\\n},\\n\"defaultState\" : {\\nshowEntryResultCount : true,\\nresultCount : \"21\",\\nselectors : {\\nresultContainer : \".collection_1831752 #filter_result_select1831752\",\\nresultFilterEntryContainer : \"a\"\\n},\\n\"initiallyUnfoldedFilters\" : [],\\n\"filterState\" : []\\n},\\n\"reference\" : {\\n\"selectboxComponent\" : \"SelectboxComponent\"\\n}\\n}\\n}]);\\n</script>\\n<script type=\"text/plain\" class=\"do-load\">\\nSystem.createOnLoad([\\n{\\n\"object\" : \"com.babiel.henkel.js.LoadmoreComponent\",\\n\"id\" : \"LoadmoreComponent\",\\n\"configuration\" : {\\n\"event\" : {\\n\"onClickMoreResultsLink\" : {\\n\"selector\" : \".collection_1831752 .load-more\"\\n}\\n},\\n\"content\" : {\\nselectors : {\\nformFilter : \".filter-content #select1831752 input[id^=\\'select\\'],#form_text_1_freitext\",\\nresultElement : \".collection_1831752 .results .result\",\\nloadMoreEndDiv : \".collection_1831752 .lastPage\",\\nloadAnimation: \".collection_1831752 .loading-animation\"\\n}\\n},\\n\"responsive\" : {\\n\"breakpoints\": [\\n{\\n\"query\": \"screen and (min-width: 0px) and (max-width: 479px)\",\\n\"config\": {\\n\"device\" : \"mobile\",\\n\"loadMoreCount\" : \"0\"\\n}\\n},\\n{\\n\"query\": \"screen and (min-width: 480px) and (max-width: 729px)\",\\n\"config\": {\\n\"device\" : \"tabletPortrait\",\\n\"loadMoreCount\" : \"3\"\\n}\\n},\\n{\\n\"query\": \"screen and (min-width: 730px) and (max-width: 1249px)\",\\n\"config\": {\\n\"device\" : \"tabletLandscape\",\\n\"loadMoreCount\" : \"4\"\\n}\\n},\\n{\\n\"query\": \"screen and (min-width: 1250px) and (max-width: 1919px)\",\\n\"config\": {\\n\"device\" : \"desktop\",\\n\"loadMoreCount\" : \"4\"\\n}\\n},\\n{\\n\"query\": \"screen and (min-width: 1920px)\",\\n\"config\": {\\n\"device\" : \"xl\",\\n\"loadMoreCount\" : \"4\"\\n}\\n}\\n]\\n}\\n,\\nrequest:{\\nupdate:{\\nurl:\"/ajax/collection/cn/1831752-1831752\",\\nresultContainerSelector:\".collection_1831752 .results\"\\n}\\n}\\n}\\n}]);\\n</script>\\n</div>\\n</div> </div>\\n</div>\\n</div>\\n</div>\\n</div>\\n<script type=\"text/plain\" class=\"do-load\">\\nif (typeof webtrekk != \\'undefined\\') {\\nwebtrekk.customEcommerceParameter = {\\n16 : \"Corporate.henkel.cn\"\\n}\\n}\\n</script>\\n<script type=\"text/plain\" class=\"do-load\">\\nif(typeof webtrekk != \"undefined\") {\\nwebtrekk.customParameter[5] = \"Page\"\\n}\\n</script> <div class=\"diversity-overlay\"></div>\\n</main>\\n<footer>\\n<div class=\"container-box container-box--no-border\">\\n<div class=\"container-box__inner\">\\n<div class=\"row\">\\n<div class=\"footer__first-row \">\\n<div class=\"col-tn-12 col-xs-12 col-sm-12 col-md-3 col-lg-9\">\\n<div class=\"footer__logo\">\\n<a aria-label=\"Henkel main page\" href=\"/\">\\n<span class=\"sr-only\">\\n???internal.link.zh???\\n</span>\\n<span class=\"img-wrap\">\\n<span>\\n<img class=\"lazyload\" data-src=\"/resource/blob/1589472/ee721a3ba36dab668877bce4d7a33a45/data/henkel-footer-logo-svg.svg\" alt=\"Henkel footer logo\" src=\"\">\\n</span>\\n</span>\\n</a>\\n</div>\\n</div>\\n<div class=\"col-tn-12 col-xs-12 col-sm-12 col-md-9 col-lg-3 adjusted-padding\">\\n<a href=\"https://www.henkel.com/global-websites-henkel\" class=\"website-selector website-selector--for-footer\" >\\n<i class=\"website-selector__icon icon--globus-svg\"></i>\\n<span class=\"website-selector__label\">\\nGlobal | Change Website </span>\\n</a> </div> </div>\\n<div class=\"footer__second-row\">\\n<div class=\"col-tn-12 col-xs-12 col-sm-12 col-md-9 col-lg-9\">\\n<div class=\"mini-menu \">\\n<div class=\"col-tn-12 col-xs-12 col-sm-12 col-md-4 col-lg-4 mini-menu__links\">\\n<h4 class=\"mini-menu__headline\">公司</h4>\\n<nav>\\n<a href=\"/company?pageID=\" class=\"\"\\ntarget=\"_self\">\\n<i class=\"icon-arrow_link2\"> </i>\\n关于汉高\\n</a><a href=\"/press-newsroom/facts-and-figures?pageID=\" class=\"\"\\ntarget=\"_self\">\\n<i class=\"icon-arrow_link2\"> </i>\\n事实与数据\\n</a><a href=\"/press-newsroom/press-releases-and-kits?pageID=\" class=\"\"\\ntarget=\"_self\">\\n<i class=\"icon-arrow_link2\"> </i>\\n新闻稿\\n</a><a href=\"https://www.henkel.com/investors-and-analysts/financial-reports/annual-reports?pageID=\" class=\"\"\\ntarget=\"_blank\">\\n<i class=\"icon-arrow_link2\"> </i>\\n年度报告\\n</a><a href=\"/sustainability/sustainability-report?pageID=\" class=\"\"\\ntarget=\"_self\">\\n<i class=\"icon-arrow_link2\"> </i>\\n年度可持续发展报告（英文）\\n</a> </nav>\\n</div>\\n<div class=\"col-tn-12 col-xs-12 col-sm-12 col-md-4 col-lg-4 mini-menu__links\">\\n<h4 class=\"mini-menu__headline\">品牌及业务</h4>\\n<nav>\\n<a href=\"/brands-businesses/adhesive-technologies?pageID=\" class=\"\"\\ntarget=\"_self\">\\n<i class=\"icon-arrow_link2\"> </i>\\n汉高粘合剂技术 Henkel&#xa0;Adhesive Technologies\\n</a><a href=\"/brands-businesses/consumer-brands?pageID=\" class=\"\"\\ntarget=\"_self\">\\n<i class=\"icon-arrow_link2\"> </i>\\n汉高消费品牌&#xa0;Henkel&#xa0;Consumer Brands\\n</a> </nav>\\n</div>\\n<div class=\"col-tn-12 col-xs-12 col-sm-12 col-md-4 col-lg-4 mini-menu__links\">\\n<h4 class=\"mini-menu__headline\">快速链接</h4>\\n<nav>\\n<a href=\"/careers/jobs-and-application?pageID=\" class=\"\"\\ntarget=\"_self\">\\n<i class=\"icon-arrow_link2\"> </i>\\n职位申请\\n</a><a href=\"/press-newsroom/download-center?pageID=\" class=\"\"\\ntarget=\"_self\">\\n<i class=\"icon-arrow_link2\"> </i>\\n下载中心\\n</a><a href=\"/contact-us?pageID=\" class=\"\"\\ntarget=\"_self\">\\n<i class=\"icon-arrow_link2\"> </i>\\n常见问题\\n</a><a href=\"/contact-us?pageID=\" class=\"\"\\ntarget=\"_self\">\\n<i class=\"icon-arrow_link2\"> </i>\\n联系汉高\\n</a> </nav>\\n</div>\\n</div>\\n<div class=\"mini-menu accordion-sm\" data-js-rebrush=\"true\" id=\"Tab-1831726_\">\\n<div class=\"accordion \" data-accordion-wrapper\\ndata-accordion-without-url-params=\"false\" role=\"tablist\">\\n<h4 class=\"accordion-headline\"\\ndata-accordion-headline data-accordion-id=\"Tab-1831726_1\" tabindex=0 role=tab aria-expanded=false aria-controls=tabpanel_1831726_1\\n>\\n公司\\n<svg xmlns=\"http://www.w3.org/2000/svg\" class=\"arrow-icon-down\" width=\"16\" height=\"16\"\\nfill=\"currentColor\" viewBox=\"0 0 40 40\">\\n<path d=\"M2 12.9L4.68 10l14.398 15.595h1.843L35.334 10 38 12.9 22.196 30H17.82L2 12.9z\"></path>\\n</svg>\\n</h4>\\n<nav class=\"accordion-content\"\\ndata-accordion-content role=\"tabpanel\" id=\"tabpanel_1831726_1\" data-inner-padding=\"false\" inert\\n>\\n<a href=\"/company?pageID=\" class=\"\"\\ntarget=\"_self\">\\n<i class=\"icon-arrow_link2\"> </i>\\n关于汉高\\n</a><a href=\"/press-newsroom/facts-and-figures?pageID=\" class=\"\"\\ntarget=\"_self\">\\n<i class=\"icon-arrow_link2\"> </i>\\n事实与数据\\n</a><a href=\"/press-newsroom/press-releases-and-kits?pageID=\" class=\"\"\\ntarget=\"_self\">\\n<i class=\"icon-arrow_link2\"> </i>\\n新闻稿\\n</a><a href=\"https://www.henkel.com/investors-and-analysts/financial-reports/annual-reports?pageID=\" class=\"\"\\ntarget=\"_blank\">\\n<i class=\"icon-arrow_link2\"> </i>\\n年度报告\\n</a><a href=\"/sustainability/sustainability-report?pageID=\" class=\"\"\\ntarget=\"_self\">\\n<i class=\"icon-arrow_link2\"> </i>\\n年度可持续发展报告（英文）\\n</a> </nav>\\n<h4 class=\"accordion-headline\"\\ndata-accordion-headline data-accordion-id=\"Tab-1831726_2\" tabindex=0 role=tab aria-expanded=false aria-controls=tabpanel_1831726_2\\n>\\n品牌及业务\\n<svg xmlns=\"http://www.w3.org/2000/svg\" class=\"arrow-icon-down\" width=\"16\" height=\"16\"\\nfill=\"currentColor\" viewBox=\"0 0 40 40\">\\n<path d=\"M2 12.9L4.68 10l14.398 15.595h1.843L35.334 10 38 12.9 22.196 30H17.82L2 12.9z\"></path>\\n</svg>\\n</h4>\\n<nav class=\"accordion-content\"\\ndata-accordion-content role=\"tabpanel\" id=\"tabpanel_1831726_2\" data-inner-padding=\"false\" inert\\n>\\n<a href=\"/brands-businesses/adhesive-technologies?pageID=\" class=\"\"\\ntarget=\"_self\">\\n<i class=\"icon-arrow_link2\"> </i>\\n汉高粘合剂技术 Henkel&#xa0;Adhesive Technologies\\n</a><a href=\"/brands-businesses/consumer-brands?pageID=\" class=\"\"\\ntarget=\"_self\">\\n<i class=\"icon-arrow_link2\"> </i>\\n汉高消费品牌&#xa0;Henkel&#xa0;Consumer Brands\\n</a> </nav>\\n<h4 class=\"accordion-headline\"\\ndata-accordion-headline data-accordion-id=\"Tab-1831726_3\" tabindex=0 role=tab aria-expanded=false aria-controls=tabpanel_1831726_3\\n>\\n快速链接\\n<svg xmlns=\"http://www.w3.org/2000/svg\" class=\"arrow-icon-down\" width=\"16\" height=\"16\"\\nfill=\"currentColor\" viewBox=\"0 0 40 40\">\\n<path d=\"M2 12.9L4.68 10l14.398 15.595h1.843L35.334 10 38 12.9 22.196 30H17.82L2 12.9z\"></path>\\n</svg>\\n</h4>\\n<nav class=\"accordion-content\"\\ndata-accordion-content role=\"tabpanel\" id=\"tabpanel_1831726_3\" data-inner-padding=\"false\" inert\\n>\\n<a href=\"/careers/jobs-and-application?pageID=\" class=\"\"\\ntarget=\"_self\">\\n<i class=\"icon-arrow_link2\"> </i>\\n职位申请\\n</a><a href=\"/press-newsroom/download-center?pageID=\" class=\"\"\\ntarget=\"_self\">\\n<i class=\"icon-arrow_link2\"> </i>\\n下载中心\\n</a><a href=\"/contact-us?pageID=\" class=\"\"\\ntarget=\"_self\">\\n<i class=\"icon-arrow_link2\"> </i>\\n常见问题\\n</a><a href=\"/contact-us?pageID=\" class=\"\"\\ntarget=\"_self\">\\n<i class=\"icon-arrow_link2\"> </i>\\n联系汉高\\n</a> </nav>\\n</div>\\n</div> </div>\\n<div class=\"col-tn-12 col-xs-12 col-sm-12 col-md-3 col-lg-3 adjusted-padding\">\\n<div class=\"contact-us\">\\n<a href=\"/contact-us\" class=\"bab-button bab-button--primary\">\\n联系 <i class=\"icon--email-svg\"></i>\\n</a>\\n</div><nav class=\"social\">\\n<a href=\"https://www.linkedin.com/company/henkel?trk=hb_tab_compy_id_258644\" target=\"_blank\">\\n<span class=\"sr-only\">Join us on LinkedIn</span>\\n<img class=\"lazyload\" data-src=\"/resource/blob/1589476/3fe8682e3800def2ee9b9138e48cefdb/data/linked-in-logo-white-svg.svg\" src=\"\" alt=\"Join us on LinkedIn Icon\" />\\n</a>\\n<a href=\"https://www.weibo.com/henkelcn?is_hot=1\" target=\"_blank\">\\n<span class=\"sr-only\">Join us on Weibo</span>\\n<img class=\"lazyload\" data-src=\"/resource/blob/1695124/e1508ab96b4dbb4e42934c9f3b0c349f/data/icon-weibo-footer.svg\" src=\"\" alt=\"Join us on Weibo Icon\" />\\n</a>\\n<a href=\"https://www.henkel.cn/press-newsroom/social-media\" target=\"_blank\">\\n<span class=\"sr-only\">Join us on Tiktok</span>\\n<img class=\"lazyload\" data-src=\"/resource/blob/1717724/d055ceac5351a8cdbb4358f64fb8ae28/data/icon-tiktok-footer-rebrush.svg\" src=\"\" alt=\"Join us on Tiktok Icon\" />\\n</a>\\n<a href=\"https://www.henkel.cn/press-newsroom/social-media\" target=\"_blank\">\\n<span class=\"sr-only\">Join us on WeChat</span>\\n<img class=\"lazyload\" data-src=\"/resource/blob/1699290/bec895d64369b8c592c3c497794cb870/data/icon-we-chat-footer.svg\" src=\"\" alt=\"Join us on WeChat Icon\" />\\n</a>\\n</nav> </div>\\n</div>\\n<div class=\"footer__third-row\">\\n<div class=\"col-tn-12 col-xs-12 col-sm-12 col-md-12 col-lg-12\">\\n<nav class=\"service-links\">\\n<a href=\"/sitemap-cn?pageID=#pageID=1831726\" class=\"\"\\ntarget=\"_self\">\\n网站地图\\n</a>\\n<a href=\"/imprint?pageID=#pageID=1831726\" class=\"\"\\ntarget=\"_self\">\\n版权声明\\n</a>\\n<a href=\"/terms-of-use?pageID=#pageID=1831726\" class=\"\"\\ntarget=\"_self\">\\n使用条款\\n</a>\\n<a href=\"/data-protection-statement?pageID=#pageID=1831726\" class=\"\"\\ntarget=\"_self\">\\n隐私权声明\\n</a>\\n<a href=\"/cookies?pageID=#pageID=1831726\" class=\"\"\\ntarget=\"_self\">\\nCookies\\n</a>\\n</nav> </div>\\n<div class=\"col-tn-12 col-xs-12 col-sm-12 col-md-12 col-lg-12 copyright-wrap\">\\n<a href=\"/data-protection-statement?pageID=\" class=\"copyright-text\"\\ntarget=\"_self\">\\n<i class=\"icon-arrow_link2\"> </i>\\n© 2025 汉高（中国）投资有限公司，上海，中国\\n</a> <span class=\"copyright-legal\"><span>&nbsp;&nbsp;&nbsp;<a href= \"https://beian.miit.gov.cn/\" style=\"text-decoration: underline;\" target= \"_blank\">沪ICP备 10028897号-44</a>，</span><span><img class=\"copyright-image\" alt=\"logo\" src=\"https://www.henkel.cn/resource/blob/1060040/33fd07dd69160c492205b6e9a0863f4d/data/%E5%A4%87%E6%A1%88%E7%BC%96%E5%8F%B7%E5%9B%BE%E6%A0%87.png\"> <a href= \"https://www.beian.gov.cn/portal/registerSystemInfo?recordcode=31011002005663\" style=\"text-decoration: underline;\" target= \"_blank\">沪公网安备案31011002005663</a></span></span>\\n</div>\\n</div>\\n</div>\\n</div>\\n</div>\\n</footer></div>        </div>\\r\\n\\r\\n<noscript>\\n<div>\\n<img\\nclass=\"lazyload\" data-src=\"https://henkel01.wt-eu02.net/957772004011134/wt.pl?p=326,henkel-cn.cn.brands-and-businesses.consumer-brands-1831726&cg1=henkel-cn&cg2=cn&cg3=brands-and-businesses&cg4=consumer&cp1=&cp2=1831726\"\\nheight=\"1\" width=\"1\"\\nalt=\"Tracking Pixel\"/>\\n</div>\\n</noscript>    </body>\\r\\n</html>\\r\\n'"
      ]
     },
     "execution_count": 10,
     "metadata": {},
     "output_type": "execute_result"
    }
   ],
   "source": [
    "response.text"
   ]
  },
  {
   "cell_type": "code",
   "execution_count": 11,
   "id": "9ad5fbc6",
   "metadata": {},
   "outputs": [],
   "source": [
    "from bs4 import BeautifulSoup"
   ]
  },
  {
   "cell_type": "code",
   "execution_count": 12,
   "id": "f8088c9e",
   "metadata": {},
   "outputs": [],
   "source": [
    "soup = BeautifulSoup(response.text, 'html.parser')\n",
    "text = soup.get_text(separator='\\n', strip=True)"
   ]
  },
  {
   "cell_type": "code",
   "execution_count": 13,
   "id": "71008c29",
   "metadata": {},
   "outputs": [
    {
     "name": "stdout",
     "output_type": "stream",
     "text": [
      "汉高消费品牌 Henkel Consumer Brands\n",
      "/resource/themes/musterseiten/css/wp_landscape-213102-64.css\n",
      "搜索\n",
      "菜单\n",
      "联系\n",
      "添加到我的收藏夹\n",
      "Global | Change Website\n",
      "联系我们公司\n",
      "通过电子邮件发送本页\n",
      "关闭\n",
      "添加到我的收藏夹\n",
      "1831726\n",
      "HKChannel\n",
      "myContentLinks\n",
      "显示我的收藏夹\n",
      "(0)\n",
      "关闭\n",
      "社交媒体\n",
      "分享本页！\n",
      "关闭\n",
      "关于汉高\n",
      "关于汉高\n",
      "谁是汉高，又是什么驱动着我们?\n",
      "在汉高，凝聚我们的是共同的企业宗旨\"Pioneers at heart for the good of generations\"和战略框架。\n",
      "点击详情\n",
      "下载\n",
      "联系\n",
      "Main Menu\n",
      "关于汉高\n",
      "企业文化\n",
      "战略框架\n",
      "汉高品牌\n",
      "管理\n",
      "治理及合规\n",
      "多元、平等及包容\n",
      "里程碑及成果\n",
      "合作伙伴及供应商\n",
      "关于汉高\n",
      "治理及合规\n",
      "合规检举流程及合规热线\n",
      "关于汉高\n",
      "里程碑及成果\n",
      "历史\n",
      "排名及奖项\n",
      "重塑想象，激发美好生活\n",
      "全新的汉高品牌将我们的传统与愿景结合在一起：凭借我们的核心优势，号召大家携手塑造有意义的未来，推动社会进步。\n",
      "点击详情\n",
      "业务\n",
      "业务\n",
      "了解更多来自汉高粘合剂技术（Henkel Adhesive Technologies）和汉高消费品牌（Henkel Consumer Brands）旗下的技术与品牌。\n",
      "点击详情\n",
      "联系\n",
      "数据资料\n",
      "Main Menu\n",
      "业务\n",
      "汉高粘合剂技术 Henkel Adhesive Technologies\n",
      "汉高消费品牌 Henkel Consumer Brands\n",
      "业务\n",
      "汉高粘合剂技术 Henkel Adhesive Technologies\n",
      "关于我们\n",
      "推动可持续发展\n",
      "研发\n",
      "开放式创新与投资\n",
      "业务\n",
      "汉高消费品牌 Henkel Consumer Brands\n",
      "关于我们\n",
      "推动可持续发展\n",
      "研发\n",
      "开放式创新与投资\n",
      "可持续发展\n",
      "可持续发展\n",
      "作为可持续发展领域的领导者，我们希望在负责任地塑造企业未来和创造经济效益的同时，为可持续发展开拓全新的解决方案。\n",
      "点击详情\n",
      "Main Menu\n",
      "可持续发展\n",
      "战略\n",
      "变革影响\n",
      "再生星球\n",
      "繁荣社区\n",
      "信赖的合作伙伴\n",
      "实现变革的要素\n",
      "可持续发展报告\n",
      "企业公民\n",
      "可持续发展\n",
      "再生星球\n",
      "气候\n",
      "循环经济\n",
      "自然资源\n",
      "可持续发展\n",
      "实现变革的要素\n",
      "我们的产品和技术\n",
      "我们的员工\n",
      "倡议和伙伴关系\n",
      "2024年度可持续发展报告（英文）\n",
      "pdf\n",
      "2024年度可持续发展报告（英文）\n",
      "‏\n",
      "(4.51 MB)\n",
      "添加到我的收藏夹\n",
      "638716\n",
      "standard\n",
      "HKDownload\n",
      "数字化\n",
      "数字化\n",
      "我们正在通过数字化塑造未来市场，包括新的业务与合作模式、创造独特的客户体验、以及对数据和技术的运用。\n",
      "点击详情\n",
      "Main Menu\n",
      "数字化\n",
      "技术驱动型业务模式\n",
      "以合作促创新\n",
      "数字化转型\n",
      "职业\n",
      "职业\n",
      "Dare to make an impact (敢想，敢做，敢不凡)? 加入汉高，与我们一起塑造未来。\n",
      "点击详情\n",
      "Main Menu\n",
      "职业\n",
      "为什么选择汉高\n",
      "团队与地点\n",
      "在校生及毕业生\n",
      "职位申请\n",
      "常见问题\n",
      "职业\n",
      "职位申请\n",
      "汉高招聘&筛选\n",
      "现在就开始申请\n",
      "点击详情\n",
      "新闻及媒体室\n",
      "新闻及媒体室\n",
      "我们的新闻及媒体关系团队为广大媒体朋友提供了各类主题的最新新闻稿、背景资料，以及照片和视频资料，可供下载。\n",
      "点击详情\n",
      "新闻及媒体室\n",
      "Main Menu\n",
      "新闻及媒体室\n",
      "新闻稿及资料库\n",
      "事实与数据\n",
      "下载中心\n",
      "社交媒体\n",
      "新闻及媒体室\n",
      "事实与数据\n",
      "公司简介\n",
      "可持续发展\n",
      "多元、平等及包容\n",
      "探索者的世界\n",
      "联系\n",
      "添加到我的收藏夹\n",
      "Global | Change Website\n",
      "汉高官网首页\n",
      "业务\n",
      "汉高消费品牌 Henkel Consumer Brands\n",
      "汉高消费品牌\n",
      "Henkel Consumer Brands\n",
      "我们正在推动建立一个多品类消费品牌平台，包含众多产品和知名品牌。我们多样化的产品组合专注于多个消费品类，其中两大核心品类是：洗涤剂及家用护理，以及美发。\n",
      "致力于推动标志性品牌和技术创新，以满足消费者需求\n",
      "我们的品牌\n",
      "Filter\n",
      "Filter\n",
      "区域\n",
      "区域\n",
      "Filter\n",
      "Reset\n",
      "No results found, please check the spelling or try another term.\n",
      "所有区域\n",
      "北美\n",
      "波多黎各\n",
      "加拿大\n",
      "美国\n",
      "墨西哥\n",
      "拉丁美洲\n",
      "???filters.El Salvador.zh???\n",
      "阿根廷\n",
      "安提瓜和巴布达\n",
      "巴巴多斯\n",
      "巴哈马群岛\n",
      "巴拉圭\n",
      "巴拿马\n",
      "巴西\n",
      "玻利维亚\n",
      "伯利兹\n",
      "多米尼加\n",
      "多米尼加共和国\n",
      "厄瓜多尔\n",
      "哥伦比亚\n",
      "哥斯达黎加\n",
      "格林纳达\n",
      "古巴\n",
      "圭亚那\n",
      "海地\n",
      "洪都拉斯\n",
      "秘鲁\n",
      "尼加拉瓜\n",
      "圣基茨和尼维斯\n",
      "圣卢西亚岛\n",
      "圣文森特和格林纳丁斯\n",
      "苏里南\n",
      "特立尼达和多巴哥\n",
      "危地马拉\n",
      "委内瑞拉\n",
      "乌拉圭\n",
      "牙买加\n",
      "智利\n",
      "欧洲\n",
      "阿尔巴尼亚\n",
      "阿塞拜疆\n",
      "爱尔兰\n",
      "爱沙尼亚\n",
      "安道尔\n",
      "奥地利\n",
      "保加利亚\n",
      "比利时\n",
      "冰岛\n",
      "波兰\n",
      "波斯尼亚和黑塞哥维那\n",
      "丹麦\n",
      "德国\n",
      "法国\n",
      "芬兰\n",
      "格鲁吉亚\n",
      "荷兰\n",
      "黑山共和国\n",
      "捷克共和国\n",
      "克罗地亚\n",
      "拉脱维亚\n",
      "立陶宛\n",
      "列支敦斯顿\n",
      "卢森堡\n",
      "罗马尼亚\n",
      "马耳他\n",
      "马其顿\n",
      "摩尔多瓦\n",
      "摩纳哥\n",
      "挪威\n",
      "葡萄牙\n",
      "瑞典\n",
      "瑞士\n",
      "塞尔维亚\n",
      "塞浦路斯\n",
      "斯洛伐克\n",
      "斯洛文尼亚\n",
      "乌克兰\n",
      "乌兹别克斯坦\n",
      "西班牙\n",
      "希腊\n",
      "匈牙利\n",
      "意大利\n",
      "英国\n",
      "亚太\n",
      "???filters.East Timor.zh???\n",
      "???filters.Vanuatu.zh???\n",
      "阿曼\n",
      "阿塞拜疆\n",
      "澳大利亚\n",
      "巴布亚新几内亚\n",
      "巴基斯坦\n",
      "巴勒斯坦\n",
      "巴林\n",
      "不丹\n",
      "菲律宾\n",
      "格鲁吉亚\n",
      "哈萨克斯坦\n",
      "韩国\n",
      "基里巴斯\n",
      "吉尔吉斯斯坦\n",
      "柬埔寨\n",
      "卡塔尔\n",
      "科威特\n",
      "老挝\n",
      "马尔代夫\n",
      "马来西亚\n",
      "马绍尔群岛\n",
      "蒙古\n",
      "孟加拉国\n",
      "密克罗尼西亚（联邦国家）\n",
      "缅甸\n",
      "尼泊尔\n",
      "帕劳\n",
      "日本\n",
      "萨摩亚\n",
      "斯里兰卡\n",
      "所罗门群岛\n",
      "塔吉克斯坦\n",
      "泰国\n",
      "汤加\n",
      "图瓦卢\n",
      "土库曼斯坦\n",
      "瓦利斯和富图纳群岛\n",
      "文莱\n",
      "乌兹别克斯坦\n",
      "香港特区\n",
      "新加坡\n",
      "新西兰\n",
      "亚美尼亚\n",
      "也门\n",
      "伊朗\n",
      "印度\n",
      "印度尼西亚\n",
      "越南\n",
      "中国大陆地区\n",
      "中国台湾\n",
      "瑙鲁\n",
      "斐济\n",
      "非洲，印度&中東\n",
      "阿尔及利亚\n",
      "阿拉伯联合酋长国\n",
      "埃及\n",
      "埃塞俄比亚\n",
      "安哥拉\n",
      "贝宁\n",
      "博茨瓦纳\n",
      "布基纳法索\n",
      "布隆迪\n",
      "赤道几内亚\n",
      "多哥\n",
      "厄立特里亚\n",
      "佛得角\n",
      "冈比亚\n",
      "刚果（民主共和国）\n",
      "刚果布拉柴维尔\n",
      "吉布提\n",
      "几内亚\n",
      "几内亚比绍\n",
      "加纳\n",
      "加蓬\n",
      "津巴布韦\n",
      "喀麦隆\n",
      "科摩罗\n",
      "科特迪瓦\n",
      "肯尼亚\n",
      "莱索托\n",
      "黎巴嫩\n",
      "卢旺达\n",
      "马达加斯加\n",
      "马拉维\n",
      "马里\n",
      "毛里求斯\n",
      "毛里塔尼亚\n",
      "摩洛哥\n",
      "莫桑比克\n",
      "纳米比亚\n",
      "南非\n",
      "南苏丹\n",
      "尼日尔\n",
      "尼日利亚\n",
      "塞内加尔\n",
      "塞舌尔\n",
      "沙特阿拉伯\n",
      "圣多美和普林西比\n",
      "斯威士兰\n",
      "苏丹\n",
      "索马里\n",
      "坦桑尼亚\n",
      "突尼斯\n",
      "土耳其\n",
      "乌干达\n",
      "以色列\n",
      "约旦\n",
      "赞比亚\n",
      "乍得\n",
      "中非共和国\n",
      "Save\n",
      "客户部分\n",
      "客户部分\n",
      "Filter\n",
      "Reset\n",
      "消费者\n",
      "专业\n",
      "Save\n",
      "产品类型\n",
      "产品类型\n",
      "Filter\n",
      "Reset\n",
      "空气净化\n",
      "身体护理\n",
      "餐具清洁\n",
      "头发护理\n",
      "发色\n",
      "发型\n",
      "硬表面清洁剂\n",
      "杀虫剂\n",
      "洗涤剂添加剂\n",
      "洗涤剂\n",
      "卫生间护理\n",
      "Save\n",
      "No results found, please check the spelling or try another term.\n",
      "???internal.link.zh???\n",
      "更多信息\n",
      "???internal.link.en???\n",
      "更多信息\n",
      "???internal.link.zh???\n",
      "更多信息\n",
      "???internal.link.zh???\n",
      "更多信息\n",
      "???internal.link.zh???\n",
      "更多信息\n",
      "???internal.link.zh???\n",
      "更多信息\n",
      "???internal.link.zh???\n",
      "更多信息\n",
      "???internal.link.zh???\n",
      "更多信息\n",
      "???internal.link.zh???\n",
      "更多信息\n",
      "???internal.link.zh???\n",
      "更多信息\n",
      "加载更多\n",
      "联系与服务\n",
      "联系我们\n",
      "了解我们的品牌与解决方案。\n",
      "了解更多\n",
      "服务热线\n",
      "400-855-1515\n",
      "如果发生意外产品接触、误用或其他事件，可随时拨打汉高服务热线。汉高专家将为您提供适当的建议。\n",
      "安全数据表\n",
      "请在数据库搜索材料安全数据表\n",
      "点击详情\n",
      "我们的核心品类\n",
      "洗涤剂及家用护理\n",
      "我们的宝莹（Persil）、妙力（Bref）等品牌在消费者的日常生活中发挥着关键作用。在当前消费者行为转变的推动下，我们鼓励子孙后代选择可持续的产品。为此，我们与消费者和客户合作，在洗衣和厕所清洁等领域开发市场领先的可持续品牌和产品。\n",
      "美发\n",
      "汉高美发品类活跃于消费品和专业美发业务领域。我们对美发充满热情，施华蔻（Schwarzkopf）、丝蕴（Syoss）等品牌即是对热情的诠释。无论是面向消费者零售的护发、染发或造型护理产品，还是面向专业美发沙龙专供的护发、染发、定型或造型的创新产品，我们的品牌都致力于在质量、安全、可持续和高性能方面塑造产品。\n",
      "了解更多有关汉高消费品牌 Henkel Consumer Brands 业务的信息\n",
      "关于我们\n",
      "了解更多有关我们组织架构、业务和品牌、事实与数据以及就业机会的信息。\n",
      "了解更多\n",
      "推动可持续发展\n",
      "了解我们如何通过确定产品与技术、伙伴关系这两个实现系统性变革的关键方法，从而在整个价值链上产生积极影响。\n",
      "了解更多\n",
      "研发\n",
      "了解更多有关我们研发网络、重点领域和应用知识的信息。\n",
      "了解更多\n",
      "开放式创新和投资\n",
      "了解我们如何与世界各地的外部伙伴合作，共同开发和推动创新的发展。\n",
      "了解更多\n",
      "了解有关我们全球产品组合的更多信息\n",
      "消费品牌相关新闻\n",
      "???internal.link.zh???\n",
      "2025年4月15日\n",
      "-\n",
      "新闻稿\n",
      "施华蔻专业2025春夏新季风发布会重磅亮相\n",
      "汉高消费品牌业务部携旗下品牌，用专业科技串联无限创新力，钜献施华蔻专业2025春夏新季风发布会，力邀精英造型师用专业造“美”，启迪发艺潮流，共同演绎先锋美力“新季风”。\n",
      "点击详情\n",
      "???internal.link.zh???\n",
      "2025年3月6日\n",
      "-\n",
      "新闻稿\n",
      "汉高举办新一届“玛莎·施华蔻女性科学奖”以表彰杰出女性研究者\n",
      "汉高举办第四届“玛莎·施华蔻女性科学奖”，以鼓励并支持女性研究者。除了设立主奖项用于表彰在头发头皮科学研究领域做出长期杰出贡献的女性科学家外，本届赛事还设立了“新秀奖”，以鼓励和嘉奖年轻的女性科学家。报名通道于3月8日“国际妇女节”正式开启。通过设立该奖项，汉高再次表明了其致力于认可和支持全球女性研究人员在头发头皮及相关领域的贡献。\n",
      "点击详情\n",
      "???internal.link.zh???\n",
      "2025年3月4日\n",
      "-\n",
      "新闻稿\n",
      "汉高成功收购苏州博克\n",
      "汉高成功完成对苏州博克生物科技股份有限公司的收购。此举将显著提升汉高消费品牌在中国的本土制造实力，为其在这一重要市场的可持续创新和长期业务增长奠定了坚实基础。\n",
      "点击详情\n",
      "???internal.link.zh???\n",
      "2024年11月4日\n",
      "-\n",
      "新闻稿\n",
      "创新引领可持续未来，汉高再续中国市场共赢新篇\n",
      "11月5日至10日，汉高将携旗下粘合剂技术、消费品牌两大业务部门的创新产品和解决方案，亮相第七届中国国际进口博览会（“进博会”）技术装备展区。六度赴约进博，汉高将以“创新先锋，绿动世代”为主题，携一系列新产品、新应用，展现倡导绿色低碳的核心理念，助力中国以新质生产力促进高质量发展。\n",
      "点击详情\n",
      "1 / 4\n",
      "加载更多\n",
      "???internal.link.zh???\n",
      "Global | Change Website\n",
      "公司\n",
      "关于汉高\n",
      "事实与数据\n",
      "新闻稿\n",
      "年度报告\n",
      "年度可持续发展报告（英文）\n",
      "品牌及业务\n",
      "汉高粘合剂技术 Henkel Adhesive Technologies\n",
      "汉高消费品牌 Henkel Consumer Brands\n",
      "快速链接\n",
      "职位申请\n",
      "下载中心\n",
      "常见问题\n",
      "联系汉高\n",
      "公司\n",
      "关于汉高\n",
      "事实与数据\n",
      "新闻稿\n",
      "年度报告\n",
      "年度可持续发展报告（英文）\n",
      "品牌及业务\n",
      "汉高粘合剂技术 Henkel Adhesive Technologies\n",
      "汉高消费品牌 Henkel Consumer Brands\n",
      "快速链接\n",
      "职位申请\n",
      "下载中心\n",
      "常见问题\n",
      "联系汉高\n",
      "联系\n",
      "Join us on LinkedIn\n",
      "Join us on Weibo\n",
      "Join us on Tiktok\n",
      "Join us on WeChat\n",
      "网站地图\n",
      "版权声明\n",
      "使用条款\n",
      "隐私权声明\n",
      "Cookies\n",
      "© 2025 汉高（中国）投资有限公司，上海，中国\n",
      "沪ICP备 10028897号-44\n",
      "，\n",
      "沪公网安备案31011002005663\n"
     ]
    }
   ],
   "source": [
    "print(text)"
   ]
  },
  {
   "cell_type": "code",
   "execution_count": 14,
   "id": "3a95e38e",
   "metadata": {},
   "outputs": [
    {
     "data": {
      "text/plain": [
       "str"
      ]
     },
     "execution_count": 14,
     "metadata": {},
     "output_type": "execute_result"
    }
   ],
   "source": [
    "type(text)"
   ]
  },
  {
   "cell_type": "code",
   "execution_count": 16,
   "id": "f1295fa6",
   "metadata": {},
   "outputs": [
    {
     "data": {
      "text/plain": [
       "['汉高消费品牌 Henkel Consumer Brands',\n",
       " '/resource/themes/musterseiten/css/wp_landscape-213102-64.css',\n",
       " '搜索',\n",
       " '菜单',\n",
       " '联系',\n",
       " '添加到我的收藏夹',\n",
       " 'Global | Change Website',\n",
       " '联系我们公司',\n",
       " '通过电子邮件发送本页',\n",
       " '关闭',\n",
       " '添加到我的收藏夹',\n",
       " '1831726',\n",
       " 'HKChannel',\n",
       " 'myContentLinks',\n",
       " '显示我的收藏夹',\n",
       " '(0)',\n",
       " '关闭',\n",
       " '社交媒体',\n",
       " '分享本页！',\n",
       " '关闭',\n",
       " '关于汉高',\n",
       " '关于汉高',\n",
       " '谁是汉高，又是什么驱动着我们?',\n",
       " '在汉高，凝聚我们的是共同的企业宗旨\"Pioneers at heart for the good of generations\"和战略框架。',\n",
       " '点击详情',\n",
       " '下载',\n",
       " '联系',\n",
       " 'Main Menu',\n",
       " '关于汉高',\n",
       " '企业文化',\n",
       " '战略框架',\n",
       " '汉高品牌',\n",
       " '管理',\n",
       " '治理及合规',\n",
       " '多元、平等及包容',\n",
       " '里程碑及成果',\n",
       " '合作伙伴及供应商',\n",
       " '关于汉高',\n",
       " '治理及合规',\n",
       " '合规检举流程及合规热线',\n",
       " '关于汉高',\n",
       " '里程碑及成果',\n",
       " '历史',\n",
       " '排名及奖项',\n",
       " '重塑想象，激发美好生活',\n",
       " '全新的汉高品牌将我们的传统与愿景结合在一起：凭借我们的核心优势，号召大家携手塑造有意义的未来，推动社会进步。',\n",
       " '点击详情',\n",
       " '业务',\n",
       " '业务',\n",
       " '了解更多来自汉高粘合剂技术（Henkel Adhesive Technologies）和汉高消费品牌（Henkel Consumer Brands）旗下的技术与品牌。',\n",
       " '点击详情',\n",
       " '联系',\n",
       " '数据资料',\n",
       " 'Main Menu',\n",
       " '业务',\n",
       " '汉高粘合剂技术 Henkel\\xa0Adhesive Technologies',\n",
       " '汉高消费品牌\\xa0Henkel\\xa0Consumer Brands',\n",
       " '业务',\n",
       " '汉高粘合剂技术 Henkel\\xa0Adhesive Technologies',\n",
       " '关于我们',\n",
       " '推动可持续发展',\n",
       " '研发',\n",
       " '开放式创新与投资',\n",
       " '业务',\n",
       " '汉高消费品牌\\xa0Henkel\\xa0Consumer Brands',\n",
       " '关于我们',\n",
       " '推动可持续发展',\n",
       " '研发',\n",
       " '开放式创新与投资',\n",
       " '可持续发展',\n",
       " '可持续发展',\n",
       " '作为可持续发展领域的领导者，我们希望在负责任地塑造企业未来和创造经济效益的同时，为可持续发展开拓全新的解决方案。',\n",
       " '点击详情',\n",
       " 'Main Menu',\n",
       " '可持续发展',\n",
       " '战略',\n",
       " '变革影响',\n",
       " '再生星球',\n",
       " '繁荣社区',\n",
       " '信赖的合作伙伴',\n",
       " '实现变革的要素',\n",
       " '可持续发展报告',\n",
       " '企业公民',\n",
       " '可持续发展',\n",
       " '再生星球',\n",
       " '气候',\n",
       " '循环经济',\n",
       " '自然资源',\n",
       " '可持续发展',\n",
       " '实现变革的要素',\n",
       " '我们的产品和技术',\n",
       " '我们的员工',\n",
       " '倡议和伙伴关系',\n",
       " '2024年度可持续发展报告（英文）',\n",
       " 'pdf',\n",
       " '2024年度可持续发展报告（英文）',\n",
       " '\\u200f',\n",
       " '(4.51 MB)',\n",
       " '添加到我的收藏夹',\n",
       " '638716',\n",
       " 'standard',\n",
       " 'HKDownload',\n",
       " '数字化',\n",
       " '数字化',\n",
       " '我们正在通过数字化塑造未来市场，包括新的业务与合作模式、创造独特的客户体验、以及对数据和技术的运用。',\n",
       " '点击详情',\n",
       " 'Main Menu',\n",
       " '数字化',\n",
       " '技术驱动型业务模式',\n",
       " '以合作促创新',\n",
       " '数字化转型',\n",
       " '职业',\n",
       " '职业',\n",
       " 'Dare to make an impact (敢想，敢做，敢不凡)? 加入汉高，与我们一起塑造未来。',\n",
       " '点击详情',\n",
       " 'Main Menu',\n",
       " '职业',\n",
       " '为什么选择汉高',\n",
       " '团队与地点',\n",
       " '在校生及毕业生',\n",
       " '职位申请',\n",
       " '常见问题',\n",
       " '职业',\n",
       " '职位申请',\n",
       " '汉高招聘&筛选',\n",
       " '现在就开始申请',\n",
       " '点击详情',\n",
       " '新闻及媒体室',\n",
       " '新闻及媒体室',\n",
       " '我们的新闻及媒体关系团队为广大媒体朋友提供了各类主题的最新新闻稿、背景资料，以及照片和视频资料，可供下载。',\n",
       " '点击详情',\n",
       " '新闻及媒体室',\n",
       " 'Main Menu',\n",
       " '新闻及媒体室',\n",
       " '新闻稿及资料库',\n",
       " '事实与数据',\n",
       " '下载中心',\n",
       " '社交媒体',\n",
       " '新闻及媒体室',\n",
       " '事实与数据',\n",
       " '公司简介',\n",
       " '可持续发展',\n",
       " '多元、平等及包容',\n",
       " '探索者的世界',\n",
       " '联系',\n",
       " '添加到我的收藏夹',\n",
       " 'Global | Change Website',\n",
       " '汉高官网首页',\n",
       " '业务',\n",
       " '汉高消费品牌\\xa0Henkel\\xa0Consumer Brands',\n",
       " '汉高消费品牌',\n",
       " 'Henkel\\xa0Consumer Brands',\n",
       " '我们正在推动建立一个多品类消费品牌平台，包含众多产品和知名品牌。我们多样化的产品组合专注于多个消费品类，其中两大核心品类是：洗涤剂及家用护理，以及美发。',\n",
       " '致力于推动标志性品牌和技术创新，以满足消费者需求',\n",
       " '我们的品牌',\n",
       " 'Filter',\n",
       " 'Filter',\n",
       " '区域',\n",
       " '区域',\n",
       " 'Filter',\n",
       " 'Reset',\n",
       " 'No results found, please check the spelling or try another term.',\n",
       " '所有区域',\n",
       " '北美',\n",
       " '波多黎各',\n",
       " '加拿大',\n",
       " '美国',\n",
       " '墨西哥',\n",
       " '拉丁美洲',\n",
       " '???filters.El Salvador.zh???',\n",
       " '阿根廷',\n",
       " '安提瓜和巴布达',\n",
       " '巴巴多斯',\n",
       " '巴哈马群岛',\n",
       " '巴拉圭',\n",
       " '巴拿马',\n",
       " '巴西',\n",
       " '玻利维亚',\n",
       " '伯利兹',\n",
       " '多米尼加',\n",
       " '多米尼加共和国',\n",
       " '厄瓜多尔',\n",
       " '哥伦比亚',\n",
       " '哥斯达黎加',\n",
       " '格林纳达',\n",
       " '古巴',\n",
       " '圭亚那',\n",
       " '海地',\n",
       " '洪都拉斯',\n",
       " '秘鲁',\n",
       " '尼加拉瓜',\n",
       " '圣基茨和尼维斯',\n",
       " '圣卢西亚岛',\n",
       " '圣文森特和格林纳丁斯',\n",
       " '苏里南',\n",
       " '特立尼达和多巴哥',\n",
       " '危地马拉',\n",
       " '委内瑞拉',\n",
       " '乌拉圭',\n",
       " '牙买加',\n",
       " '智利',\n",
       " '欧洲',\n",
       " '阿尔巴尼亚',\n",
       " '阿塞拜疆',\n",
       " '爱尔兰',\n",
       " '爱沙尼亚',\n",
       " '安道尔',\n",
       " '奥地利',\n",
       " '保加利亚',\n",
       " '比利时',\n",
       " '冰岛',\n",
       " '波兰',\n",
       " '波斯尼亚和黑塞哥维那',\n",
       " '丹麦',\n",
       " '德国',\n",
       " '法国',\n",
       " '芬兰',\n",
       " '格鲁吉亚',\n",
       " '荷兰',\n",
       " '黑山共和国',\n",
       " '捷克共和国',\n",
       " '克罗地亚',\n",
       " '拉脱维亚',\n",
       " '立陶宛',\n",
       " '列支敦斯顿',\n",
       " '卢森堡',\n",
       " '罗马尼亚',\n",
       " '马耳他',\n",
       " '马其顿',\n",
       " '摩尔多瓦',\n",
       " '摩纳哥',\n",
       " '挪威',\n",
       " '葡萄牙',\n",
       " '瑞典',\n",
       " '瑞士',\n",
       " '塞尔维亚',\n",
       " '塞浦路斯',\n",
       " '斯洛伐克',\n",
       " '斯洛文尼亚',\n",
       " '乌克兰',\n",
       " '乌兹别克斯坦',\n",
       " '西班牙',\n",
       " '希腊',\n",
       " '匈牙利',\n",
       " '意大利',\n",
       " '英国',\n",
       " '亚太',\n",
       " '???filters.East Timor.zh???',\n",
       " '???filters.Vanuatu.zh???',\n",
       " '阿曼',\n",
       " '阿塞拜疆',\n",
       " '澳大利亚',\n",
       " '巴布亚新几内亚',\n",
       " '巴基斯坦',\n",
       " '巴勒斯坦',\n",
       " '巴林',\n",
       " '不丹',\n",
       " '菲律宾',\n",
       " '格鲁吉亚',\n",
       " '哈萨克斯坦',\n",
       " '韩国',\n",
       " '基里巴斯',\n",
       " '吉尔吉斯斯坦',\n",
       " '柬埔寨',\n",
       " '卡塔尔',\n",
       " '科威特',\n",
       " '老挝',\n",
       " '马尔代夫',\n",
       " '马来西亚',\n",
       " '马绍尔群岛',\n",
       " '蒙古',\n",
       " '孟加拉国',\n",
       " '密克罗尼西亚（联邦国家）',\n",
       " '缅甸',\n",
       " '尼泊尔',\n",
       " '帕劳',\n",
       " '日本',\n",
       " '萨摩亚',\n",
       " '斯里兰卡',\n",
       " '所罗门群岛',\n",
       " '塔吉克斯坦',\n",
       " '泰国',\n",
       " '汤加',\n",
       " '图瓦卢',\n",
       " '土库曼斯坦',\n",
       " '瓦利斯和富图纳群岛',\n",
       " '文莱',\n",
       " '乌兹别克斯坦',\n",
       " '香港特区',\n",
       " '新加坡',\n",
       " '新西兰',\n",
       " '亚美尼亚',\n",
       " '也门',\n",
       " '伊朗',\n",
       " '印度',\n",
       " '印度尼西亚',\n",
       " '越南',\n",
       " '中国大陆地区',\n",
       " '中国台湾',\n",
       " '瑙鲁',\n",
       " '斐济',\n",
       " '非洲，印度&中東',\n",
       " '阿尔及利亚',\n",
       " '阿拉伯联合酋长国',\n",
       " '埃及',\n",
       " '埃塞俄比亚',\n",
       " '安哥拉',\n",
       " '贝宁',\n",
       " '博茨瓦纳',\n",
       " '布基纳法索',\n",
       " '布隆迪',\n",
       " '赤道几内亚',\n",
       " '多哥',\n",
       " '厄立特里亚',\n",
       " '佛得角',\n",
       " '冈比亚',\n",
       " '刚果（民主共和国）',\n",
       " '刚果布拉柴维尔',\n",
       " '吉布提',\n",
       " '几内亚',\n",
       " '几内亚比绍',\n",
       " '加纳',\n",
       " '加蓬',\n",
       " '津巴布韦',\n",
       " '喀麦隆',\n",
       " '科摩罗',\n",
       " '科特迪瓦',\n",
       " '肯尼亚',\n",
       " '莱索托',\n",
       " '黎巴嫩',\n",
       " '卢旺达',\n",
       " '马达加斯加',\n",
       " '马拉维',\n",
       " '马里',\n",
       " '毛里求斯',\n",
       " '毛里塔尼亚',\n",
       " '摩洛哥',\n",
       " '莫桑比克',\n",
       " '纳米比亚',\n",
       " '南非',\n",
       " '南苏丹',\n",
       " '尼日尔',\n",
       " '尼日利亚',\n",
       " '塞内加尔',\n",
       " '塞舌尔',\n",
       " '沙特阿拉伯',\n",
       " '圣多美和普林西比',\n",
       " '斯威士兰',\n",
       " '苏丹',\n",
       " '索马里',\n",
       " '坦桑尼亚',\n",
       " '突尼斯',\n",
       " '土耳其',\n",
       " '乌干达',\n",
       " '以色列',\n",
       " '约旦',\n",
       " '赞比亚',\n",
       " '乍得',\n",
       " '中非共和国',\n",
       " 'Save',\n",
       " '客户部分',\n",
       " '客户部分',\n",
       " 'Filter',\n",
       " 'Reset',\n",
       " '消费者',\n",
       " '专业',\n",
       " 'Save',\n",
       " '产品类型',\n",
       " '产品类型',\n",
       " 'Filter',\n",
       " 'Reset',\n",
       " '空气净化',\n",
       " '身体护理',\n",
       " '餐具清洁',\n",
       " '头发护理',\n",
       " '发色',\n",
       " '发型',\n",
       " '硬表面清洁剂',\n",
       " '杀虫剂',\n",
       " '洗涤剂添加剂',\n",
       " '洗涤剂',\n",
       " '卫生间护理',\n",
       " 'Save',\n",
       " 'No results found, please check the spelling or try another term.',\n",
       " '???internal.link.zh???',\n",
       " '更多信息',\n",
       " '???internal.link.en???',\n",
       " '更多信息',\n",
       " '???internal.link.zh???',\n",
       " '更多信息',\n",
       " '???internal.link.zh???',\n",
       " '更多信息',\n",
       " '???internal.link.zh???',\n",
       " '更多信息',\n",
       " '???internal.link.zh???',\n",
       " '更多信息',\n",
       " '???internal.link.zh???',\n",
       " '更多信息',\n",
       " '???internal.link.zh???',\n",
       " '更多信息',\n",
       " '???internal.link.zh???',\n",
       " '更多信息',\n",
       " '???internal.link.zh???',\n",
       " '更多信息',\n",
       " '加载更多',\n",
       " '联系与服务',\n",
       " '联系我们',\n",
       " '了解我们的品牌与解决方案。',\n",
       " '了解更多',\n",
       " '服务热线',\n",
       " '400-855-1515',\n",
       " '如果发生意外产品接触、误用或其他事件，可随时拨打汉高服务热线。汉高专家将为您提供适当的建议。',\n",
       " '安全数据表',\n",
       " '请在数据库搜索材料安全数据表',\n",
       " '点击详情',\n",
       " '我们的核心品类',\n",
       " '洗涤剂及家用护理',\n",
       " '我们的宝莹（Persil）、妙力（Bref）等品牌在消费者的日常生活中发挥着关键作用。在当前消费者行为转变的推动下，我们鼓励子孙后代选择可持续的产品。为此，我们与消费者和客户合作，在洗衣和厕所清洁等领域开发市场领先的可持续品牌和产品。',\n",
       " '美发',\n",
       " '汉高美发品类活跃于消费品和专业美发业务领域。我们对美发充满热情，施华蔻（Schwarzkopf）、丝蕴（Syoss）等品牌即是对热情的诠释。无论是面向消费者零售的护发、染发或造型护理产品，还是面向专业美发沙龙专供的护发、染发、定型或造型的创新产品，我们的品牌都致力于在质量、安全、可持续和高性能方面塑造产品。',\n",
       " '了解更多有关汉高消费品牌 Henkel Consumer Brands 业务的信息',\n",
       " '关于我们',\n",
       " '了解更多有关我们组织架构、业务和品牌、事实与数据以及就业机会的信息。',\n",
       " '了解更多',\n",
       " '推动可持续发展',\n",
       " '了解我们如何通过确定产品与技术、伙伴关系这两个实现系统性变革的关键方法，从而在整个价值链上产生积极影响。',\n",
       " '了解更多',\n",
       " '研发',\n",
       " '了解更多有关我们研发网络、重点领域和应用知识的信息。',\n",
       " '了解更多',\n",
       " '开放式创新和投资',\n",
       " '了解我们如何与世界各地的外部伙伴合作，共同开发和推动创新的发展。',\n",
       " '了解更多',\n",
       " '了解有关我们全球产品组合的更多信息',\n",
       " '消费品牌相关新闻',\n",
       " '???internal.link.zh???',\n",
       " '2025年4月15日',\n",
       " '-',\n",
       " '新闻稿',\n",
       " '施华蔻专业2025春夏新季风发布会重磅亮相',\n",
       " '汉高消费品牌业务部携旗下品牌，用专业科技串联无限创新力，钜献施华蔻专业2025春夏新季风发布会，力邀精英造型师用专业造“美”，启迪发艺潮流，共同演绎先锋美力“新季风”。',\n",
       " '点击详情',\n",
       " '???internal.link.zh???',\n",
       " '2025年3月6日',\n",
       " '-',\n",
       " '新闻稿',\n",
       " '汉高举办新一届“玛莎·施华蔻女性科学奖”以表彰杰出女性研究者',\n",
       " '汉高举办第四届“玛莎·施华蔻女性科学奖”，以鼓励并支持女性研究者。除了设立主奖项用于表彰在头发头皮科学研究领域做出长期杰出贡献的女性科学家外，本届赛事还设立了“新秀奖”，以鼓励和嘉奖年轻的女性科学家。报名通道于3月8日“国际妇女节”正式开启。通过设立该奖项，汉高再次表明了其致力于认可和支持全球女性研究人员在头发头皮及相关领域的贡献。',\n",
       " '点击详情',\n",
       " '???internal.link.zh???',\n",
       " '2025年3月4日',\n",
       " '-',\n",
       " '新闻稿',\n",
       " '汉高成功收购苏州博克',\n",
       " '汉高成功完成对苏州博克生物科技股份有限公司的收购。此举将显著提升汉高消费品牌在中国的本土制造实力，为其在这一重要市场的可持续创新和长期业务增长奠定了坚实基础。',\n",
       " '点击详情',\n",
       " '???internal.link.zh???',\n",
       " '2024年11月4日',\n",
       " '-',\n",
       " '新闻稿',\n",
       " '创新引领可持续未来，汉高再续中国市场共赢新篇',\n",
       " '11月5日至10日，汉高将携旗下粘合剂技术、消费品牌两大业务部门的创新产品和解决方案，亮相第七届中国国际进口博览会（“进博会”）技术装备展区。六度赴约进博，汉高将以“创新先锋，绿动世代”为主题，携一系列新产品、新应用，展现倡导绿色低碳的核心理念，助力中国以新质生产力促进高质量发展。',\n",
       " '点击详情',\n",
       " '1 / 4',\n",
       " '加载更多',\n",
       " '???internal.link.zh???',\n",
       " 'Global | Change Website',\n",
       " '公司',\n",
       " '关于汉高',\n",
       " '事实与数据',\n",
       " '新闻稿',\n",
       " '年度报告',\n",
       " '年度可持续发展报告（英文）',\n",
       " '品牌及业务',\n",
       " '汉高粘合剂技术 Henkel\\xa0Adhesive Technologies',\n",
       " '汉高消费品牌\\xa0Henkel\\xa0Consumer Brands',\n",
       " '快速链接',\n",
       " '职位申请',\n",
       " '下载中心',\n",
       " '常见问题',\n",
       " '联系汉高',\n",
       " '公司',\n",
       " '关于汉高',\n",
       " '事实与数据',\n",
       " '新闻稿',\n",
       " '年度报告',\n",
       " '年度可持续发展报告（英文）',\n",
       " '品牌及业务',\n",
       " '汉高粘合剂技术 Henkel\\xa0Adhesive Technologies',\n",
       " '汉高消费品牌\\xa0Henkel\\xa0Consumer Brands',\n",
       " '快速链接',\n",
       " '职位申请',\n",
       " '下载中心',\n",
       " '常见问题',\n",
       " '联系汉高',\n",
       " '联系',\n",
       " 'Join us on LinkedIn',\n",
       " 'Join us on Weibo',\n",
       " 'Join us on Tiktok',\n",
       " 'Join us on WeChat',\n",
       " '网站地图',\n",
       " '版权声明',\n",
       " '使用条款',\n",
       " '隐私权声明',\n",
       " 'Cookies',\n",
       " '© 2025 汉高（中国）投资有限公司，上海，中国',\n",
       " '沪ICP备 10028897号-44',\n",
       " '，',\n",
       " '沪公网安备案31011002005663']"
      ]
     },
     "execution_count": 16,
     "metadata": {},
     "output_type": "execute_result"
    }
   ],
   "source": [
    "text.split('\\n')"
   ]
  },
  {
   "cell_type": "code",
   "execution_count": 17,
   "id": "7421ca7e",
   "metadata": {},
   "outputs": [],
   "source": [
    "import numpy as np\n",
    "\n",
    "arr = np.random.randint(1, 31, size=30)"
   ]
  },
  {
   "cell_type": "code",
   "execution_count": 19,
   "id": "413799c2",
   "metadata": {},
   "outputs": [
    {
     "data": {
      "text/plain": [
       "numpy.ndarray"
      ]
     },
     "execution_count": 19,
     "metadata": {},
     "output_type": "execute_result"
    }
   ],
   "source": [
    "type(arr)"
   ]
  },
  {
   "cell_type": "code",
   "execution_count": 25,
   "id": "c60b33ae",
   "metadata": {},
   "outputs": [
    {
     "data": {
      "text/plain": [
       "array([20,  3])"
      ]
     },
     "execution_count": 25,
     "metadata": {},
     "output_type": "execute_result"
    }
   ],
   "source": [
    "arr[[0,2]]"
   ]
  },
  {
   "cell_type": "code",
   "execution_count": 20,
   "id": "3dc1c454",
   "metadata": {},
   "outputs": [
    {
     "data": {
      "text/plain": [
       "list"
      ]
     },
     "execution_count": 20,
     "metadata": {},
     "output_type": "execute_result"
    }
   ],
   "source": [
    "lst = arr.tolist()\n",
    "type(lst)"
   ]
  },
  {
   "cell_type": "code",
   "execution_count": 26,
   "id": "2253b7e0",
   "metadata": {},
   "outputs": [
    {
     "data": {
      "text/plain": [
       "20"
      ]
     },
     "execution_count": 26,
     "metadata": {},
     "output_type": "execute_result"
    }
   ],
   "source": [
    "lst[0]"
   ]
  },
  {
   "cell_type": "code",
   "execution_count": 30,
   "id": "1f2043aa",
   "metadata": {},
   "outputs": [
    {
     "data": {
      "text/plain": [
       "[20, 27, 3]"
      ]
     },
     "execution_count": 30,
     "metadata": {},
     "output_type": "execute_result"
    }
   ],
   "source": [
    "lst[0:3]"
   ]
  },
  {
   "cell_type": "code",
   "execution_count": 40,
   "id": "1fb1aaae",
   "metadata": {},
   "outputs": [
    {
     "data": {
      "text/plain": [
       "array([0.8622439])"
      ]
     },
     "execution_count": 40,
     "metadata": {},
     "output_type": "execute_result"
    }
   ],
   "source": [
    "np.random.randn(1)"
   ]
  },
  {
   "cell_type": "code",
   "execution_count": 43,
   "id": "f2254e9b",
   "metadata": {},
   "outputs": [
    {
     "data": {
      "text/plain": [
       "0.7687635290002891"
      ]
     },
     "execution_count": 43,
     "metadata": {},
     "output_type": "execute_result"
    }
   ],
   "source": [
    "np.random.random()"
   ]
  },
  {
   "cell_type": "code",
   "execution_count": 45,
   "id": "18d5287c",
   "metadata": {},
   "outputs": [
    {
     "data": {
      "text/plain": [
       "array([20, 27,  3,  1, 16, 30, 27, 28, 20, 26, 24,  7, 28, 30, 16, 18, 21,\n",
       "       13, 19, 23,  9, 21,  1, 22,  9, 23,  8, 25,  8, 20])"
      ]
     },
     "execution_count": 45,
     "metadata": {},
     "output_type": "execute_result"
    }
   ],
   "source": [
    "np.array(lst)"
   ]
  }
 ],
 "metadata": {
  "kernelspec": {
   "display_name": "Python 3 (ipykernel)",
   "language": "python",
   "name": "python3"
  },
  "language_info": {
   "codemirror_mode": {
    "name": "ipython",
    "version": 3
   },
   "file_extension": ".py",
   "mimetype": "text/x-python",
   "name": "python",
   "nbconvert_exporter": "python",
   "pygments_lexer": "ipython3",
   "version": "3.11.4"
  }
 },
 "nbformat": 4,
 "nbformat_minor": 5
}
