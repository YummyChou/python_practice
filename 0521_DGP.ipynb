{
 "cells": [
  {
   "cell_type": "code",
   "execution_count": 1,
   "id": "d9418a0d",
   "metadata": {},
   "outputs": [
    {
     "name": "stdout",
     "output_type": "stream",
     "text": [
      "         x1        x2        x3        x4        x5         y\n",
      "0  0.496714  0.926178  1.399355  0.778361 -0.675178  2.084214\n",
      "1 -0.138264  1.909417  0.924634 -0.551186 -0.144519  1.300723\n",
      "2  0.647689 -1.398568  0.059630 -0.818199 -0.792420 -0.309010\n",
      "3  1.523030  0.562969 -0.646937 -0.003374 -0.307962  6.462035\n",
      "4 -0.234153 -0.650643  0.698223 -0.170185 -1.893615 -2.023831\n"
     ]
    }
   ],
   "source": [
    "import pandas as pd\n",
    "import numpy as np\n",
    "\n",
    "# Set random seed for reproducibility\n",
    "np.random.seed(42)\n",
    "\n",
    "# Number of samples\n",
    "n = 500\n",
    "\n",
    "# Generate explanatory variables x1 to x5 from a normal distribution\n",
    "x = pd.DataFrame({\n",
    "    'x1': np.random.randn(n),\n",
    "    'x2': np.random.randn(n),\n",
    "    'x3': np.random.randn(n),\n",
    "    'x4': np.random.randn(n),\n",
    "    'x5': np.random.randn(n)\n",
    "})\n",
    "\n",
    "# True coefficients for the linear model\n",
    "true_coeffs = np.array([3.0, 1.5, -2.0, 0.8, -1.2])  # Adjust coefficients as needed\n",
    "\n",
    "# Generate response variable y based on the linear model\n",
    "x_matrix = x.values\n",
    "y = np.dot(x_matrix, true_coeffs) + np.random.normal(scale=1.0, size=n)\n",
    "\n",
    "# Create DataFrame with x and y\n",
    "data = pd.DataFrame(np.hstack([x_matrix, y.reshape(-1, 1)]), columns=['x1', 'x2', 'x3', 'x4', 'x5', 'y'])\n",
    "\n",
    "# Display the first few rows of the generated dataset\n",
    "print(data.head())"
   ]
  },
  {
   "cell_type": "code",
   "execution_count": 6,
   "id": "55f95c84",
   "metadata": {
    "scrolled": true
   },
   "outputs": [
    {
     "name": "stdout",
     "output_type": "stream",
     "text": [
      "         x1        x2        x3        x4        x5         y\n",
      "0  0.496714  0.926178  1.399355  0.778361 -0.675178  2.084214\n",
      "1 -0.138264  1.909417  0.924634 -0.551186 -0.144519  1.300723\n",
      "2  0.647689 -1.398568  0.059630 -0.818199 -0.792420 -0.309010\n",
      "3  1.523030  0.562969 -0.646937 -0.003374 -0.307962  6.462035\n",
      "4 -0.234153 -0.650643  0.698223 -0.170185 -1.893615 -2.023831\n"
     ]
    }
   ],
   "source": [
    "# Save the DataFrame to an Excel file\n",
    "data.to_csv('data0521.csv', index=False)\n",
    "\n",
    "# Read the Excel file into a new DataFrame\n",
    "dataread = pd.read_csv('data0521.csv')\n",
    "\n",
    "# Display the first few rows of the read-in DataFrame\n",
    "print(dataread.head())"
   ]
  }
 ],
 "metadata": {
  "kernelspec": {
   "display_name": "Python 3 (ipykernel)",
   "language": "python",
   "name": "python3"
  },
  "language_info": {
   "codemirror_mode": {
    "name": "ipython",
    "version": 3
   },
   "file_extension": ".py",
   "mimetype": "text/x-python",
   "name": "python",
   "nbconvert_exporter": "python",
   "pygments_lexer": "ipython3",
   "version": "3.11.4"
  }
 },
 "nbformat": 4,
 "nbformat_minor": 5
}
