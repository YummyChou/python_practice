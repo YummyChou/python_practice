{
 "cells": [
  {
   "cell_type": "code",
   "execution_count": 1,
   "id": "867205d6",
   "metadata": {},
   "outputs": [],
   "source": [
    "import pandas as pd\n",
    "import numpy as np"
   ]
  },
  {
   "cell_type": "code",
   "execution_count": 106,
   "id": "de74579e",
   "metadata": {},
   "outputs": [
    {
     "name": "stdout",
     "output_type": "stream",
     "text": [
      "         x1        x2        x3        x4        x5         y\n",
      "0  0.496714  0.926178  1.399355  0.778361 -0.675178  2.084214\n",
      "1 -0.138264  1.909417  0.924634 -0.551186 -0.144519  1.300723\n",
      "2  0.647689 -1.398568  0.059630 -0.818199 -0.792420 -0.309010\n",
      "3  1.523030  0.562969 -0.646937 -0.003374 -0.307962  6.462035\n",
      "4 -0.234153 -0.650643  0.698223 -0.170185 -1.893615 -2.023831\n",
      "<class 'pandas.core.frame.DataFrame'>\n"
     ]
    }
   ],
   "source": [
    "df = pd.read_csv('data0521.csv')\n",
    "print(df.head())\n",
    "print(type(df))"
   ]
  },
  {
   "cell_type": "code",
   "execution_count": 107,
   "id": "ba2be37e",
   "metadata": {},
   "outputs": [
    {
     "name": "stdout",
     "output_type": "stream",
     "text": [
      "sdsd\n",
      "sdsd\n"
     ]
    }
   ],
   "source": [
    "a = input()\n",
    "print(a)"
   ]
  },
  {
   "cell_type": "code",
   "execution_count": 108,
   "id": "24ad31b0",
   "metadata": {},
   "outputs": [
    {
     "data": {
      "text/html": [
       "<div>\n",
       "<style scoped>\n",
       "    .dataframe tbody tr th:only-of-type {\n",
       "        vertical-align: middle;\n",
       "    }\n",
       "\n",
       "    .dataframe tbody tr th {\n",
       "        vertical-align: top;\n",
       "    }\n",
       "\n",
       "    .dataframe thead th {\n",
       "        text-align: right;\n",
       "    }\n",
       "</style>\n",
       "<table border=\"1\" class=\"dataframe\">\n",
       "  <thead>\n",
       "    <tr style=\"text-align: right;\">\n",
       "      <th></th>\n",
       "      <th>x1</th>\n",
       "      <th>x2</th>\n",
       "      <th>x3</th>\n",
       "      <th>x4</th>\n",
       "      <th>x5</th>\n",
       "      <th>y</th>\n",
       "    </tr>\n",
       "  </thead>\n",
       "  <tbody>\n",
       "    <tr>\n",
       "      <th>262</th>\n",
       "      <td>-3.241267</td>\n",
       "      <td>2.560085</td>\n",
       "      <td>0.538756</td>\n",
       "      <td>0.075434</td>\n",
       "      <td>1.235782</td>\n",
       "      <td>-7.488423</td>\n",
       "    </tr>\n",
       "    <tr>\n",
       "      <th>74</th>\n",
       "      <td>-2.619745</td>\n",
       "      <td>0.829406</td>\n",
       "      <td>0.996267</td>\n",
       "      <td>0.466430</td>\n",
       "      <td>-0.617652</td>\n",
       "      <td>-4.872541</td>\n",
       "    </tr>\n",
       "    <tr>\n",
       "      <th>471</th>\n",
       "      <td>-2.301921</td>\n",
       "      <td>-0.681052</td>\n",
       "      <td>-0.609783</td>\n",
       "      <td>-2.940389</td>\n",
       "      <td>2.363872</td>\n",
       "      <td>-11.965367</td>\n",
       "    </tr>\n",
       "    <tr>\n",
       "      <th>382</th>\n",
       "      <td>-2.123896</td>\n",
       "      <td>-0.489439</td>\n",
       "      <td>2.157308</td>\n",
       "      <td>-1.234349</td>\n",
       "      <td>0.343788</td>\n",
       "      <td>-13.427352</td>\n",
       "    </tr>\n",
       "    <tr>\n",
       "      <th>442</th>\n",
       "      <td>-2.067442</td>\n",
       "      <td>0.650201</td>\n",
       "      <td>0.181022</td>\n",
       "      <td>0.269127</td>\n",
       "      <td>-1.292263</td>\n",
       "      <td>-3.182571</td>\n",
       "    </tr>\n",
       "  </tbody>\n",
       "</table>\n",
       "</div>"
      ],
      "text/plain": [
       "           x1        x2        x3        x4        x5          y\n",
       "262 -3.241267  2.560085  0.538756  0.075434  1.235782  -7.488423\n",
       "74  -2.619745  0.829406  0.996267  0.466430 -0.617652  -4.872541\n",
       "471 -2.301921 -0.681052 -0.609783 -2.940389  2.363872 -11.965367\n",
       "382 -2.123896 -0.489439  2.157308 -1.234349  0.343788 -13.427352\n",
       "442 -2.067442  0.650201  0.181022  0.269127 -1.292263  -3.182571"
      ]
     },
     "execution_count": 108,
     "metadata": {},
     "output_type": "execute_result"
    }
   ],
   "source": [
    "df = df.sort_values(by = 'x1')\n",
    "df.head()"
   ]
  },
  {
   "cell_type": "code",
   "execution_count": 109,
   "id": "8939f0c2",
   "metadata": {},
   "outputs": [],
   "source": [
    "df = df.reset_index(drop=True, inplace=False)"
   ]
  },
  {
   "cell_type": "code",
   "execution_count": 110,
   "id": "ba9579f5",
   "metadata": {
    "scrolled": true
   },
   "outputs": [
    {
     "data": {
      "text/html": [
       "<div>\n",
       "<style scoped>\n",
       "    .dataframe tbody tr th:only-of-type {\n",
       "        vertical-align: middle;\n",
       "    }\n",
       "\n",
       "    .dataframe tbody tr th {\n",
       "        vertical-align: top;\n",
       "    }\n",
       "\n",
       "    .dataframe thead th {\n",
       "        text-align: right;\n",
       "    }\n",
       "</style>\n",
       "<table border=\"1\" class=\"dataframe\">\n",
       "  <thead>\n",
       "    <tr style=\"text-align: right;\">\n",
       "      <th></th>\n",
       "      <th>x1</th>\n",
       "      <th>x2</th>\n",
       "      <th>x3</th>\n",
       "      <th>x4</th>\n",
       "      <th>x5</th>\n",
       "      <th>y</th>\n",
       "    </tr>\n",
       "  </thead>\n",
       "  <tbody>\n",
       "    <tr>\n",
       "      <th>0</th>\n",
       "      <td>-3.241267</td>\n",
       "      <td>2.560085</td>\n",
       "      <td>0.538756</td>\n",
       "      <td>0.075434</td>\n",
       "      <td>1.235782</td>\n",
       "      <td>-7.488423</td>\n",
       "    </tr>\n",
       "    <tr>\n",
       "      <th>1</th>\n",
       "      <td>-2.619745</td>\n",
       "      <td>0.829406</td>\n",
       "      <td>0.996267</td>\n",
       "      <td>0.466430</td>\n",
       "      <td>-0.617652</td>\n",
       "      <td>-4.872541</td>\n",
       "    </tr>\n",
       "    <tr>\n",
       "      <th>2</th>\n",
       "      <td>-2.301921</td>\n",
       "      <td>-0.681052</td>\n",
       "      <td>-0.609783</td>\n",
       "      <td>-2.940389</td>\n",
       "      <td>2.363872</td>\n",
       "      <td>-11.965367</td>\n",
       "    </tr>\n",
       "    <tr>\n",
       "      <th>3</th>\n",
       "      <td>-2.123896</td>\n",
       "      <td>-0.489439</td>\n",
       "      <td>2.157308</td>\n",
       "      <td>-1.234349</td>\n",
       "      <td>0.343788</td>\n",
       "      <td>-13.427352</td>\n",
       "    </tr>\n",
       "    <tr>\n",
       "      <th>4</th>\n",
       "      <td>-2.067442</td>\n",
       "      <td>0.650201</td>\n",
       "      <td>0.181022</td>\n",
       "      <td>0.269127</td>\n",
       "      <td>-1.292263</td>\n",
       "      <td>-3.182571</td>\n",
       "    </tr>\n",
       "  </tbody>\n",
       "</table>\n",
       "</div>"
      ],
      "text/plain": [
       "         x1        x2        x3        x4        x5          y\n",
       "0 -3.241267  2.560085  0.538756  0.075434  1.235782  -7.488423\n",
       "1 -2.619745  0.829406  0.996267  0.466430 -0.617652  -4.872541\n",
       "2 -2.301921 -0.681052 -0.609783 -2.940389  2.363872 -11.965367\n",
       "3 -2.123896 -0.489439  2.157308 -1.234349  0.343788 -13.427352\n",
       "4 -2.067442  0.650201  0.181022  0.269127 -1.292263  -3.182571"
      ]
     },
     "execution_count": 110,
     "metadata": {},
     "output_type": "execute_result"
    }
   ],
   "source": [
    "df.head()"
   ]
  },
  {
   "cell_type": "code",
   "execution_count": 111,
   "id": "7604fd26",
   "metadata": {},
   "outputs": [
    {
     "data": {
      "text/html": [
       "<div>\n",
       "<style scoped>\n",
       "    .dataframe tbody tr th:only-of-type {\n",
       "        vertical-align: middle;\n",
       "    }\n",
       "\n",
       "    .dataframe tbody tr th {\n",
       "        vertical-align: top;\n",
       "    }\n",
       "\n",
       "    .dataframe thead th {\n",
       "        text-align: right;\n",
       "    }\n",
       "</style>\n",
       "<table border=\"1\" class=\"dataframe\">\n",
       "  <thead>\n",
       "    <tr style=\"text-align: right;\">\n",
       "      <th></th>\n",
       "      <th>x1</th>\n",
       "      <th>x2</th>\n",
       "      <th>x3</th>\n",
       "      <th>x4</th>\n",
       "      <th>x5</th>\n",
       "      <th>y</th>\n",
       "    </tr>\n",
       "  </thead>\n",
       "  <tbody>\n",
       "    <tr>\n",
       "      <th>499</th>\n",
       "      <td>3.852731</td>\n",
       "      <td>1.696456</td>\n",
       "      <td>1.749577</td>\n",
       "      <td>-0.974529</td>\n",
       "      <td>-0.000709</td>\n",
       "      <td>11.388366</td>\n",
       "    </tr>\n",
       "    <tr>\n",
       "      <th>498</th>\n",
       "      <td>3.078881</td>\n",
       "      <td>-1.583903</td>\n",
       "      <td>-0.887492</td>\n",
       "      <td>-0.772878</td>\n",
       "      <td>-1.338606</td>\n",
       "      <td>10.167277</td>\n",
       "    </tr>\n",
       "    <tr>\n",
       "      <th>497</th>\n",
       "      <td>2.720169</td>\n",
       "      <td>1.271555</td>\n",
       "      <td>-1.103589</td>\n",
       "      <td>-0.431620</td>\n",
       "      <td>0.006800</td>\n",
       "      <td>11.658114</td>\n",
       "    </tr>\n",
       "    <tr>\n",
       "      <th>496</th>\n",
       "      <td>2.463242</td>\n",
       "      <td>-1.125489</td>\n",
       "      <td>0.495682</td>\n",
       "      <td>-0.077837</td>\n",
       "      <td>-1.002187</td>\n",
       "      <td>5.843963</td>\n",
       "    </tr>\n",
       "    <tr>\n",
       "      <th>495</th>\n",
       "      <td>2.314659</td>\n",
       "      <td>0.307802</td>\n",
       "      <td>-1.187598</td>\n",
       "      <td>0.513106</td>\n",
       "      <td>-0.358340</td>\n",
       "      <td>12.575525</td>\n",
       "    </tr>\n",
       "    <tr>\n",
       "      <th>...</th>\n",
       "      <td>...</td>\n",
       "      <td>...</td>\n",
       "      <td>...</td>\n",
       "      <td>...</td>\n",
       "      <td>...</td>\n",
       "      <td>...</td>\n",
       "    </tr>\n",
       "    <tr>\n",
       "      <th>4</th>\n",
       "      <td>-2.067442</td>\n",
       "      <td>0.650201</td>\n",
       "      <td>0.181022</td>\n",
       "      <td>0.269127</td>\n",
       "      <td>-1.292263</td>\n",
       "      <td>-3.182571</td>\n",
       "    </tr>\n",
       "    <tr>\n",
       "      <th>3</th>\n",
       "      <td>-2.123896</td>\n",
       "      <td>-0.489439</td>\n",
       "      <td>2.157308</td>\n",
       "      <td>-1.234349</td>\n",
       "      <td>0.343788</td>\n",
       "      <td>-13.427352</td>\n",
       "    </tr>\n",
       "    <tr>\n",
       "      <th>2</th>\n",
       "      <td>-2.301921</td>\n",
       "      <td>-0.681052</td>\n",
       "      <td>-0.609783</td>\n",
       "      <td>-2.940389</td>\n",
       "      <td>2.363872</td>\n",
       "      <td>-11.965367</td>\n",
       "    </tr>\n",
       "    <tr>\n",
       "      <th>1</th>\n",
       "      <td>-2.619745</td>\n",
       "      <td>0.829406</td>\n",
       "      <td>0.996267</td>\n",
       "      <td>0.466430</td>\n",
       "      <td>-0.617652</td>\n",
       "      <td>-4.872541</td>\n",
       "    </tr>\n",
       "    <tr>\n",
       "      <th>0</th>\n",
       "      <td>-3.241267</td>\n",
       "      <td>2.560085</td>\n",
       "      <td>0.538756</td>\n",
       "      <td>0.075434</td>\n",
       "      <td>1.235782</td>\n",
       "      <td>-7.488423</td>\n",
       "    </tr>\n",
       "  </tbody>\n",
       "</table>\n",
       "<p>500 rows × 6 columns</p>\n",
       "</div>"
      ],
      "text/plain": [
       "           x1        x2        x3        x4        x5          y\n",
       "499  3.852731  1.696456  1.749577 -0.974529 -0.000709  11.388366\n",
       "498  3.078881 -1.583903 -0.887492 -0.772878 -1.338606  10.167277\n",
       "497  2.720169  1.271555 -1.103589 -0.431620  0.006800  11.658114\n",
       "496  2.463242 -1.125489  0.495682 -0.077837 -1.002187   5.843963\n",
       "495  2.314659  0.307802 -1.187598  0.513106 -0.358340  12.575525\n",
       "..        ...       ...       ...       ...       ...        ...\n",
       "4   -2.067442  0.650201  0.181022  0.269127 -1.292263  -3.182571\n",
       "3   -2.123896 -0.489439  2.157308 -1.234349  0.343788 -13.427352\n",
       "2   -2.301921 -0.681052 -0.609783 -2.940389  2.363872 -11.965367\n",
       "1   -2.619745  0.829406  0.996267  0.466430 -0.617652  -4.872541\n",
       "0   -3.241267  2.560085  0.538756  0.075434  1.235782  -7.488423\n",
       "\n",
       "[500 rows x 6 columns]"
      ]
     },
     "execution_count": 111,
     "metadata": {},
     "output_type": "execute_result"
    }
   ],
   "source": [
    "df.sort_values(by = 'x1',ascending = False)"
   ]
  },
  {
   "cell_type": "code",
   "execution_count": 112,
   "id": "e465a9ef",
   "metadata": {},
   "outputs": [
    {
     "data": {
      "text/html": [
       "<div>\n",
       "<style scoped>\n",
       "    .dataframe tbody tr th:only-of-type {\n",
       "        vertical-align: middle;\n",
       "    }\n",
       "\n",
       "    .dataframe tbody tr th {\n",
       "        vertical-align: top;\n",
       "    }\n",
       "\n",
       "    .dataframe thead th {\n",
       "        text-align: right;\n",
       "    }\n",
       "</style>\n",
       "<table border=\"1\" class=\"dataframe\">\n",
       "  <thead>\n",
       "    <tr style=\"text-align: right;\">\n",
       "      <th></th>\n",
       "      <th>x1</th>\n",
       "      <th>x2</th>\n",
       "      <th>x3</th>\n",
       "      <th>x4</th>\n",
       "      <th>x5</th>\n",
       "      <th>y</th>\n",
       "    </tr>\n",
       "  </thead>\n",
       "  <tbody>\n",
       "    <tr>\n",
       "      <th>0</th>\n",
       "      <td>-3.241267</td>\n",
       "      <td>2.560085</td>\n",
       "      <td>0.538756</td>\n",
       "      <td>0.075434</td>\n",
       "      <td>1.235782</td>\n",
       "      <td>-7.488423</td>\n",
       "    </tr>\n",
       "    <tr>\n",
       "      <th>1</th>\n",
       "      <td>-2.619745</td>\n",
       "      <td>0.829406</td>\n",
       "      <td>0.996267</td>\n",
       "      <td>0.466430</td>\n",
       "      <td>-0.617652</td>\n",
       "      <td>-4.872541</td>\n",
       "    </tr>\n",
       "    <tr>\n",
       "      <th>2</th>\n",
       "      <td>-2.301921</td>\n",
       "      <td>-0.681052</td>\n",
       "      <td>-0.609783</td>\n",
       "      <td>-2.940389</td>\n",
       "      <td>2.363872</td>\n",
       "      <td>-11.965367</td>\n",
       "    </tr>\n",
       "    <tr>\n",
       "      <th>3</th>\n",
       "      <td>-2.123896</td>\n",
       "      <td>-0.489439</td>\n",
       "      <td>2.157308</td>\n",
       "      <td>-1.234349</td>\n",
       "      <td>0.343788</td>\n",
       "      <td>-13.427352</td>\n",
       "    </tr>\n",
       "    <tr>\n",
       "      <th>4</th>\n",
       "      <td>-2.067442</td>\n",
       "      <td>0.650201</td>\n",
       "      <td>0.181022</td>\n",
       "      <td>0.269127</td>\n",
       "      <td>-1.292263</td>\n",
       "      <td>-3.182571</td>\n",
       "    </tr>\n",
       "  </tbody>\n",
       "</table>\n",
       "</div>"
      ],
      "text/plain": [
       "         x1        x2        x3        x4        x5          y\n",
       "0 -3.241267  2.560085  0.538756  0.075434  1.235782  -7.488423\n",
       "1 -2.619745  0.829406  0.996267  0.466430 -0.617652  -4.872541\n",
       "2 -2.301921 -0.681052 -0.609783 -2.940389  2.363872 -11.965367\n",
       "3 -2.123896 -0.489439  2.157308 -1.234349  0.343788 -13.427352\n",
       "4 -2.067442  0.650201  0.181022  0.269127 -1.292263  -3.182571"
      ]
     },
     "execution_count": 112,
     "metadata": {},
     "output_type": "execute_result"
    }
   ],
   "source": [
    "df.head()"
   ]
  },
  {
   "cell_type": "code",
   "execution_count": 113,
   "id": "d2ea1ec6",
   "metadata": {},
   "outputs": [],
   "source": [
    "ind = df[df['x2'] < -1].index"
   ]
  },
  {
   "cell_type": "code",
   "execution_count": 114,
   "id": "a07c58e2",
   "metadata": {},
   "outputs": [
    {
     "data": {
      "text/plain": [
       "0      2.560085\n",
       "1      0.829406\n",
       "2     -0.681052\n",
       "3     -0.489439\n",
       "4      0.650201\n",
       "         ...   \n",
       "495    0.307802\n",
       "496   -1.125489\n",
       "497    1.271555\n",
       "498   -1.583903\n",
       "499    1.696456\n",
       "Name: x2, Length: 500, dtype: float64"
      ]
     },
     "execution_count": 114,
     "metadata": {},
     "output_type": "execute_result"
    }
   ],
   "source": [
    "df['x2']"
   ]
  },
  {
   "cell_type": "code",
   "execution_count": 115,
   "id": "e011112e",
   "metadata": {},
   "outputs": [],
   "source": [
    "df['x2'][ind] = 0"
   ]
  },
  {
   "cell_type": "code",
   "execution_count": 116,
   "id": "66403393",
   "metadata": {},
   "outputs": [
    {
     "data": {
      "text/plain": [
       "12     0.0\n",
       "22     0.0\n",
       "27     0.0\n",
       "33     0.0\n",
       "40     0.0\n",
       "      ... \n",
       "474    0.0\n",
       "478    0.0\n",
       "481    0.0\n",
       "496    0.0\n",
       "498    0.0\n",
       "Name: x2, Length: 71, dtype: float64"
      ]
     },
     "execution_count": 116,
     "metadata": {},
     "output_type": "execute_result"
    }
   ],
   "source": [
    "df['x2'][ind]"
   ]
  },
  {
   "cell_type": "code",
   "execution_count": 120,
   "id": "a56bf20b",
   "metadata": {},
   "outputs": [],
   "source": [
    "df['x2'][ind] = pd.NA"
   ]
  },
  {
   "cell_type": "code",
   "execution_count": 121,
   "id": "1d75f3e1",
   "metadata": {},
   "outputs": [
    {
     "data": {
      "text/plain": [
       "12    NaN\n",
       "22    NaN\n",
       "27    NaN\n",
       "33    NaN\n",
       "40    NaN\n",
       "       ..\n",
       "474   NaN\n",
       "478   NaN\n",
       "481   NaN\n",
       "496   NaN\n",
       "498   NaN\n",
       "Name: x2, Length: 71, dtype: float64"
      ]
     },
     "execution_count": 121,
     "metadata": {},
     "output_type": "execute_result"
    }
   ],
   "source": [
    "df['x2'][ind]"
   ]
  },
  {
   "cell_type": "code",
   "execution_count": 143,
   "id": "48a73db0",
   "metadata": {},
   "outputs": [],
   "source": [
    "index_1 = pd.Series()\n",
    "flag = 0\n",
    "for i in df.index.tolist():\n",
    "    index_1[flag] = (i not in ind.tolist())\n",
    "    flag += 1"
   ]
  },
  {
   "cell_type": "code",
   "execution_count": 151,
   "id": "c546e2eb",
   "metadata": {},
   "outputs": [],
   "source": [
    "df['x2'] = df['x2'].fillna(np.mean(df['x2'][index_1]))"
   ]
  },
  {
   "cell_type": "code",
   "execution_count": 152,
   "id": "7b1bc6a5",
   "metadata": {},
   "outputs": [
    {
     "data": {
      "text/plain": [
       "12     0.286243\n",
       "22     0.286243\n",
       "27     0.286243\n",
       "33     0.286243\n",
       "40     0.286243\n",
       "         ...   \n",
       "474    0.286243\n",
       "478    0.286243\n",
       "481    0.286243\n",
       "496    0.286243\n",
       "498    0.286243\n",
       "Name: x2, Length: 71, dtype: float64"
      ]
     },
     "execution_count": 152,
     "metadata": {},
     "output_type": "execute_result"
    }
   ],
   "source": [
    "df['x2'][ind]"
   ]
  },
  {
   "cell_type": "code",
   "execution_count": 153,
   "id": "95af16be",
   "metadata": {},
   "outputs": [
    {
     "data": {
      "text/plain": [
       "0      2.560085\n",
       "1      0.829406\n",
       "2     -0.681052\n",
       "3     -0.489439\n",
       "4      0.650201\n",
       "         ...   \n",
       "495    0.307802\n",
       "496    0.286243\n",
       "497    1.271555\n",
       "498    0.286243\n",
       "499    1.696456\n",
       "Name: x2, Length: 500, dtype: float64"
      ]
     },
     "execution_count": 153,
     "metadata": {},
     "output_type": "execute_result"
    }
   ],
   "source": [
    "df['x2']"
   ]
  }
 ],
 "metadata": {
  "kernelspec": {
   "display_name": "Python 3 (ipykernel)",
   "language": "python",
   "name": "python3"
  },
  "language_info": {
   "codemirror_mode": {
    "name": "ipython",
    "version": 3
   },
   "file_extension": ".py",
   "mimetype": "text/x-python",
   "name": "python",
   "nbconvert_exporter": "python",
   "pygments_lexer": "ipython3",
   "version": "3.11.4"
  }
 },
 "nbformat": 4,
 "nbformat_minor": 5
}
